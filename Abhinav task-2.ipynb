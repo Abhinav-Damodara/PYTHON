{
 "cells": [
  {
   "cell_type": "markdown",
   "metadata": {},
   "source": [
    "### Linear Search"
   ]
  },
  {
   "cell_type": "code",
   "execution_count": 2,
   "metadata": {},
   "outputs": [
    {
     "name": "stdout",
     "output_type": "stream",
     "text": [
      "element found at index: 4\n"
     ]
    }
   ],
   "source": [
    "def linear(items, n, key):\n",
    "    for i in range(0, n):\n",
    "        if(items[i]==key):\n",
    "            return i\n",
    "    return -1\n",
    "items = [600, 357, 347, 348, 1487, 1359, 475, 213, 232]\n",
    "key = int(input('Enter the number to find: '))\n",
    "n = len(items)\n",
    "ref = linear(items, n, key)\n",
    "if ref==-1:\n",
    "    print('Element not found')\n",
    "else:\n",
    "    print('element found at index:',ref)"
   ]
  },
  {
   "cell_type": "markdown",
   "metadata": {},
   "source": [
    "### Binary Search"
   ]
  },
  {
   "cell_type": "code",
   "execution_count": 4,
   "metadata": {},
   "outputs": [
    {
     "name": "stdout",
     "output_type": "stream",
     "text": [
      "The number Exist\n"
     ]
    }
   ],
   "source": [
    "binary = list(map(int, input('list Items:').split()))\n",
    "binary.sort\n",
    "n = int(input(\"Enter number to be found\"))\n",
    "flag = 0\n",
    "low = 0\n",
    "high = len(binary)-1\n",
    "while low <= high:\n",
    "    mid = (low+high)//2\n",
    "    if binary[mid]==n:\n",
    "        flag = 1\n",
    "        break\n",
    "    elif binary[mid]<n:\n",
    "        low = mid+1\n",
    "    else:\n",
    "        high = mid-1\n",
    "    \n",
    "if flag==1:\n",
    "    print('The number Exist')\n",
    "else:\n",
    "    print('The number Does not Exist')"
   ]
  }
 ],
 "metadata": {
  "kernelspec": {
   "display_name": "Python 3.10.4 64-bit",
   "language": "python",
   "name": "python3"
  },
  "language_info": {
   "codemirror_mode": {
    "name": "ipython",
    "version": 3
   },
   "file_extension": ".py",
   "mimetype": "text/x-python",
   "name": "python",
   "nbconvert_exporter": "python",
   "pygments_lexer": "ipython3",
   "version": "3.10.4"
  },
  "orig_nbformat": 4,
  "vscode": {
   "interpreter": {
    "hash": "bab1961f13d988cd79cc0f97465e234182f95082ef6fd3963def7728125b7dac"
   }
  }
 },
 "nbformat": 4,
 "nbformat_minor": 2
}
