{
 "cells": [
  {
   "cell_type": "markdown",
   "metadata": {},
   "source": [
    "##### Read the entire text file"
   ]
  },
  {
   "cell_type": "code",
   "execution_count": 9,
   "metadata": {},
   "outputs": [
    {
     "name": "stdout",
     "output_type": "stream",
     "text": [
      "A boy named John was upset. His father found him crying.\n",
      "When his father asked John why he was crying, he said that he had a lot of problems in his life.\n",
      "His father simply smiled and asked him to get a potato, an egg, and some coffee beans. He placed them in three bowls.\n",
      "He then asked John to feel their texture and then fill each bowl with water.\n",
      "John did as he had been told. His father then boiled all three bowls.\n",
      "Once the bowls had cooled down, Johnâ€™s father asked him to feel the texture of the different food items again.\n",
      "John noticed that the potato had become soft and its skin was peeling off easily; the egg had become harder;\n",
      "the coffee beans had completely changed and filled the bowl of water with aroma and flavour.\n"
     ]
    }
   ],
   "source": [
    "abhinav = open(\"D:\\story.txt\")\n",
    "print(abhinav.read())"
   ]
  },
  {
   "cell_type": "markdown",
   "metadata": {},
   "source": [
    "##### Read the first n lines of a file"
   ]
  },
  {
   "cell_type": "code",
   "execution_count": 8,
   "metadata": {},
   "outputs": [
    {
     "name": "stdout",
     "output_type": "stream",
     "text": [
      "A boy named John was upset. His father found him crying.\n",
      "\n",
      "When his father asked John why he was crying, he said that he had a lot of problems in his life.\n",
      "\n",
      "His father simply smiled and asked him to get a potato, an egg, and some coffee beans. He placed them in three bowls.\n",
      "\n"
     ]
    }
   ],
   "source": [
    "abhinav = open(r\"D:\\story.txt\")\n",
    "print(abhinav.readline())\n",
    "print(abhinav.readline())\n",
    "print(abhinav.readline())"
   ]
  },
  {
   "cell_type": "markdown",
   "metadata": {},
   "source": [
    "##### Analysing the no of characters, words and lines"
   ]
  },
  {
   "cell_type": "code",
   "execution_count": 7,
   "metadata": {},
   "outputs": [
    {
     "name": "stdout",
     "output_type": "stream",
     "text": [
      "8 140 733\n"
     ]
    }
   ],
   "source": [
    "abhinav = open(r\"D:\\story.txt\")\n",
    "lines=0\n",
    "words=0\n",
    "characters=0\n",
    "for x in abhinav:\n",
    "    lines=lines+1\n",
    "    W=x.split()\n",
    "    words=words+len(W)\n",
    "    characters=characters+len(x)\n",
    "print(lines,words,characters)\n"
   ]
  },
  {
   "cell_type": "markdown",
   "metadata": {},
   "source": [
    "##### To Write a list to a file"
   ]
  },
  {
   "cell_type": "code",
   "execution_count": 15,
   "metadata": {},
   "outputs": [
    {
     "name": "stdout",
     "output_type": "stream",
     "text": [
      "18\n"
     ]
    }
   ],
   "source": [
    "abhinav = [\"Hi This Is Abhinav\"]\n",
    "for v in abhinav:\n",
    "    h1=open(r\"D:\\story.txt\",\"a\")\n",
    "    print(h1.write(v))\n",
    "    h1.close()"
   ]
  },
  {
   "cell_type": "markdown",
   "metadata": {},
   "source": [
    "##### Reading a csv file and displaying it"
   ]
  },
  {
   "cell_type": "code",
   "execution_count": 5,
   "metadata": {},
   "outputs": [
    {
     "name": "stdout",
     "output_type": "stream",
     "text": [
      "        Name  Age Gender  Phone Number       Address                   E-Mail Having Passport? Lisence\n",
      "0    Abhinav   17      M    1234567890  Akkayyapalem        admodar2@gitam.in              YES      NO\n",
      "1     Vedesh   18      M    1234567890  Akkayyapalem         vemandi@gitam.in              YES     YES\n",
      "2    Meghana    5      F    1234567890  Madhavadhara        msomavar@gitam.in               NO     YES\n",
      "3  Chaitanya   18      M    6549871231    Madhurwada  Chaitanyakumar@gitam.in              YES      NO\n",
      "4    Roshini   18      F    1234567890           NAD         roshini@gitam.in               NO      NO\n"
     ]
    }
   ],
   "source": [
    "import pandas as pd\n",
    "a = pd.read_csv('C:/Users/Abhinav/Desktop/passport.csv')\n",
    "print(a.to_string())"
   ]
  },
  {
   "cell_type": "markdown",
   "metadata": {},
   "source": [
    "##### Printing a particular row/coloumn"
   ]
  },
  {
   "cell_type": "code",
   "execution_count": 18,
   "metadata": {},
   "outputs": [
    {
     "name": "stdout",
     "output_type": "stream",
     "text": [
      "Name                          Abhinav\n",
      "Age                                17\n",
      "Gender                              M\n",
      "Phone Number               1234567890\n",
      "Address                  Akkayyapalem\n",
      "E-mail              admodar2@gitam.in\n",
      "Having Passport?                  YES\n",
      "Lisence                            NO\n",
      "salary                         230000\n"
     ]
    }
   ],
   "source": [
    "import pandas as pd\n",
    "abhinav = pd.read_csv('passport.csv')\n",
    "print(abhinav.loc[0].to_string())"
   ]
  },
  {
   "cell_type": "markdown",
   "metadata": {},
   "source": [
    "##### Displaying Max Rows"
   ]
  },
  {
   "cell_type": "code",
   "execution_count": 27,
   "metadata": {},
   "outputs": [
    {
     "name": "stdout",
     "output_type": "stream",
     "text": [
      "         Name   Age Gender  Phone Number       Address                   E-Mail Having Passport? Lisence\n",
      "0     Abhinav  18.0      M  1.234568e+09  Akkayyapalem        admodar2@gitam.in              YES      NO\n",
      "1      Vedesh  18.0      M  1.234568e+09  Akkayyapalem         vemandi@gitam.in              YES     YES\n",
      "2     Meghana  18.0      F  1.234568e+09  Madhavadhara        msomavar@gitam.in               NO     YES\n",
      "3   Chaitanya  18.0      M  6.549871e+09    Madhurwada  Chaitanyakumar@gitam.in              YES      NO\n",
      "4     Roshini  18.0      F  1.234568e+09           NAD         roshini@gitam.in               NO      NO\n",
      "5     Abhinav  18.0      M  1.234568e+09  Akkayyapalem        admodar2@gitam.in              YES     YES\n",
      "6     Abhinav  18.0      M  1.234568e+09  Akkayyapalem        admodar2@gitam.in              YES      NO\n",
      "7     Abhinav  18.0      M  1.234568e+09  Akkayyapalem        admodar2@gitam.in              YES      NO\n",
      "8     Abhinav  18.0      M  1.234568e+09  Akkayyapalem        admodar2@gitam.in              YES     YES\n",
      "9     Abhinav  18.0      M  1.234568e+09  Akkayyapalem        admodar2@gitam.in               NO      NO\n",
      "10    Abhinav  18.0      M  1.234568e+09  Akkayyapalem        admodar2@gitam.in               NO      NO\n",
      "11    Abhinav  18.0      M  1.234568e+09  Akkayyapalem        admodar2@gitam.in              YES      NO\n",
      "12    Abhinav  18.0      M  1.234568e+09  Akkayyapalem        admodar2@gitam.in               NO     YES\n",
      "13    Abhinav  18.0      M  1.234568e+09  Akkayyapalem        admodar2@gitam.in               NO     YES\n",
      "14    Abhinav  18.0      M  1.234568e+09  Akkayyapalem        admodar2@gitam.in               NO     YES\n",
      "15    Abhinav  18.0      M  1.234568e+09  Akkayyapalem        admodar2@gitam.in              YES      NO\n",
      "16    Abhinav  18.0      M  1.234568e+09  Akkayyapalem        admodar2@gitam.in              YES      NO\n",
      "17    Abhinav  18.0      M  1.234568e+09  Akkayyapalem        admodar2@gitam.in              YES     YES\n",
      "18    Abhinav  18.0      M  1.234568e+09  Akkayyapalem        admodar2@gitam.in               NO      NO\n",
      "19        NaN   NaN    NaN           NaN           NaN                      NaN              NaN     NaN\n",
      "20        NaN   NaN    NaN           NaN           NaN                      NaN              NaN     NaN\n",
      "21        NaN   NaN    NaN           NaN           NaN                      NaN              NaN     NaN\n",
      "22        NaN   NaN    NaN           NaN           NaN                      NaN              NaN     NaN\n",
      "9999\n"
     ]
    }
   ],
   "source": [
    "import pandas as pd\n",
    "\n",
    "pd.options.display.max_rows = 9999\n",
    "df = pd.read_csv('C:/Users/Abhinav/Desktop/Book1.csv')\n",
    "print(df.to_string())\n",
    "print(pd.options.display.max_rows)"
   ]
  },
  {
   "cell_type": "markdown",
   "metadata": {},
   "source": [
    "##### Drop all Duplicate Values"
   ]
  },
  {
   "cell_type": "code",
   "execution_count": 3,
   "metadata": {},
   "outputs": [
    {
     "name": "stdout",
     "output_type": "stream",
     "text": [
      "        Name  Age Gender  Phone Number       Address                   E-mail Having Passport? Lisence  salary \n",
      "0    Abhinav   17      M    1234567890  Akkayyapalem        admodar2@gitam.in              YES      NO   230000\n",
      "1     Vedesh   18      M    1234567890  Akkayyapalem         vemandi@gitam.in              YES     YES   250000\n",
      "2    Meghana    5      F    1234567890  Madhavadhara        msomavar@gitam.in               NO     YES    90000\n",
      "3  Chaitanya   18      M    6549871231    Madhurwada  Chaitanyakumar@gitam.in              YES      NO   100000\n",
      "4    Roshini   18      F    1234567890           NAD         roshini@gitam.in               NO      NO    50000\n"
     ]
    }
   ],
   "source": [
    "import pandas as pd\n",
    "df = pd.read_csv('passport.csv')\n",
    "de = df.drop_duplicates(subset=\"Name\", keep=\"last\")\n",
    "print(de.to_string())"
   ]
  },
  {
   "cell_type": "code",
   "execution_count": 18,
   "metadata": {},
   "outputs": [
    {
     "name": "stdout",
     "output_type": "stream",
     "text": [
      "        Name  Age Gender  Phone Number       Address                   E-Mail Having Passport? Lisence\n",
      "0    Abhinav   17      M    1234567890  Akkayyapalem        admodar2@gitam.in              YES      NO\n",
      "1     Vedesh   18      M    1234567890  Akkayyapalem         vemandi@gitam.in              YES     YES\n",
      "2    Meghana    5      F    1234567890  Madhavadhara        msomavar@gitam.in               NO     YES\n",
      "3  Chaitanya   18      M    6549871231    Madhurwada  Chaitanyakumar@gitam.in              YES      NO\n",
      "4    Roshini   18      F    1234567890           NAD         roshini@gitam.in               NO      NO\n"
     ]
    }
   ],
   "source": [
    "import pandas as pd\n",
    "abhi = pd.read_csv('C:/Users/Abhinav/Desktop/passport.csv')\n",
    "print(abhi.to_string())"
   ]
  },
  {
   "cell_type": "markdown",
   "metadata": {},
   "source": [
    "##### Finding Min Max and Average in Excel Sheet"
   ]
  },
  {
   "cell_type": "code",
   "execution_count": 19,
   "metadata": {},
   "outputs": [
    {
     "data": {
      "text/html": [
       "<div>\n",
       "<style scoped>\n",
       "    .dataframe tbody tr th:only-of-type {\n",
       "        vertical-align: middle;\n",
       "    }\n",
       "\n",
       "    .dataframe tbody tr th {\n",
       "        vertical-align: top;\n",
       "    }\n",
       "\n",
       "    .dataframe thead th {\n",
       "        text-align: right;\n",
       "    }\n",
       "</style>\n",
       "<table border=\"1\" class=\"dataframe\">\n",
       "  <thead>\n",
       "    <tr style=\"text-align: right;\">\n",
       "      <th></th>\n",
       "      <th>Phone Number</th>\n",
       "      <th>Age</th>\n",
       "    </tr>\n",
       "  </thead>\n",
       "  <tbody>\n",
       "    <tr>\n",
       "      <th>min</th>\n",
       "      <td>1.234568e+09</td>\n",
       "      <td>5.0</td>\n",
       "    </tr>\n",
       "    <tr>\n",
       "      <th>max</th>\n",
       "      <td>6.549871e+09</td>\n",
       "      <td>18.0</td>\n",
       "    </tr>\n",
       "    <tr>\n",
       "      <th>sum</th>\n",
       "      <td>NaN</td>\n",
       "      <td>76.0</td>\n",
       "    </tr>\n",
       "    <tr>\n",
       "      <th>average</th>\n",
       "      <td>NaN</td>\n",
       "      <td>15.2</td>\n",
       "    </tr>\n",
       "  </tbody>\n",
       "</table>\n",
       "</div>"
      ],
      "text/plain": [
       "         Phone Number   Age\n",
       "min      1.234568e+09   5.0\n",
       "max      6.549871e+09  18.0\n",
       "sum               NaN  76.0\n",
       "average           NaN  15.2"
      ]
     },
     "execution_count": 19,
     "metadata": {},
     "output_type": "execute_result"
    }
   ],
   "source": [
    "import pandas as pd\n",
    "abhi = pd.read_csv('passport.csv')\n",
    "abhi.aggregate({'Phone Number':['min','max'],'Age':['min','max','sum','average']})"
   ]
  },
  {
   "cell_type": "markdown",
   "metadata": {},
   "source": [
    "##### Groupting similar data using groupby"
   ]
  },
  {
   "cell_type": "code",
   "execution_count": 27,
   "metadata": {},
   "outputs": [
    {
     "data": {
      "text/html": [
       "<div>\n",
       "<style scoped>\n",
       "    .dataframe tbody tr th:only-of-type {\n",
       "        vertical-align: middle;\n",
       "    }\n",
       "\n",
       "    .dataframe tbody tr th {\n",
       "        vertical-align: top;\n",
       "    }\n",
       "\n",
       "    .dataframe thead th {\n",
       "        text-align: right;\n",
       "    }\n",
       "</style>\n",
       "<table border=\"1\" class=\"dataframe\">\n",
       "  <thead>\n",
       "    <tr style=\"text-align: right;\">\n",
       "      <th></th>\n",
       "      <th>Name</th>\n",
       "      <th>Age</th>\n",
       "      <th>Gender</th>\n",
       "      <th>Phone Number</th>\n",
       "      <th>Address</th>\n",
       "      <th>E-mail</th>\n",
       "      <th>Having Passport?</th>\n",
       "      <th>Lisence</th>\n",
       "    </tr>\n",
       "    <tr>\n",
       "      <th>Salary</th>\n",
       "      <th></th>\n",
       "      <th></th>\n",
       "      <th></th>\n",
       "      <th></th>\n",
       "      <th></th>\n",
       "      <th></th>\n",
       "      <th></th>\n",
       "      <th></th>\n",
       "    </tr>\n",
       "  </thead>\n",
       "  <tbody>\n",
       "    <tr>\n",
       "      <th>50000</th>\n",
       "      <td>Roshini</td>\n",
       "      <td>18</td>\n",
       "      <td>F</td>\n",
       "      <td>1234567890</td>\n",
       "      <td>NAD</td>\n",
       "      <td>roshini@gitam.in</td>\n",
       "      <td>NO</td>\n",
       "      <td>NO</td>\n",
       "    </tr>\n",
       "    <tr>\n",
       "      <th>90000</th>\n",
       "      <td>Meghana</td>\n",
       "      <td>5</td>\n",
       "      <td>F</td>\n",
       "      <td>1234567890</td>\n",
       "      <td>Madhavadhara</td>\n",
       "      <td>msomavar@gitam.in</td>\n",
       "      <td>NO</td>\n",
       "      <td>YES</td>\n",
       "    </tr>\n",
       "    <tr>\n",
       "      <th>100000</th>\n",
       "      <td>Chaitanya</td>\n",
       "      <td>18</td>\n",
       "      <td>M</td>\n",
       "      <td>6549871231</td>\n",
       "      <td>Madhurwada</td>\n",
       "      <td>Chaitanyakumar@gitam.in</td>\n",
       "      <td>YES</td>\n",
       "      <td>NO</td>\n",
       "    </tr>\n",
       "    <tr>\n",
       "      <th>230000</th>\n",
       "      <td>Abhinav</td>\n",
       "      <td>17</td>\n",
       "      <td>M</td>\n",
       "      <td>1234567890</td>\n",
       "      <td>Akkayyapalem</td>\n",
       "      <td>admodar2@gitam.in</td>\n",
       "      <td>YES</td>\n",
       "      <td>NO</td>\n",
       "    </tr>\n",
       "    <tr>\n",
       "      <th>250000</th>\n",
       "      <td>Vedesh</td>\n",
       "      <td>18</td>\n",
       "      <td>M</td>\n",
       "      <td>1234567890</td>\n",
       "      <td>Akkayyapalem</td>\n",
       "      <td>vemandi@gitam.in</td>\n",
       "      <td>YES</td>\n",
       "      <td>YES</td>\n",
       "    </tr>\n",
       "  </tbody>\n",
       "</table>\n",
       "</div>"
      ],
      "text/plain": [
       "             Name  Age Gender  Phone Number       Address  \\\n",
       "Salary                                                      \n",
       "50000     Roshini   18      F    1234567890           NAD   \n",
       "90000     Meghana    5      F    1234567890  Madhavadhara   \n",
       "100000  Chaitanya   18      M    6549871231    Madhurwada   \n",
       "230000    Abhinav   17      M    1234567890  Akkayyapalem   \n",
       "250000     Vedesh   18      M    1234567890  Akkayyapalem   \n",
       "\n",
       "                         E-mail Having Passport? Lisence  \n",
       "Salary                                                    \n",
       "50000          roshini@gitam.in               NO      NO  \n",
       "90000         msomavar@gitam.in               NO     YES  \n",
       "100000  Chaitanyakumar@gitam.in              YES      NO  \n",
       "230000        admodar2@gitam.in              YES      NO  \n",
       "250000         vemandi@gitam.in              YES     YES  "
      ]
     },
     "execution_count": 27,
     "metadata": {},
     "output_type": "execute_result"
    }
   ],
   "source": [
    "import pandas as pd\n",
    "\n",
    "df = pd.read_csv('passport.csv')\n",
    "\n",
    "gkk = df.groupby(['Salary'])\n",
    "\n",
    "gkk.first()"
   ]
  },
  {
   "cell_type": "markdown",
   "metadata": {},
   "source": [
    "##### Read Specific coloumns from an excel file"
   ]
  },
  {
   "cell_type": "code",
   "execution_count": 19,
   "metadata": {},
   "outputs": [
    {
     "name": "stdout",
     "output_type": "stream",
     "text": [
      "        Name  Age\n",
      "0    Abhinav   17\n",
      "1     Vedesh   18\n",
      "2    Meghana    5\n",
      "3  Chaitanya   18\n",
      "4    Roshini   18\n"
     ]
    }
   ],
   "source": [
    "import pandas as pd\n",
    "cols=[0,1]\n",
    "abhinav = pd.read_csv('C:/Users/Abhinav/Desktop/passport.csv',usecols=cols)\n",
    "print(abhinav)"
   ]
  },
  {
   "cell_type": "markdown",
   "metadata": {},
   "source": [
    "##### Read the numbers from a file and seperate even and odd"
   ]
  },
  {
   "cell_type": "code",
   "execution_count": 21,
   "metadata": {},
   "outputs": [
    {
     "name": "stdout",
     "output_type": "stream",
     "text": [
      "Even numbers:\n",
      "12\n",
      "56\n",
      "988\n",
      "458\n",
      "122\n",
      "210\n",
      "Odd numbers:\n",
      "21\n",
      "65\n",
      "95\n",
      "59\n",
      "789\n",
      "8561\n",
      "321\n",
      "121\n",
      "\n"
     ]
    }
   ],
   "source": [
    "abhinav = open(r\"D:/module3/number.txt\")\n",
    "evennumbers=open('D:\\module3\\even.txt','w')\n",
    "oddnumbers=open('D:\\module3\\odd.txt','w')\n",
    "evennumbers.write('Even numbers:\\n')\n",
    "oddnumbers.write('Odd numbers:\\n')\n",
    "for i in abhinav:\n",
    "  if int(i)%2==0:\n",
    "    evennumbers=open('D:\\module3\\even.txt','a')\n",
    "    evennumbers.write(i)\n",
    "  else:\n",
    "    oddnumbers=open('D:\\module3\\odd.txt','a')\n",
    "    oddnumbers.write(i)\n",
    "evennumbers.close()\n",
    "oddnumbers.close()\n",
    "evennumbers=open('D:\\module3\\even.txt','r')\n",
    "print(evennumbers.read())\n",
    "evennumbers.close()\n",
    "oddnumbers=open('D:\\module3\\odd.txt','r')\n",
    "print(oddnumbers.read())\n",
    "oddnumbers.close()"
   ]
  }
 ],
 "metadata": {
  "interpreter": {
   "hash": "bab1961f13d988cd79cc0f97465e234182f95082ef6fd3963def7728125b7dac"
  },
  "kernelspec": {
   "display_name": "Python 3.10.4 64-bit",
   "language": "python",
   "name": "python3"
  },
  "language_info": {
   "codemirror_mode": {
    "name": "ipython",
    "version": 3
   },
   "file_extension": ".py",
   "mimetype": "text/x-python",
   "name": "python",
   "nbconvert_exporter": "python",
   "pygments_lexer": "ipython3",
   "version": "3.10.4"
  },
  "orig_nbformat": 4
 },
 "nbformat": 4,
 "nbformat_minor": 2
}
