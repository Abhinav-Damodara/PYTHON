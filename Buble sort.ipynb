{
 "cells": [
  {
   "cell_type": "markdown",
   "metadata": {},
   "source": [
    "### Bubble Sort"
   ]
  },
  {
   "cell_type": "code",
   "execution_count": 1,
   "metadata": {},
   "outputs": [
    {
     "name": "stdout",
     "output_type": "stream",
     "text": [
      "Sorted Array: \n",
      "[12, 20, 30, 36, 48, 59, 96]\n"
     ]
    }
   ],
   "source": [
    "def bubblesorting(data):\n",
    "  for i in range(len(data)):\n",
    "    for j in range(0, len(data) - i - 1):\n",
    "      if data[j] > data[j + 1]:\n",
    "        temp = data[j]\n",
    "        data[j] = data[j+1]\n",
    "        data[j+1] = temp\n",
    "data = [20, 30, 12, 36, 96, 48, 59]\n",
    "bubblesorting(data)\n",
    "print('Sorted Array: ')\n",
    "print(data)"
   ]
  },
  {
   "cell_type": "markdown",
   "metadata": {},
   "source": [
    "### Merge Sort"
   ]
  },
  {
   "cell_type": "code",
   "execution_count": 3,
   "metadata": {},
   "outputs": [
    {
     "name": "stdout",
     "output_type": "stream",
     "text": [
      "Sorted:  \n",
      "213 232 347 347 348 357 1359 1487 \n"
     ]
    }
   ],
   "source": [
    "def merge(data):\n",
    "\tif len(data) > 1:\n",
    "\t\tmid = len(data)//2\n",
    "\t\tL = data[:mid]\n",
    "\t\tR = data[mid:]\n",
    "\t\tmerge(L)\n",
    "\t\tmerge(R)\n",
    "\t\ti = j = k = 0\n",
    "\t\twhile i < len(L) and j < len(R):\n",
    "\t\t\tif L[i] <= R[j]:\n",
    "\t\t\t\tdata[k] = L[i]\n",
    "\t\t\t\ti += 1\n",
    "\t\t\telse:\n",
    "\t\t\t\tdata[k] = R[j]\n",
    "\t\t\t\tj += 1\n",
    "\t\t\tk += 1\n",
    "\t\twhile i < len(L):\n",
    "\t\t\tdata[k] = L[i]\n",
    "\t\t\ti += 1\n",
    "\t\t\tk += 1\n",
    "\n",
    "\t\twhile j < len(R):\n",
    "\t\t\tdata[k] = R[j]\n",
    "\t\t\tj += 1\n",
    "\t\t\tk += 1\n",
    "def printList(data):\n",
    "\tfor i in range(len(data)):\n",
    "\t\tprint(data[i], end=\" \")\n",
    "\tprint()\n",
    "if __name__ == '__main__':\n",
    "\tdata = [357, 347, 1487, 1359, 348, 347, 232, 213]\n",
    "\tmerge(data)\n",
    "\tprint(\"Sorted:  \", end=\"\\n\")\n",
    "\tprintList(data)\n"
   ]
  },
  {
   "cell_type": "markdown",
   "metadata": {},
   "source": [
    "### Quick Sort"
   ]
  },
  {
   "cell_type": "code",
   "execution_count": 8,
   "metadata": {},
   "outputs": [
    {
     "name": "stdout",
     "output_type": "stream",
     "text": [
      "Sorted Array in Ascending Order:\n",
      "[213, 232, 347, 347, 348, 357, 1359, 1487]\n"
     ]
    }
   ],
   "source": [
    "def partition(array, low, high):\n",
    "  pivot = array[high]\n",
    "  i = low - 1\n",
    "  for j in range(low, high):\n",
    "    if array[j] <= pivot:\n",
    "      i = i + 1\n",
    "      (array[i], array[j]) = (array[j], array[i])\n",
    "  (array[i + 1], array[high]) = (array[high], array[i + 1])\n",
    "  return i + 1\n",
    "def quickSort(array, low, high):\n",
    "  if low < high:\n",
    "    pi = partition(array, low, high)\n",
    "    quickSort(array, low, pi - 1)\n",
    "    quickSort(array, pi + 1, high)\n",
    "\n",
    "data = [357, 347, 1487, 1359, 348, 347, 232, 213]\n",
    "\n",
    "size = len(data)\n",
    "quickSort(data, 0, size - 1)\n",
    "print('Sorted Array in Ascending Order:')\n",
    "print(data)"
   ]
  }
 ],
 "metadata": {
  "kernelspec": {
   "display_name": "Python 3.10.4 64-bit",
   "language": "python",
   "name": "python3"
  },
  "language_info": {
   "codemirror_mode": {
    "name": "ipython",
    "version": 3
   },
   "file_extension": ".py",
   "mimetype": "text/x-python",
   "name": "python",
   "nbconvert_exporter": "python",
   "pygments_lexer": "ipython3",
   "version": "3.10.4"
  },
  "orig_nbformat": 4,
  "vscode": {
   "interpreter": {
    "hash": "bab1961f13d988cd79cc0f97465e234182f95082ef6fd3963def7728125b7dac"
   }
  }
 },
 "nbformat": 4,
 "nbformat_minor": 2
}
