{
  "nbformat": 4,
  "nbformat_minor": 0,
  "metadata": {
    "colab": {
      "name": "Tuple",
      "provenance": [],
      "authorship_tag": "ABX9TyP0eExImnnn2197W7Psi2wK",
      "include_colab_link": true
    },
    "kernelspec": {
      "name": "python3",
      "display_name": "Python 3"
    },
    "language_info": {
      "name": "python"
    }
  },
  "cells": [
    {
      "cell_type": "markdown",
      "metadata": {
        "id": "view-in-github",
        "colab_type": "text"
      },
      "source": [
        "<a href=\"https://colab.research.google.com/github/AbhinavGitam/Python/blob/main/Tuple.ipynb\" target=\"_parent\"><img src=\"https://colab.research.google.com/assets/colab-badge.svg\" alt=\"Open In Colab\"/></a>"
      ]
    },
    {
      "cell_type": "markdown",
      "source": [
        "#### List"
      ],
      "metadata": {
        "id": "Qe2ZBA35wgKG"
      }
    },
    {
      "cell_type": "code",
      "execution_count": null,
      "metadata": {
        "colab": {
          "base_uri": "https://localhost:8080/"
        },
        "id": "_OvprrHnaccg",
        "outputId": "80b454de-2d16-47bb-e588-a12c243537ba"
      },
      "outputs": [
        {
          "output_type": "stream",
          "name": "stdout",
          "text": [
            "['CPU', 'GPU', 'Ram']\n",
            "['CPU', 'Hdd', 'GPU', 'Ram']\n"
          ]
        }
      ],
      "source": [
        "abhinav = [\"CPU\",\"GPU\",\"Ram\"]\n",
        "print(abhinav)\n",
        "abhinav.insert(1,\"Hdd\")\n",
        "print(abhinav)"
      ]
    },
    {
      "cell_type": "markdown",
      "source": [
        "#### Tuple Length"
      ],
      "metadata": {
        "id": "709RcUbgwlJ2"
      }
    },
    {
      "cell_type": "code",
      "source": [
        "abhinav = (\"CPU\",\"GPU\",\"Ram\")\n",
        "print(len(abhinav))"
      ],
      "metadata": {
        "id": "Bqpi16aUwo9V",
        "colab": {
          "base_uri": "https://localhost:8080/"
        },
        "outputId": "38db6813-5eb2-41dc-f4eb-cd2a11beac37"
      },
      "execution_count": 3,
      "outputs": [
        {
          "output_type": "stream",
          "name": "stdout",
          "text": [
            "3\n"
          ]
        }
      ]
    },
    {
      "cell_type": "code",
      "source": [
        "#Tuple\n",
        "\n",
        "abhinav = (\"Ram\",)\n",
        "print(abhinav)\n",
        "print(type(abhinav))\n",
        "\n",
        "#String\n",
        "\n",
        "abhinav = (\"Ram\")\n",
        "print(abhinav)\n",
        "print(type(abhinav))\n",
        "\n",
        "#Tuple\n",
        "\n",
        "abhinav = tuple((\"Ram\"))\n",
        "print(abhinav)\n",
        "print(type(abhinav))"
      ],
      "metadata": {
        "colab": {
          "base_uri": "https://localhost:8080/"
        },
        "id": "2QmLuzPjxm-u",
        "outputId": "7ab5cbab-8a40-48a3-d368-4a7125bd0327"
      },
      "execution_count": 26,
      "outputs": [
        {
          "output_type": "stream",
          "name": "stdout",
          "text": [
            "('Ram',)\n",
            "<class 'tuple'>\n",
            "Ram\n",
            "<class 'str'>\n",
            "('R', 'a', 'm')\n",
            "<class 'tuple'>\n"
          ]
        }
      ]
    },
    {
      "cell_type": "code",
      "source": [
        "# Tuple accepts all data types\n",
        "\n",
        "abhinav1 = (\"apple\", \"banana\", \"cherry\")\n",
        "abhinav2 = (1, 5, 7, 9, 3)\n",
        "abhinav3 = (True, False, False)\n",
        "print(abhinav1)\n",
        "print(abhinav2)\n",
        "print(abhinav3)\n",
        "\n",
        "# It also accepts multiple datatypes in a single tuple\n",
        "\n",
        "tuple1 = (\"abc\", 34, True, 40, \"male\")\n",
        "print(tuple1)"
      ],
      "metadata": {
        "colab": {
          "base_uri": "https://localhost:8080/"
        },
        "id": "gD_rnw8UyvXG",
        "outputId": "8159c27b-8a56-4974-df66-f00eff8f61b9"
      },
      "execution_count": 17,
      "outputs": [
        {
          "output_type": "stream",
          "name": "stdout",
          "text": [
            "('apple', 'banana', 'cherry')\n",
            "(1, 5, 7, 9, 3)\n",
            "(True, False, False)\n",
            "('abc', 34, True, 40, 'male')\n"
          ]
        }
      ]
    },
    {
      "cell_type": "code",
      "source": [
        "# Print the first item of the series\n",
        "\n",
        "abhinav = (\"cpu\",\"gpu\",\"ram\",\"hdd\",\"ssd\")\n",
        "print(abhinav[1])\n",
        "\n",
        "# Print th e last item of the series\n",
        "\n",
        "abhinav = (\"cpu\",\"gpu\",\"ram\",\"hdd\",\"ssd\")\n",
        "print(abhinav[-1])\n",
        "\n",
        "# Print a series of items\n",
        "\n",
        "abhinav = (\"cpu\",\"gpu\",\"ram\",\"hdd\",\"ssd\")\n",
        "print(abhinav[1:4])"
      ],
      "metadata": {
        "colab": {
          "base_uri": "https://localhost:8080/"
        },
        "id": "DMKSeiAA1uaX",
        "outputId": "ae79cf65-dac7-4226-fdf1-8e0075fa4b82"
      },
      "execution_count": 29,
      "outputs": [
        {
          "output_type": "stream",
          "name": "stdout",
          "text": [
            "gpu\n",
            "ssd\n",
            "('gpu', 'ram', 'hdd')\n"
          ]
        }
      ]
    },
    {
      "cell_type": "code",
      "source": [
        "# Checking an item existe in the tuple or not\n",
        "\n",
        "abhinav = (\"cpu\",\"gpu\",\"ram\",\"hdd\",\"ssd\")\n",
        "if \"cpu\" in  abhinav:\n",
        "  print(\"yes, 'cpu' is in the tuple named abhinav\")"
      ],
      "metadata": {
        "colab": {
          "base_uri": "https://localhost:8080/"
        },
        "id": "rreNuT6a3S6g",
        "outputId": "2721b3a1-a3bc-476c-c620-22d3cda112dc"
      },
      "execution_count": 35,
      "outputs": [
        {
          "output_type": "stream",
          "name": "stdout",
          "text": [
            "yes, 'cpu' is in the tuple named abhinav\n"
          ]
        }
      ]
    },
    {
      "cell_type": "code",
      "source": [
        "# Editing or updating a tuple\n",
        "\n",
        "abhinav = (\"cpu\",\"gpu\",\"ram\",\"hdd\",\"ssd\")\n",
        "a = list(abhinav)\n",
        "a[2] = \"psu\"\n",
        "a.append(\"Key\")\n",
        "abhinav = tuple(a)\n",
        "print(abhinav)"
      ],
      "metadata": {
        "colab": {
          "base_uri": "https://localhost:8080/"
        },
        "id": "BPlgOxZy5FpF",
        "outputId": "5bf258e6-a0d3-42f4-e6ae-d8746d1c4a85"
      },
      "execution_count": 41,
      "outputs": [
        {
          "output_type": "stream",
          "name": "stdout",
          "text": [
            "('cpu', 'gpu', 'psu', 'hdd', 'ssd', 'Key')\n"
          ]
        }
      ]
    },
    {
      "cell_type": "code",
      "source": [
        "# Two tuples can be added\n",
        "\n",
        "abhinav = (\"cpu\",\"gpu\",\"ram\",\"hdd\",\"ssd\")\n",
        "a = (\"psu\",)\n",
        "b = (abhinav + a)\n",
        "print(b)\n",
        "\n",
        "# using the same function use delete and remove and other functions to edit tuples."
      ],
      "metadata": {
        "colab": {
          "base_uri": "https://localhost:8080/"
        },
        "id": "iDqdz14o9mZP",
        "outputId": "0945a58b-263e-44da-d03b-f719c43e874d"
      },
      "execution_count": 45,
      "outputs": [
        {
          "output_type": "stream",
          "name": "stdout",
          "text": [
            "('cpu', 'gpu', 'ram', 'hdd', 'ssd', 'psu')\n"
          ]
        }
      ]
    },
    {
      "cell_type": "markdown",
      "source": [
        "## Sets"
      ],
      "metadata": {
        "id": "Fr7mCol_BXpA"
      }
    },
    {
      "cell_type": "code",
      "source": [
        "abhinav = {\"cpu\",\"gpu\",\"ram\",\"hdd\",\"ssd\"}\n",
        "print(abhinav)"
      ],
      "metadata": {
        "colab": {
          "base_uri": "https://localhost:8080/"
        },
        "id": "lmcke91RBXKo",
        "outputId": "7f1a9e8e-626c-4f09-d188-de95a88181d2"
      },
      "execution_count": 54,
      "outputs": [
        {
          "output_type": "stream",
          "name": "stdout",
          "text": [
            "{'cpu', 'hdd', 'gpu', 'ssd', 'ram'}\n"
          ]
        }
      ]
    },
    {
      "cell_type": "code",
      "source": [
        "abhinav = {\"cpu\",\"gpu\",\"ram\",\"hdd\",\"ssd\",\"cpu\",\"gpu\"}\n",
        "print(abhinav)\n",
        "print('The length of the set is', len(abhinav))"
      ],
      "metadata": {
        "colab": {
          "base_uri": "https://localhost:8080/"
        },
        "id": "3pZZwjNWCGl3",
        "outputId": "2ebda7e2-2ad4-47b4-bbac-d72f763ba80e"
      },
      "execution_count": 60,
      "outputs": [
        {
          "output_type": "stream",
          "name": "stdout",
          "text": [
            "{'cpu', 'hdd', 'gpu', 'ssd', 'ram'}\n",
            "The length of the set is 5\n"
          ]
        }
      ]
    },
    {
      "cell_type": "code",
      "source": [
        ""
      ],
      "metadata": {
        "id": "YkXJ1OgzEC2Y"
      },
      "execution_count": null,
      "outputs": []
    }
  ]
}