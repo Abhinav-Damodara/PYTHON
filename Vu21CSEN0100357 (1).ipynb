{
  "cells": [
    {
      "cell_type": "markdown",
      "metadata": {
        "id": "mAoxOaTv8UQw"
      },
      "source": [
        "# Lists"
      ]
    },
    {
      "cell_type": "markdown",
      "metadata": {
        "id": "erC1KJ6P8jbN"
      },
      "source": [
        "#### Creating a list"
      ]
    },
    {
      "cell_type": "code",
      "execution_count": 2,
      "metadata": {
        "colab": {
          "base_uri": "https://localhost:8080/"
        },
        "id": "3rupoClE8tmU",
        "outputId": "594f2d05-2bee-45c7-fae9-cfa520d1d708"
      },
      "outputs": [
        {
          "name": "stdout",
          "output_type": "stream",
          "text": [
            "['orange', 'apple', 'mango', 'banana', 'watermelon']\n"
          ]
        }
      ],
      "source": [
        "Abhinav= ['orange','apple','mango','banana','watermelon']\n",
        "print(Abhinav)"
      ]
    },
    {
      "cell_type": "markdown",
      "metadata": {
        "id": "E_aBLWZeBMcv"
      },
      "source": [
        "#### Length of the List"
      ]
    },
    {
      "cell_type": "code",
      "execution_count": 3,
      "metadata": {
        "colab": {
          "base_uri": "https://localhost:8080/"
        },
        "id": "_1tDzuqOAyUG",
        "outputId": "a3047db8-1b9b-45e2-8831-ee8f2d7ca64a"
      },
      "outputs": [
        {
          "name": "stdout",
          "output_type": "stream",
          "text": [
            "5\n"
          ]
        }
      ],
      "source": [
        "Abhinav = ['orange','apple','mango','banana','watermelon']\n",
        "print(len(Abhinav))"
      ]
    },
    {
      "cell_type": "markdown",
      "metadata": {
        "id": "S0N7okeyBPhc"
      },
      "source": [
        "#### Lists-String,int & boolean data types"
      ]
    },
    {
      "cell_type": "code",
      "execution_count": 4,
      "metadata": {
        "colab": {
          "base_uri": "https://localhost:8080/"
        },
        "id": "f8UbA-kZBnOR",
        "outputId": "323ccead-a50f-4c32-8a21-0ed5d586c7d0"
      },
      "outputs": [
        {
          "name": "stdout",
          "output_type": "stream",
          "text": [
            "['apple', 'banana', 'cherry']\n",
            "<class 'list'>\n",
            "[1, 5, 7, 9, 3]\n",
            "<class 'list'>\n",
            "[True, False, False]\n",
            "<class 'list'>\n",
            "['abc', 34, True, 40, 'male']\n",
            "<class 'list'>\n"
          ]
        }
      ],
      "source": [
        "abhinav1 = [\"apple\", \"banana\", \"cherry\"]\n",
        "abhinav2 = [1, 5, 7, 9, 3]\n",
        "abhinav3 = [True, False, False]\n",
        "abhinav4 = [\"abc\", 34, True, 40, \"male\"]\n",
        "print(abhinav1)\n",
        "print(type(abhinav1))\n",
        "print(abhinav2)\n",
        "print(type(abhinav2))\n",
        "print(abhinav3)\n",
        "print(type(abhinav3))\n",
        "print(abhinav4)\n",
        "print(type(abhinav4))"
      ]
    },
    {
      "cell_type": "markdown",
      "metadata": {
        "id": "0ThpCAfnC32S"
      },
      "source": [
        "list() contributor"
      ]
    },
    {
      "cell_type": "code",
      "execution_count": 5,
      "metadata": {
        "colab": {
          "base_uri": "https://localhost:8080/"
        },
        "id": "qkwSzHMoC6TW",
        "outputId": "d8e6cb4a-7ecd-4b42-bdf5-e9e0fcf70563"
      },
      "outputs": [
        {
          "name": "stdout",
          "output_type": "stream",
          "text": [
            "['apple', 'banana', 'cherry']\n"
          ]
        }
      ],
      "source": [
        "abhinav = list((\"apple\", \"banana\", \"cherry\"))\n",
        "print(abhinav)"
      ]
    },
    {
      "cell_type": "markdown",
      "metadata": {
        "id": "8uDxml_tE-yS"
      },
      "source": [
        "#### Accesing the list items"
      ]
    },
    {
      "cell_type": "code",
      "execution_count": 6,
      "metadata": {
        "colab": {
          "base_uri": "https://localhost:8080/"
        },
        "id": "iIupzkSmFGe1",
        "outputId": "e386a257-7c32-4d9c-e9c2-829e8f16be36"
      },
      "outputs": [
        {
          "name": "stdout",
          "output_type": "stream",
          "text": [
            "apple\n"
          ]
        }
      ],
      "source": [
        "abhinav = ['orange','apple','mango','banana','watermelon']\n",
        "print(abhinav[1])"
      ]
    },
    {
      "cell_type": "markdown",
      "metadata": {
        "id": "AVjaOZKiFO80"
      },
      "source": [
        "#### Print the last item"
      ]
    },
    {
      "cell_type": "code",
      "execution_count": 7,
      "metadata": {
        "colab": {
          "base_uri": "https://localhost:8080/"
        },
        "id": "2loPY5B7FTx7",
        "outputId": "dd555c31-f822-49be-cf83-dd1ac8246d80"
      },
      "outputs": [
        {
          "name": "stdout",
          "output_type": "stream",
          "text": [
            "watermelon\n"
          ]
        }
      ],
      "source": [
        "abhinav = ['orange','apple','mango','banana','watermelon']\n",
        "print(abhinav[-1])"
      ]
    },
    {
      "cell_type": "markdown",
      "metadata": {
        "id": "Veivk3xxFYIT"
      },
      "source": [
        "#### Print the items of the list between the range"
      ]
    },
    {
      "cell_type": "code",
      "execution_count": 8,
      "metadata": {
        "colab": {
          "base_uri": "https://localhost:8080/"
        },
        "id": "1SariGbpFg3L",
        "outputId": "7ef76fa7-5cdc-426a-a8b8-4800f7fb7586"
      },
      "outputs": [
        {
          "name": "stdout",
          "output_type": "stream",
          "text": [
            "['apple', 'mango', 'banana']\n"
          ]
        }
      ],
      "source": [
        "abhinav = ['orange','apple','mango','banana','watermelon']\n",
        "print(abhinav[1:4])"
      ]
    },
    {
      "cell_type": "markdown",
      "metadata": {
        "id": "PrPe2ZrbFpC6"
      },
      "source": [
        "#### From beginning and till the end"
      ]
    },
    {
      "cell_type": "code",
      "execution_count": 9,
      "metadata": {
        "colab": {
          "base_uri": "https://localhost:8080/"
        },
        "id": "Yzdf67-NFwyq",
        "outputId": "a781a8d7-6b31-4b7d-b4fb-2bfc032d5dbe"
      },
      "outputs": [
        {
          "name": "stdout",
          "output_type": "stream",
          "text": [
            "['orange', 'apple', 'mango', 'banana']\n",
            "['apple', 'mango', 'banana', 'watermelon']\n"
          ]
        }
      ],
      "source": [
        "abhinav = ['orange','apple','mango','banana','watermelon']\n",
        "print(abhinav[:4])\n",
        "abhinav = ['orange','apple','mango','banana','watermelon']\n",
        "print(abhinav[1:])"
      ]
    },
    {
      "cell_type": "markdown",
      "metadata": {
        "id": "Gy83wMf1F6Hz"
      },
      "source": [
        "#### To check the items in the list"
      ]
    },
    {
      "cell_type": "code",
      "execution_count": 10,
      "metadata": {
        "colab": {
          "base_uri": "https://localhost:8080/"
        },
        "id": "tZLZWIDPGBTM",
        "outputId": "abf853ae-6c23-487d-925e-a31b53880c71"
      },
      "outputs": [
        {
          "name": "stdout",
          "output_type": "stream",
          "text": [
            "Yes 'apple' is in the abhinav list\n"
          ]
        }
      ],
      "source": [
        "abhinav = ['orange','apple','mango','banana','watermelon']\n",
        "if 'apple' in abhinav:\n",
        "  print(\"Yes 'apple' is in the abhinav list\")\n",
        "else:\n",
        "  print(\"No 'apple' is not in the abhinav list\")"
      ]
    },
    {
      "cell_type": "markdown",
      "metadata": {
        "id": "BiBK4bifIVBl"
      },
      "source": [
        "#### Changing of a list item"
      ]
    },
    {
      "cell_type": "code",
      "execution_count": 11,
      "metadata": {
        "colab": {
          "base_uri": "https://localhost:8080/"
        },
        "id": "7KSGrI7_Icii",
        "outputId": "c16528ca-f133-44d1-f60a-994e1974c5fe"
      },
      "outputs": [
        {
          "name": "stdout",
          "output_type": "stream",
          "text": [
            "['orange', 'apple', 'kiwi', 'banana', 'watermelon']\n"
          ]
        }
      ],
      "source": [
        "abhinav = ['orange','apple','mango','banana','watermelon']\n",
        "abhinav[2] = 'kiwi'\n",
        "print(abhinav)"
      ]
    },
    {
      "cell_type": "markdown",
      "metadata": {
        "id": "ueTOU1EfIrwB"
      },
      "source": [
        "#### Changing multiple variables"
      ]
    },
    {
      "cell_type": "code",
      "execution_count": 12,
      "metadata": {
        "colab": {
          "base_uri": "https://localhost:8080/"
        },
        "id": "1plHeBSMIvTt",
        "outputId": "93010445-f80c-4053-b801-720973ff45bb"
      },
      "outputs": [
        {
          "name": "stdout",
          "output_type": "stream",
          "text": [
            "['orange', 'kiwi', 'dragon Fruit', 'banana', 'watermelon']\n"
          ]
        }
      ],
      "source": [
        "abhinav = ['orange','apple','mango','banana','watermelon']\n",
        "abhinav[1:3] = ['kiwi','dragon Fruit']\n",
        "print(abhinav)"
      ]
    },
    {
      "cell_type": "markdown",
      "metadata": {
        "id": "D--ZNUO4JCT1"
      },
      "source": [
        "#### Insert Items into the list"
      ]
    },
    {
      "cell_type": "code",
      "execution_count": 13,
      "metadata": {
        "colab": {
          "base_uri": "https://localhost:8080/"
        },
        "id": "XDEz8tQYJhiW",
        "outputId": "0054a3e0-c479-4ad9-cec7-c69148006fc4"
      },
      "outputs": [
        {
          "name": "stdout",
          "output_type": "stream",
          "text": [
            "['orange', 'apple', 'kiwi', 'mango', 'banana', 'watermelon']\n"
          ]
        }
      ],
      "source": [
        "abhinav = ['orange','apple','mango','banana','watermelon']\n",
        "abhinav.insert(2, 'kiwi')\n",
        "print(abhinav)"
      ]
    },
    {
      "cell_type": "markdown",
      "metadata": {
        "id": "B8Keg6-dKTt-"
      },
      "source": [
        "#### Using append function\n"
      ]
    },
    {
      "cell_type": "code",
      "execution_count": 14,
      "metadata": {
        "colab": {
          "base_uri": "https://localhost:8080/"
        },
        "id": "HR0Sc3eFKW8f",
        "outputId": "96e86206-ca1e-4b65-8d2c-5610bf9cf08e"
      },
      "outputs": [
        {
          "name": "stdout",
          "output_type": "stream",
          "text": [
            "['orange', 'apple', 'mango', 'banana', 'watermelon', 'Kiwi']\n"
          ]
        }
      ],
      "source": [
        "abhinav = ['orange','apple','mango','banana','watermelon']\n",
        "abhinav.append('Kiwi')\n",
        "print(abhinav)"
      ]
    },
    {
      "cell_type": "markdown",
      "metadata": {
        "id": "xpafhSGoOyb8"
      },
      "source": [
        "#### Using extend function"
      ]
    },
    {
      "cell_type": "code",
      "execution_count": 15,
      "metadata": {
        "colab": {
          "base_uri": "https://localhost:8080/"
        },
        "id": "gLr6PU8DO2wc",
        "outputId": "af9803ab-9329-49d8-eafb-a061a827ac67"
      },
      "outputs": [
        {
          "name": "stdout",
          "output_type": "stream",
          "text": [
            "['orange', 'apple', 'mango', 'banana', 'watermelon', 'tomato', 'brinjal', 'potato']\n"
          ]
        }
      ],
      "source": [
        "abhinav = ['orange','apple','mango','banana','watermelon']\n",
        "veggies = ['tomato','brinjal','potato']\n",
        "abhinav.extend(veggies)\n",
        "print(abhinav)"
      ]
    },
    {
      "cell_type": "markdown",
      "metadata": {
        "id": "ScT1gDtNPVqK"
      },
      "source": [
        "#### Extending This tuple"
      ]
    },
    {
      "cell_type": "code",
      "execution_count": 16,
      "metadata": {
        "colab": {
          "base_uri": "https://localhost:8080/"
        },
        "id": "U0o7CBE0Plh6",
        "outputId": "e41cf1e7-1fd2-4f9d-b7fb-eae723d537ff"
      },
      "outputs": [
        {
          "name": "stdout",
          "output_type": "stream",
          "text": [
            "['orange', 'apple', 'mango', 'banana', 'watermelon', 'kiwi', 'orange']\n"
          ]
        }
      ],
      "source": [
        "abhinav = ['orange','apple','mango','banana','watermelon']\n",
        "thistuple = (\"kiwi\", \"orange\")\n",
        "abhinav.extend(thistuple)\n",
        "print(abhinav)"
      ]
    },
    {
      "cell_type": "markdown",
      "metadata": {
        "id": "4zkbwoCSP1L2"
      },
      "source": [
        "#### Removing a list item using remove function"
      ]
    },
    {
      "cell_type": "code",
      "execution_count": 17,
      "metadata": {
        "colab": {
          "base_uri": "https://localhost:8080/"
        },
        "id": "z7YSJ8anP95T",
        "outputId": "10a0a581-fe4b-4d82-966d-33251a641bec"
      },
      "outputs": [
        {
          "name": "stdout",
          "output_type": "stream",
          "text": [
            "['orange', 'apple', 'mango', 'watermelon']\n"
          ]
        }
      ],
      "source": [
        "abhinav = ['orange','apple','mango','banana','watermelon']\n",
        "abhinav.remove('banana')\n",
        "print(abhinav)"
      ]
    },
    {
      "cell_type": "markdown",
      "metadata": {
        "id": "vaUABlbdQLTt"
      },
      "source": [
        "#### Using remove function to remove a specific list index"
      ]
    },
    {
      "cell_type": "code",
      "execution_count": 18,
      "metadata": {
        "colab": {
          "base_uri": "https://localhost:8080/"
        },
        "id": "k4qo0T2dQOZM",
        "outputId": "f9b60fa3-08a1-432f-c517-ae5df230bcaf"
      },
      "outputs": [
        {
          "name": "stdout",
          "output_type": "stream",
          "text": [
            "['orange', 'mango', 'banana', 'watermelon']\n"
          ]
        }
      ],
      "source": [
        "abhinav = ['orange','apple','mango','banana','watermelon']\n",
        "abhinav.pop(1)\n",
        "print(abhinav)"
      ]
    },
    {
      "cell_type": "markdown",
      "metadata": {
        "id": "AoEYDxAxQfSL"
      },
      "source": [
        "#### Using remove function to remove the last list index"
      ]
    },
    {
      "cell_type": "code",
      "execution_count": 19,
      "metadata": {
        "colab": {
          "base_uri": "https://localhost:8080/"
        },
        "id": "o294qoPiQrTl",
        "outputId": "12a557bb-4f14-4429-ac3f-f4febd92f587"
      },
      "outputs": [
        {
          "name": "stdout",
          "output_type": "stream",
          "text": [
            "['orange', 'apple', 'mango', 'banana']\n"
          ]
        }
      ],
      "source": [
        "abhinav = ['orange','apple','mango','banana','watermelon']\n",
        "abhinav.pop()\n",
        "print(abhinav)"
      ]
    },
    {
      "cell_type": "markdown",
      "metadata": {
        "id": "VRNnOQDpQxYt"
      },
      "source": [
        "#### Using the Delete Function"
      ]
    },
    {
      "cell_type": "code",
      "execution_count": 20,
      "metadata": {
        "colab": {
          "base_uri": "https://localhost:8080/"
        },
        "id": "BEPPhP4vQ7Qb",
        "outputId": "5690695c-894d-47c8-9d03-c11053c1cf0f"
      },
      "outputs": [
        {
          "name": "stdout",
          "output_type": "stream",
          "text": [
            "['orange', 'apple', 'banana', 'watermelon']\n"
          ]
        }
      ],
      "source": [
        "abhinav = ['orange','apple','mango','banana','watermelon']\n",
        "del abhinav[2]\n",
        "print(abhinav)"
      ]
    },
    {
      "cell_type": "code",
      "execution_count": 21,
      "metadata": {
        "colab": {
          "base_uri": "https://localhost:8080/",
          "height": 200
        },
        "id": "pCKdV4IIRXio",
        "outputId": "17890543-4805-40ce-c8de-7a52d89482a0"
      },
      "outputs": [
        {
          "ename": "NameError",
          "evalue": "name 'abhinav' is not defined",
          "output_type": "error",
          "traceback": [
            "\u001b[1;31m---------------------------------------------------------------------------\u001b[0m",
            "\u001b[1;31mNameError\u001b[0m                                 Traceback (most recent call last)",
            "\u001b[1;32mc:\\Users\\abhin\\Desktop\\Vu21CSEN0100357.ipynb Cell 40'\u001b[0m in \u001b[0;36m<cell line: 3>\u001b[1;34m()\u001b[0m\n\u001b[0;32m      <a href='vscode-notebook-cell:/c%3A/Users/abhin/Desktop/Vu21CSEN0100357.ipynb#ch0000039?line=0'>1</a>\u001b[0m abhinav \u001b[39m=\u001b[39m [\u001b[39m'\u001b[39m\u001b[39morange\u001b[39m\u001b[39m'\u001b[39m,\u001b[39m'\u001b[39m\u001b[39mapple\u001b[39m\u001b[39m'\u001b[39m,\u001b[39m'\u001b[39m\u001b[39mmango\u001b[39m\u001b[39m'\u001b[39m,\u001b[39m'\u001b[39m\u001b[39mbanana\u001b[39m\u001b[39m'\u001b[39m,\u001b[39m'\u001b[39m\u001b[39mwatermelon\u001b[39m\u001b[39m'\u001b[39m]\n\u001b[0;32m      <a href='vscode-notebook-cell:/c%3A/Users/abhin/Desktop/Vu21CSEN0100357.ipynb#ch0000039?line=1'>2</a>\u001b[0m \u001b[39mdel\u001b[39;00m abhinav\n\u001b[1;32m----> <a href='vscode-notebook-cell:/c%3A/Users/abhin/Desktop/Vu21CSEN0100357.ipynb#ch0000039?line=2'>3</a>\u001b[0m \u001b[39mprint\u001b[39m(abhinav)\n",
            "\u001b[1;31mNameError\u001b[0m: name 'abhinav' is not defined"
          ]
        }
      ],
      "source": [
        "abhinav = ['orange','apple','mango','banana','watermelon']\n",
        "del abhinav\n",
        "print(abhinav)"
      ]
    },
    {
      "cell_type": "markdown",
      "metadata": {
        "id": "AA46aPLIRaB_"
      },
      "source": [
        "#### Clear Function"
      ]
    },
    {
      "cell_type": "code",
      "execution_count": 22,
      "metadata": {
        "colab": {
          "base_uri": "https://localhost:8080/"
        },
        "id": "vrKUjr1GRekM",
        "outputId": "e768d29d-0049-4eb8-ed86-9d6c5a9a7856"
      },
      "outputs": [
        {
          "name": "stdout",
          "output_type": "stream",
          "text": [
            "[]\n"
          ]
        }
      ],
      "source": [
        "abhinav = ['orange','apple','mango','banana','watermelon']\n",
        "abhinav.clear()\n",
        "print(abhinav)"
      ]
    },
    {
      "cell_type": "markdown",
      "metadata": {
        "id": "H13zHx_6GIvy"
      },
      "source": [
        "#### Write as a list using loop"
      ]
    },
    {
      "cell_type": "code",
      "execution_count": 23,
      "metadata": {
        "colab": {
          "base_uri": "https://localhost:8080/"
        },
        "id": "lMKB3CtZGDwj",
        "outputId": "ccb8ed18-9444-4608-c55d-7b7a8d5aa224"
      },
      "outputs": [
        {
          "name": "stdout",
          "output_type": "stream",
          "text": [
            "apple\n",
            "banana\n",
            "cherry\n"
          ]
        }
      ],
      "source": [
        "abhinav = [\"apple\", \"banana\", \"cherry\"]\n",
        "for x in abhinav:\n",
        "  print(x)"
      ]
    },
    {
      "cell_type": "markdown",
      "metadata": {
        "id": "PN3AswmdGMOT"
      },
      "source": [
        "#### Print the list item in a list"
      ]
    },
    {
      "cell_type": "code",
      "execution_count": 24,
      "metadata": {
        "colab": {
          "base_uri": "https://localhost:8080/"
        },
        "id": "-Tcr6DNCGQst",
        "outputId": "1ec9a436-8790-48e4-e3f5-7df661022b5d"
      },
      "outputs": [
        {
          "name": "stdout",
          "output_type": "stream",
          "text": [
            "banana\n",
            "banana\n",
            "banana\n"
          ]
        }
      ],
      "source": [
        "abhinav = [\"apple\", \"banana\", \"cherry\"]\n",
        "for i in range(len(abhinav)):\n",
        "  print(abhinav[1])"
      ]
    },
    {
      "cell_type": "markdown",
      "metadata": {
        "id": "QbUmHtvFF2-r"
      },
      "source": [
        "#### Sort the lists"
      ]
    },
    {
      "cell_type": "code",
      "execution_count": 26,
      "metadata": {
        "colab": {
          "base_uri": "https://localhost:8080/"
        },
        "id": "NPFmpqyDE8wk",
        "outputId": "fb4b9abd-e2e1-4be1-97e9-114d81bd3946"
      },
      "outputs": [
        {
          "name": "stdout",
          "output_type": "stream",
          "text": [
            "['apple', 'banana', 'mango', 'orange', 'watermelon']\n"
          ]
        }
      ],
      "source": [
        "abhinav = ['orange','apple','mango','banana','watermelon']\n",
        "abhinav.sort()\n",
        "print(abhinav)"
      ]
    },
    {
      "cell_type": "markdown",
      "metadata": {
        "id": "IMhbf0wdLDKJ"
      },
      "source": [
        "#### Loop Using List Comprehension"
      ]
    },
    {
      "cell_type": "code",
      "execution_count": 27,
      "metadata": {
        "colab": {
          "base_uri": "https://localhost:8080/"
        },
        "id": "hgDXdHPFLIET",
        "outputId": "5ec9fb5d-ae68-4d16-bf30-dc56d38b14c7"
      },
      "outputs": [
        {
          "name": "stdout",
          "output_type": "stream",
          "text": [
            "orange\n",
            "apple\n",
            "mango\n",
            "banana\n",
            "watermelon\n"
          ]
        },
        {
          "data": {
            "text/plain": [
              "[None, None, None, None, None]"
            ]
          },
          "execution_count": 27,
          "metadata": {},
          "output_type": "execute_result"
        }
      ],
      "source": [
        "abhinav = ['orange','apple','mango','banana','watermelon']\n",
        "[print(v) for v in abhinav] "
      ]
    },
    {
      "cell_type": "markdown",
      "metadata": {
        "id": "Qn1lr5MDMhv6"
      },
      "source": [
        "#### List Comprehension"
      ]
    },
    {
      "cell_type": "code",
      "execution_count": 28,
      "metadata": {
        "colab": {
          "base_uri": "https://localhost:8080/"
        },
        "id": "rpNqTBZOMqnh",
        "outputId": "92d16d91-f959-4b3a-ca78-2a4e3636da16"
      },
      "outputs": [
        {
          "name": "stdout",
          "output_type": "stream",
          "text": [
            "['apple', 'banana', 'mango', 'watermelon']\n"
          ]
        }
      ],
      "source": [
        "abhinav = [\"apple\", \"banana\", \"cherry\", \"kiwi\", \"mango\",\"watermelon\"]\n",
        "new = []\n",
        "for x in abhinav:\n",
        "  if \"a\" in x:\n",
        "    new.append(x)\n",
        "print(new)"
      ]
    },
    {
      "cell_type": "markdown",
      "metadata": {
        "id": "_zSOcz2CP1lu"
      },
      "source": [
        "#### print only those list items which are not \"apple\""
      ]
    },
    {
      "cell_type": "code",
      "execution_count": 29,
      "metadata": {
        "colab": {
          "base_uri": "https://localhost:8080/"
        },
        "id": "qIPinbubPrun",
        "outputId": "0dd032c2-bfc9-42ec-f1f6-66cbfd9024f4"
      },
      "outputs": [
        {
          "name": "stdout",
          "output_type": "stream",
          "text": [
            "['banana', 'cherry', 'kiwi', 'mango', 'watermelon']\n"
          ]
        }
      ],
      "source": [
        "abhinav = [\"apple\", \"banana\", \"cherry\", \"kiwi\", \"mango\",\"watermelon\"]\n",
        "abhinew = [x for x in abhinav if x != \"apple\"]\n",
        "print(abhinew)"
      ]
    },
    {
      "cell_type": "markdown",
      "metadata": {
        "id": "PLc8kdkvOto4"
      },
      "source": [
        "#### sorting alphabetically and sumerically"
      ]
    },
    {
      "cell_type": "code",
      "execution_count": 30,
      "metadata": {
        "colab": {
          "base_uri": "https://localhost:8080/"
        },
        "id": "MMVwygeMOxsq",
        "outputId": "5d43e29b-074c-410b-b783-f6a5a3637fe7"
      },
      "outputs": [
        {
          "name": "stdout",
          "output_type": "stream",
          "text": [
            "['apple', 'banana', 'cherry', 'kiwi', 'mango', 'watermelon']\n"
          ]
        }
      ],
      "source": [
        "abhinav = [\"apple\", \"banana\", \"cherry\", \"kiwi\", \"mango\",\"watermelon\"]\n",
        "abhinav.sort()\n",
        "print(abhinav)"
      ]
    },
    {
      "cell_type": "code",
      "execution_count": 31,
      "metadata": {
        "colab": {
          "base_uri": "https://localhost:8080/"
        },
        "id": "9rFqekobO8bt",
        "outputId": "6cc44605-676d-4518-f5f4-826eece6d7e4"
      },
      "outputs": [
        {
          "name": "stdout",
          "output_type": "stream",
          "text": [
            "[10, 24, 34, 87]\n"
          ]
        }
      ],
      "source": [
        "abhinav = [10,34,87,24]\n",
        "abhinav.sort()\n",
        "print(abhinav)"
      ]
    },
    {
      "cell_type": "markdown",
      "metadata": {
        "id": "DkCMFjh6PEig"
      },
      "source": [
        "#### sort decending"
      ]
    },
    {
      "cell_type": "code",
      "execution_count": 32,
      "metadata": {
        "colab": {
          "base_uri": "https://localhost:8080/"
        },
        "id": "eXRMPlSVPOAM",
        "outputId": "5ae9f975-1128-44ac-bd38-b408bf7ecb03"
      },
      "outputs": [
        {
          "name": "stdout",
          "output_type": "stream",
          "text": [
            "['watermelon', 'mango', 'kiwi', 'cherry', 'banana', 'apple']\n"
          ]
        }
      ],
      "source": [
        "abhinav = [\"apple\", \"banana\", \"cherry\", \"kiwi\", \"mango\",\"watermelon\"]\n",
        "abhinav.sort(reverse=True)\n",
        "print(abhinav)"
      ]
    },
    {
      "cell_type": "code",
      "execution_count": 33,
      "metadata": {
        "colab": {
          "base_uri": "https://localhost:8080/"
        },
        "id": "UQcskScUPG9b",
        "outputId": "b824d735-2e68-477d-9101-68739c4cadac"
      },
      "outputs": [
        {
          "name": "stdout",
          "output_type": "stream",
          "text": [
            "[87, 34, 24, 10]\n"
          ]
        }
      ],
      "source": [
        "abhinav = [10,34,87,24]\n",
        "abhinav.sort(reverse=True)\n",
        "print(abhinav)"
      ]
    },
    {
      "cell_type": "markdown",
      "metadata": {
        "id": "GMqkxc-wQP14"
      },
      "source": [
        "#### Case sensitive sorting"
      ]
    },
    {
      "cell_type": "code",
      "execution_count": 34,
      "metadata": {
        "colab": {
          "base_uri": "https://localhost:8080/"
        },
        "id": "teKKg_AAQUWM",
        "outputId": "c01ebe2e-d2a8-4b36-e542-adafa06d0504"
      },
      "outputs": [
        {
          "name": "stdout",
          "output_type": "stream",
          "text": [
            "['Banana', 'Cherry', 'Kiwi', 'apple', 'mango', 'watermelon']\n"
          ]
        }
      ],
      "source": [
        "abhinav = [\"apple\", \"Banana\", \"Cherry\", \"Kiwi\", \"mango\",\"watermelon\"]\n",
        "abhinav.sort()\n",
        "print(abhinav)"
      ]
    },
    {
      "cell_type": "markdown",
      "metadata": {
        "id": "7oSgE09qQja1"
      },
      "source": [
        "#### To ignore the cases and sort accordingly"
      ]
    },
    {
      "cell_type": "code",
      "execution_count": 35,
      "metadata": {
        "colab": {
          "base_uri": "https://localhost:8080/"
        },
        "id": "r_0MLwR0QoDd",
        "outputId": "d13326b7-589b-4252-fc4e-d3d3a74af190"
      },
      "outputs": [
        {
          "name": "stdout",
          "output_type": "stream",
          "text": [
            "['apple', 'Banana', 'Cherry', 'Kiwi', 'mango', 'watermelon']\n"
          ]
        }
      ],
      "source": [
        "abhinav = [\"apple\", \"Banana\", \"Cherry\", \"Kiwi\", \"mango\",\"watermelon\"]\n",
        "abhinav.sort(key = str.lower)\n",
        "print(abhinav)"
      ]
    },
    {
      "cell_type": "markdown",
      "metadata": {
        "id": "lbobBozqRQmI"
      },
      "source": [
        "#### Reverse a list"
      ]
    },
    {
      "cell_type": "code",
      "execution_count": 36,
      "metadata": {
        "colab": {
          "base_uri": "https://localhost:8080/"
        },
        "id": "8c0ScdauRElb",
        "outputId": "cfe97ee3-2b76-4f3e-ce00-5ea69748ecfc"
      },
      "outputs": [
        {
          "name": "stdout",
          "output_type": "stream",
          "text": [
            "['watermelon', 'mango', 'Kiwi', 'Cherry', 'Banana', 'apple']\n"
          ]
        }
      ],
      "source": [
        "abhinav = [\"apple\", \"Banana\", \"Cherry\", \"Kiwi\", \"mango\",\"watermelon\"]\n",
        "abhinav.reverse()\n",
        "print(abhinav)"
      ]
    },
    {
      "cell_type": "markdown",
      "metadata": {
        "id": "cuhvN8qSRUxa"
      },
      "source": [
        "#### Copying a list"
      ]
    },
    {
      "cell_type": "code",
      "execution_count": 37,
      "metadata": {
        "colab": {
          "base_uri": "https://localhost:8080/"
        },
        "id": "VBU_8xf7Ri3P",
        "outputId": "fd9480ea-dc4d-4484-dd44-d4c3399caf83"
      },
      "outputs": [
        {
          "name": "stdout",
          "output_type": "stream",
          "text": [
            "['apple', 'banana', 'cherry', 'kiwi', 'mango', 'watermelon']\n"
          ]
        }
      ],
      "source": [
        "abhinav = [\"apple\", \"banana\", \"cherry\", \"kiwi\", \"mango\",\"watermelon\"]\n",
        "list1 = abhinav.copy()\n",
        "print(list1)"
      ]
    },
    {
      "cell_type": "code",
      "execution_count": 38,
      "metadata": {
        "colab": {
          "base_uri": "https://localhost:8080/"
        },
        "id": "KwA7czvJRyV-",
        "outputId": "89af0b6f-b3e4-4050-90cc-bc0c8c795175"
      },
      "outputs": [
        {
          "name": "stdout",
          "output_type": "stream",
          "text": [
            "['apple', 'banana', 'cherry', 'kiwi', 'mango', 'watermelon']\n"
          ]
        }
      ],
      "source": [
        "abhinav = [\"apple\", \"banana\", \"cherry\", \"kiwi\", \"mango\",\"watermelon\"]\n",
        "list1 = list(abhinav)\n",
        "print(list1)"
      ]
    },
    {
      "cell_type": "markdown",
      "metadata": {
        "id": "FlV5z7vjR_wC"
      },
      "source": [
        "#### Joining two lists"
      ]
    },
    {
      "cell_type": "code",
      "execution_count": 39,
      "metadata": {
        "colab": {
          "base_uri": "https://localhost:8080/"
        },
        "id": "tCBf1ESRSLMw",
        "outputId": "7223bf80-0051-4799-e3f1-3e0bb94ef88e"
      },
      "outputs": [
        {
          "name": "stdout",
          "output_type": "stream",
          "text": [
            "['apple', 'banana', 'cherry', 'kiwi', 'mango', 'watermelon', 1, 2, 3, 4, 5, 6]\n"
          ]
        }
      ],
      "source": [
        "abhinav = [\"apple\", \"banana\", \"cherry\", \"kiwi\", \"mango\",\"watermelon\"]\n",
        "number = [1,2,3,4,5,6]\n",
        "abhilist = abhinav + number\n",
        "print(abhilist)"
      ]
    },
    {
      "cell_type": "code",
      "execution_count": 40,
      "metadata": {
        "colab": {
          "base_uri": "https://localhost:8080/"
        },
        "id": "LSMZbah2VUHF",
        "outputId": "86db2214-1c61-4b35-b845-ca437493304b"
      },
      "outputs": [
        {
          "name": "stdout",
          "output_type": "stream",
          "text": [
            "['apple', 'banana', 'cherry', 'kiwi', 'mango', 'watermelon', 1, 2, 3, 4, 5, 6]\n"
          ]
        }
      ],
      "source": [
        "abhinav1 = [\"apple\", \"banana\", \"cherry\", \"kiwi\", \"mango\",\"watermelon\"]\n",
        "abhinav2 = [1,2,3,4,5,6]\n",
        "abhinav1.extend(abhinav2)\n",
        "print(abhinav1)"
      ]
    },
    {
      "cell_type": "code",
      "execution_count": 41,
      "metadata": {
        "colab": {
          "base_uri": "https://localhost:8080/"
        },
        "id": "-2vH0zDpWYZc",
        "outputId": "f2cbd5b6-b12e-444e-8de6-9986f7a4c227"
      },
      "outputs": [
        {
          "name": "stdout",
          "output_type": "stream",
          "text": [
            "['apple', 'banana', 'cherry', 'kiwi', 'mango', 'watermelon', 1, 2, 3, 4, 5, 6]\n"
          ]
        }
      ],
      "source": [
        "abhi1 = [\"apple\", \"banana\", \"cherry\", \"kiwi\", \"mango\",\"watermelon\"]\n",
        "abhi2 = [1,2,3,4,5,6]\n",
        "for x in abhi2:\n",
        "  abhi1.append(x)\n",
        "print(abhi1)"
      ]
    }
  ],
  "metadata": {
    "colab": {
      "collapsed_sections": [],
      "name": "Vu21CSEN0100357",
      "provenance": []
    },
    "kernelspec": {
      "display_name": "Python 3",
      "name": "python3"
    },
    "language_info": {
      "codemirror_mode": {
        "name": "ipython",
        "version": 3
      },
      "file_extension": ".py",
      "mimetype": "text/x-python",
      "name": "python",
      "nbconvert_exporter": "python",
      "pygments_lexer": "ipython3",
      "version": "3.10.2"
    }
  },
  "nbformat": 4,
  "nbformat_minor": 0
}
