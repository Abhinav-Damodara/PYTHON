{
  "nbformat": 4,
  "nbformat_minor": 0,
  "metadata": {
    "colab": {
      "name": "Vu21CSEN0100357",
      "provenance": [],
      "collapsed_sections": [],
      "authorship_tag": "ABX9TyO6BXyC7mHtsKxsx6tXw8fq",
      "include_colab_link": true
    },
    "kernelspec": {
      "name": "python3",
      "display_name": "Python 3"
    },
    "language_info": {
      "name": "python"
    }
  },
  "cells": [
    {
      "cell_type": "markdown",
      "metadata": {
        "id": "view-in-github",
        "colab_type": "text"
      },
      "source": [
        "<a href=\"https://colab.research.google.com/github/AbhinavGitam/Python/blob/main/Vu21CSEN0100357.ipynb\" target=\"_parent\"><img src=\"https://colab.research.google.com/assets/colab-badge.svg\" alt=\"Open In Colab\"/></a>"
      ]
    },
    {
      "cell_type": "markdown",
      "source": [
        "# Lists"
      ],
      "metadata": {
        "id": "mAoxOaTv8UQw"
      }
    },
    {
      "cell_type": "markdown",
      "source": [
        "#### Creating a list"
      ],
      "metadata": {
        "id": "erC1KJ6P8jbN"
      }
    },
    {
      "cell_type": "code",
      "source": [
        "Abhinav= ['orange','apple','mango','banana','watermelon']\n",
        "print(Abhinav)"
      ],
      "metadata": {
        "colab": {
          "base_uri": "https://localhost:8080/"
        },
        "id": "3rupoClE8tmU",
        "outputId": "594f2d05-2bee-45c7-fae9-cfa520d1d708"
      },
      "execution_count": 2,
      "outputs": [
        {
          "output_type": "stream",
          "name": "stdout",
          "text": [
            "['orange', 'apple', 'mango', 'banana', 'watermelon']\n"
          ]
        }
      ]
    },
    {
      "cell_type": "markdown",
      "source": [
        "#### Length of the List"
      ],
      "metadata": {
        "id": "E_aBLWZeBMcv"
      }
    },
    {
      "cell_type": "code",
      "source": [
        "Abhinav = ['orange','apple','mango','banana','watermelon']\n",
        "print(len(Abhinav))"
      ],
      "metadata": {
        "colab": {
          "base_uri": "https://localhost:8080/"
        },
        "id": "_1tDzuqOAyUG",
        "outputId": "a3047db8-1b9b-45e2-8831-ee8f2d7ca64a"
      },
      "execution_count": 1,
      "outputs": [
        {
          "output_type": "stream",
          "name": "stdout",
          "text": [
            "5\n"
          ]
        }
      ]
    },
    {
      "cell_type": "markdown",
      "source": [
        "#### Lists-String,int & boolean data types"
      ],
      "metadata": {
        "id": "S0N7okeyBPhc"
      }
    },
    {
      "cell_type": "code",
      "source": [
        "abhinav1 = [\"apple\", \"banana\", \"cherry\"]\n",
        "abhinav2 = [1, 5, 7, 9, 3]\n",
        "abhinav3 = [True, False, False]\n",
        "abhinav4 = [\"abc\", 34, True, 40, \"male\"]\n",
        "print(abhinav1)\n",
        "print(type(abhinav1))\n",
        "print(abhinav2)\n",
        "print(type(abhinav2))\n",
        "print(abhinav3)\n",
        "print(type(abhinav3))\n",
        "print(abhinav4)\n",
        "print(type(abhinav4))"
      ],
      "metadata": {
        "colab": {
          "base_uri": "https://localhost:8080/"
        },
        "id": "f8UbA-kZBnOR",
        "outputId": "323ccead-a50f-4c32-8a21-0ed5d586c7d0"
      },
      "execution_count": 3,
      "outputs": [
        {
          "output_type": "stream",
          "name": "stdout",
          "text": [
            "['apple', 'banana', 'cherry']\n",
            "<class 'list'>\n",
            "[1, 5, 7, 9, 3]\n",
            "<class 'list'>\n",
            "[True, False, False]\n",
            "<class 'list'>\n",
            "['abc', 34, True, 40, 'male']\n",
            "<class 'list'>\n"
          ]
        }
      ]
    },
    {
      "cell_type": "markdown",
      "source": [
        "list() contributor"
      ],
      "metadata": {
        "id": "0ThpCAfnC32S"
      }
    },
    {
      "cell_type": "code",
      "source": [
        "abhinav = list((\"apple\", \"banana\", \"cherry\"))\n",
        "print(abhinav)"
      ],
      "metadata": {
        "colab": {
          "base_uri": "https://localhost:8080/"
        },
        "id": "qkwSzHMoC6TW",
        "outputId": "d8e6cb4a-7ecd-4b42-bdf5-e9e0fcf70563"
      },
      "execution_count": 4,
      "outputs": [
        {
          "output_type": "stream",
          "name": "stdout",
          "text": [
            "['apple', 'banana', 'cherry']\n"
          ]
        }
      ]
    },
    {
      "cell_type": "markdown",
      "source": [
        "#### Accesing the list items"
      ],
      "metadata": {
        "id": "8uDxml_tE-yS"
      }
    },
    {
      "cell_type": "code",
      "source": [
        "abhinav = ['orange','apple','mango','banana','watermelon']\n",
        "print(abhinav[1])"
      ],
      "metadata": {
        "colab": {
          "base_uri": "https://localhost:8080/"
        },
        "id": "iIupzkSmFGe1",
        "outputId": "e386a257-7c32-4d9c-e9c2-829e8f16be36"
      },
      "execution_count": 5,
      "outputs": [
        {
          "output_type": "stream",
          "name": "stdout",
          "text": [
            "apple\n"
          ]
        }
      ]
    },
    {
      "cell_type": "markdown",
      "source": [
        "#### Print the last item"
      ],
      "metadata": {
        "id": "AVjaOZKiFO80"
      }
    },
    {
      "cell_type": "code",
      "source": [
        "abhinav = ['orange','apple','mango','banana','watermelon']\n",
        "print(abhinav[-1])"
      ],
      "metadata": {
        "colab": {
          "base_uri": "https://localhost:8080/"
        },
        "id": "2loPY5B7FTx7",
        "outputId": "dd555c31-f822-49be-cf83-dd1ac8246d80"
      },
      "execution_count": 6,
      "outputs": [
        {
          "output_type": "stream",
          "name": "stdout",
          "text": [
            "watermelon\n"
          ]
        }
      ]
    },
    {
      "cell_type": "markdown",
      "source": [
        "#### Print the items of the list between the range"
      ],
      "metadata": {
        "id": "Veivk3xxFYIT"
      }
    },
    {
      "cell_type": "code",
      "source": [
        "abhinav = ['orange','apple','mango','banana','watermelon']\n",
        "print(abhinav[1:4])"
      ],
      "metadata": {
        "colab": {
          "base_uri": "https://localhost:8080/"
        },
        "id": "1SariGbpFg3L",
        "outputId": "7ef76fa7-5cdc-426a-a8b8-4800f7fb7586"
      },
      "execution_count": 7,
      "outputs": [
        {
          "output_type": "stream",
          "name": "stdout",
          "text": [
            "['apple', 'mango', 'banana']\n"
          ]
        }
      ]
    },
    {
      "cell_type": "markdown",
      "source": [
        "#### From beginning and till the end"
      ],
      "metadata": {
        "id": "PrPe2ZrbFpC6"
      }
    },
    {
      "cell_type": "code",
      "source": [
        "abhinav = ['orange','apple','mango','banana','watermelon']\n",
        "print(abhinav[:4])\n",
        "abhinav = ['orange','apple','mango','banana','watermelon']\n",
        "print(abhinav[1:])"
      ],
      "metadata": {
        "colab": {
          "base_uri": "https://localhost:8080/"
        },
        "id": "Yzdf67-NFwyq",
        "outputId": "a781a8d7-6b31-4b7d-b4fb-2bfc032d5dbe"
      },
      "execution_count": 8,
      "outputs": [
        {
          "output_type": "stream",
          "name": "stdout",
          "text": [
            "['orange', 'apple', 'mango', 'banana']\n",
            "['apple', 'mango', 'banana', 'watermelon']\n"
          ]
        }
      ]
    },
    {
      "cell_type": "markdown",
      "source": [
        "#### To check the items in the list"
      ],
      "metadata": {
        "id": "Gy83wMf1F6Hz"
      }
    },
    {
      "cell_type": "code",
      "source": [
        "abhinav = ['orange','apple','mango','banana','watermelon']\n",
        "if 'apple' in abhinav:\n",
        "  print(\"Yes 'apple' is in the abhinav list\")\n",
        "else:\n",
        "  print(\"No 'apple' is not in the abhinav list\")"
      ],
      "metadata": {
        "colab": {
          "base_uri": "https://localhost:8080/"
        },
        "id": "tZLZWIDPGBTM",
        "outputId": "abf853ae-6c23-487d-925e-a31b53880c71"
      },
      "execution_count": 9,
      "outputs": [
        {
          "output_type": "stream",
          "name": "stdout",
          "text": [
            "Yes 'apple' is in the abhinav list\n"
          ]
        }
      ]
    },
    {
      "cell_type": "markdown",
      "source": [
        "#### Changing of a list item"
      ],
      "metadata": {
        "id": "BiBK4bifIVBl"
      }
    },
    {
      "cell_type": "code",
      "source": [
        "abhinav = ['orange','apple','mango','banana','watermelon']\n",
        "abhinav[2] = 'kiwi'\n",
        "print(abhinav)"
      ],
      "metadata": {
        "colab": {
          "base_uri": "https://localhost:8080/"
        },
        "id": "7KSGrI7_Icii",
        "outputId": "c16528ca-f133-44d1-f60a-994e1974c5fe"
      },
      "execution_count": 10,
      "outputs": [
        {
          "output_type": "stream",
          "name": "stdout",
          "text": [
            "['orange', 'apple', 'kiwi', 'banana', 'watermelon']\n"
          ]
        }
      ]
    },
    {
      "cell_type": "markdown",
      "source": [
        "#### Changing multiple variables"
      ],
      "metadata": {
        "id": "ueTOU1EfIrwB"
      }
    },
    {
      "cell_type": "code",
      "source": [
        "abhinav = ['orange','apple','mango','banana','watermelon']\n",
        "abhinav[1:3] = ['kiwi','dragon Fruit']\n",
        "print(abhinav)"
      ],
      "metadata": {
        "colab": {
          "base_uri": "https://localhost:8080/"
        },
        "id": "1plHeBSMIvTt",
        "outputId": "93010445-f80c-4053-b801-720973ff45bb"
      },
      "execution_count": 11,
      "outputs": [
        {
          "output_type": "stream",
          "name": "stdout",
          "text": [
            "['orange', 'kiwi', 'dragon Fruit', 'banana', 'watermelon']\n"
          ]
        }
      ]
    },
    {
      "cell_type": "markdown",
      "source": [
        "#### Insert Items into the list"
      ],
      "metadata": {
        "id": "D--ZNUO4JCT1"
      }
    },
    {
      "cell_type": "code",
      "source": [
        "abhinav = ['orange','apple','mango','banana','watermelon']\n",
        "abhinav.insert(2, 'kiwi')\n",
        "print(abhinav)"
      ],
      "metadata": {
        "colab": {
          "base_uri": "https://localhost:8080/"
        },
        "id": "XDEz8tQYJhiW",
        "outputId": "0054a3e0-c479-4ad9-cec7-c69148006fc4"
      },
      "execution_count": 13,
      "outputs": [
        {
          "output_type": "stream",
          "name": "stdout",
          "text": [
            "['orange', 'apple', 'kiwi', 'mango', 'banana', 'watermelon']\n"
          ]
        }
      ]
    },
    {
      "cell_type": "markdown",
      "source": [
        "#### Using append function\n"
      ],
      "metadata": {
        "id": "B8Keg6-dKTt-"
      }
    },
    {
      "cell_type": "code",
      "source": [
        "abhinav = ['orange','apple','mango','banana','watermelon']\n",
        "abhinav.append('Kiwi')\n",
        "print(abhinav)"
      ],
      "metadata": {
        "colab": {
          "base_uri": "https://localhost:8080/"
        },
        "id": "HR0Sc3eFKW8f",
        "outputId": "96e86206-ca1e-4b65-8d2c-5610bf9cf08e"
      },
      "execution_count": 14,
      "outputs": [
        {
          "output_type": "stream",
          "name": "stdout",
          "text": [
            "['orange', 'apple', 'mango', 'banana', 'watermelon', 'Kiwi']\n"
          ]
        }
      ]
    },
    {
      "cell_type": "markdown",
      "source": [
        "#### Using extend function"
      ],
      "metadata": {
        "id": "xpafhSGoOyb8"
      }
    },
    {
      "cell_type": "code",
      "source": [
        "abhinav = ['orange','apple','mango','banana','watermelon']\n",
        "veggies = ['tomato','brinjal','potato']\n",
        "abhinav.extend(veggies)\n",
        "print(abhinav)"
      ],
      "metadata": {
        "colab": {
          "base_uri": "https://localhost:8080/"
        },
        "id": "gLr6PU8DO2wc",
        "outputId": "af9803ab-9329-49d8-eafb-a061a827ac67"
      },
      "execution_count": 15,
      "outputs": [
        {
          "output_type": "stream",
          "name": "stdout",
          "text": [
            "['orange', 'apple', 'mango', 'banana', 'watermelon', 'tomato', 'brinjal', 'potato']\n"
          ]
        }
      ]
    },
    {
      "cell_type": "markdown",
      "source": [
        "#### Extending This tuple"
      ],
      "metadata": {
        "id": "ScT1gDtNPVqK"
      }
    },
    {
      "cell_type": "code",
      "source": [
        "abhinav = ['orange','apple','mango','banana','watermelon']\n",
        "thistuple = (\"kiwi\", \"orange\")\n",
        "abhinav.extend(thistuple)\n",
        "print(abhinav)"
      ],
      "metadata": {
        "colab": {
          "base_uri": "https://localhost:8080/"
        },
        "id": "U0o7CBE0Plh6",
        "outputId": "e41cf1e7-1fd2-4f9d-b7fb-eae723d537ff"
      },
      "execution_count": 16,
      "outputs": [
        {
          "output_type": "stream",
          "name": "stdout",
          "text": [
            "['orange', 'apple', 'mango', 'banana', 'watermelon', 'kiwi', 'orange']\n"
          ]
        }
      ]
    },
    {
      "cell_type": "markdown",
      "source": [
        "#### Removing a list item using remove function"
      ],
      "metadata": {
        "id": "4zkbwoCSP1L2"
      }
    },
    {
      "cell_type": "code",
      "source": [
        "abhinav = ['orange','apple','mango','banana','watermelon']\n",
        "abhinav.remove('banana')\n",
        "print(abhinav)"
      ],
      "metadata": {
        "colab": {
          "base_uri": "https://localhost:8080/"
        },
        "id": "z7YSJ8anP95T",
        "outputId": "10a0a581-fe4b-4d82-966d-33251a641bec"
      },
      "execution_count": 17,
      "outputs": [
        {
          "output_type": "stream",
          "name": "stdout",
          "text": [
            "['orange', 'apple', 'mango', 'watermelon']\n"
          ]
        }
      ]
    },
    {
      "cell_type": "markdown",
      "source": [
        "#### Using remove function to remove a specific list index"
      ],
      "metadata": {
        "id": "vaUABlbdQLTt"
      }
    },
    {
      "cell_type": "code",
      "source": [
        "abhinav = ['orange','apple','mango','banana','watermelon']\n",
        "abhinav.pop(1)\n",
        "print(abhinav)"
      ],
      "metadata": {
        "colab": {
          "base_uri": "https://localhost:8080/"
        },
        "id": "k4qo0T2dQOZM",
        "outputId": "f9b60fa3-08a1-432f-c517-ae5df230bcaf"
      },
      "execution_count": 18,
      "outputs": [
        {
          "output_type": "stream",
          "name": "stdout",
          "text": [
            "['orange', 'mango', 'banana', 'watermelon']\n"
          ]
        }
      ]
    },
    {
      "cell_type": "markdown",
      "source": [
        "#### Using remove function to remove the last list index"
      ],
      "metadata": {
        "id": "AoEYDxAxQfSL"
      }
    },
    {
      "cell_type": "code",
      "source": [
        "abhinav = ['orange','apple','mango','banana','watermelon']\n",
        "abhinav.pop()\n",
        "print(abhinav)"
      ],
      "metadata": {
        "colab": {
          "base_uri": "https://localhost:8080/"
        },
        "id": "o294qoPiQrTl",
        "outputId": "12a557bb-4f14-4429-ac3f-f4febd92f587"
      },
      "execution_count": 19,
      "outputs": [
        {
          "output_type": "stream",
          "name": "stdout",
          "text": [
            "['orange', 'apple', 'mango', 'banana']\n"
          ]
        }
      ]
    },
    {
      "cell_type": "markdown",
      "source": [
        "#### Using the Delete Function"
      ],
      "metadata": {
        "id": "VRNnOQDpQxYt"
      }
    },
    {
      "cell_type": "code",
      "source": [
        "abhinav = ['orange','apple','mango','banana','watermelon']\n",
        "del abhinav[2]\n",
        "print(abhinav)"
      ],
      "metadata": {
        "colab": {
          "base_uri": "https://localhost:8080/"
        },
        "id": "BEPPhP4vQ7Qb",
        "outputId": "5690695c-894d-47c8-9d03-c11053c1cf0f"
      },
      "execution_count": 20,
      "outputs": [
        {
          "output_type": "stream",
          "name": "stdout",
          "text": [
            "['orange', 'apple', 'banana', 'watermelon']\n"
          ]
        }
      ]
    },
    {
      "cell_type": "code",
      "source": [
        "abhinav = ['orange','apple','mango','banana','watermelon']\n",
        "del abhinav\n",
        "print(abhinav)"
      ],
      "metadata": {
        "colab": {
          "base_uri": "https://localhost:8080/",
          "height": 200
        },
        "id": "pCKdV4IIRXio",
        "outputId": "17890543-4805-40ce-c8de-7a52d89482a0"
      },
      "execution_count": 21,
      "outputs": [
        {
          "output_type": "error",
          "ename": "NameError",
          "evalue": "ignored",
          "traceback": [
            "\u001b[0;31m---------------------------------------------------------------------------\u001b[0m",
            "\u001b[0;31mNameError\u001b[0m                                 Traceback (most recent call last)",
            "\u001b[0;32m<ipython-input-21-ec70c734fb6b>\u001b[0m in \u001b[0;36m<module>\u001b[0;34m()\u001b[0m\n\u001b[1;32m      1\u001b[0m \u001b[0mabhinav\u001b[0m \u001b[0;34m=\u001b[0m \u001b[0;34m[\u001b[0m\u001b[0;34m'orange'\u001b[0m\u001b[0;34m,\u001b[0m\u001b[0;34m'apple'\u001b[0m\u001b[0;34m,\u001b[0m\u001b[0;34m'mango'\u001b[0m\u001b[0;34m,\u001b[0m\u001b[0;34m'banana'\u001b[0m\u001b[0;34m,\u001b[0m\u001b[0;34m'watermelon'\u001b[0m\u001b[0;34m]\u001b[0m\u001b[0;34m\u001b[0m\u001b[0;34m\u001b[0m\u001b[0m\n\u001b[1;32m      2\u001b[0m \u001b[0;32mdel\u001b[0m \u001b[0mabhinav\u001b[0m\u001b[0;34m\u001b[0m\u001b[0;34m\u001b[0m\u001b[0m\n\u001b[0;32m----> 3\u001b[0;31m \u001b[0mprint\u001b[0m\u001b[0;34m(\u001b[0m\u001b[0mabhinav\u001b[0m\u001b[0;34m)\u001b[0m\u001b[0;34m\u001b[0m\u001b[0;34m\u001b[0m\u001b[0m\n\u001b[0m",
            "\u001b[0;31mNameError\u001b[0m: name 'abhinav' is not defined"
          ]
        }
      ]
    },
    {
      "cell_type": "markdown",
      "source": [
        "#### Clear Function"
      ],
      "metadata": {
        "id": "AA46aPLIRaB_"
      }
    },
    {
      "cell_type": "code",
      "source": [
        "abhinav = ['orange','apple','mango','banana','watermelon']\n",
        "abhinav.clear()\n",
        "print(abhinav)"
      ],
      "metadata": {
        "colab": {
          "base_uri": "https://localhost:8080/"
        },
        "id": "vrKUjr1GRekM",
        "outputId": "e768d29d-0049-4eb8-ed86-9d6c5a9a7856"
      },
      "execution_count": 22,
      "outputs": [
        {
          "output_type": "stream",
          "name": "stdout",
          "text": [
            "[]\n"
          ]
        }
      ]
    },
    {
      "cell_type": "markdown",
      "source": [
        "#### Write as a list using loop"
      ],
      "metadata": {
        "id": "H13zHx_6GIvy"
      }
    },
    {
      "cell_type": "code",
      "source": [
        "abhinav = [\"apple\", \"banana\", \"cherry\"]\n",
        "for x in abhinav:\n",
        "  print(x)"
      ],
      "metadata": {
        "colab": {
          "base_uri": "https://localhost:8080/"
        },
        "id": "lMKB3CtZGDwj",
        "outputId": "ccb8ed18-9444-4608-c55d-7b7a8d5aa224"
      },
      "execution_count": 25,
      "outputs": [
        {
          "output_type": "stream",
          "name": "stdout",
          "text": [
            "apple\n",
            "banana\n",
            "cherry\n"
          ]
        }
      ]
    },
    {
      "cell_type": "markdown",
      "source": [
        "#### Print the list item in a list"
      ],
      "metadata": {
        "id": "PN3AswmdGMOT"
      }
    },
    {
      "cell_type": "code",
      "source": [
        "abhinav = [\"apple\", \"banana\", \"cherry\"]\n",
        "for i in range(len(abhinav)):\n",
        "  print(abhinav[1])"
      ],
      "metadata": {
        "colab": {
          "base_uri": "https://localhost:8080/"
        },
        "id": "-Tcr6DNCGQst",
        "outputId": "1ec9a436-8790-48e4-e3f5-7df661022b5d"
      },
      "execution_count": 28,
      "outputs": [
        {
          "output_type": "stream",
          "name": "stdout",
          "text": [
            "banana\n",
            "banana\n",
            "banana\n"
          ]
        }
      ]
    },
    {
      "cell_type": "markdown",
      "source": [
        "#### Sort the lists"
      ],
      "metadata": {
        "id": "QbUmHtvFF2-r"
      }
    },
    {
      "cell_type": "code",
      "source": [
        "abhinav = ['orange','apple','mango','banana','watermelon']\n",
        "abhinav.sort()\n",
        "print(abhinav)"
      ],
      "metadata": {
        "colab": {
          "base_uri": "https://localhost:8080/"
        },
        "id": "NPFmpqyDE8wk",
        "outputId": "fb4b9abd-e2e1-4be1-97e9-114d81bd3946"
      },
      "execution_count": 24,
      "outputs": [
        {
          "output_type": "stream",
          "name": "stdout",
          "text": [
            "['apple', 'banana', 'mango', 'orange', 'watermelon']\n"
          ]
        }
      ]
    },
    {
      "cell_type": "markdown",
      "source": [
        "#### Loop Using List Comprehension"
      ],
      "metadata": {
        "id": "IMhbf0wdLDKJ"
      }
    },
    {
      "cell_type": "code",
      "source": [
        "abhinav = ['orange','apple','mango','banana','watermelon']\n",
        "[print(v) for v in abhinav] "
      ],
      "metadata": {
        "colab": {
          "base_uri": "https://localhost:8080/"
        },
        "id": "hgDXdHPFLIET",
        "outputId": "5ec9fb5d-ae68-4d16-bf30-dc56d38b14c7"
      },
      "execution_count": 31,
      "outputs": [
        {
          "output_type": "stream",
          "name": "stdout",
          "text": [
            "orange\n",
            "apple\n",
            "mango\n",
            "banana\n",
            "watermelon\n"
          ]
        },
        {
          "output_type": "execute_result",
          "data": {
            "text/plain": [
              "[None, None, None, None, None]"
            ]
          },
          "metadata": {},
          "execution_count": 31
        }
      ]
    },
    {
      "cell_type": "markdown",
      "source": [
        "#### List Comprehension"
      ],
      "metadata": {
        "id": "Qn1lr5MDMhv6"
      }
    },
    {
      "cell_type": "code",
      "source": [
        "abhinav = [\"apple\", \"banana\", \"cherry\", \"kiwi\", \"mango\",\"watermelon\"]\n",
        "new = []\n",
        "for x in abhinav:\n",
        "  if \"a\" in x:\n",
        "    new.append(x)\n",
        "print(new)"
      ],
      "metadata": {
        "colab": {
          "base_uri": "https://localhost:8080/"
        },
        "id": "rpNqTBZOMqnh",
        "outputId": "92d16d91-f959-4b3a-ca78-2a4e3636da16"
      },
      "execution_count": 34,
      "outputs": [
        {
          "output_type": "stream",
          "name": "stdout",
          "text": [
            "['apple', 'banana', 'mango', 'watermelon']\n"
          ]
        }
      ]
    },
    {
      "cell_type": "markdown",
      "source": [
        "#### print only those list items which are not \"apple\""
      ],
      "metadata": {
        "id": "_zSOcz2CP1lu"
      }
    },
    {
      "cell_type": "code",
      "source": [
        "abhinav = [\"apple\", \"banana\", \"cherry\", \"kiwi\", \"mango\",\"watermelon\"]\n",
        "abhinew = [x for x in abhinav if x != \"apple\"]\n",
        "print(abhinew)"
      ],
      "metadata": {
        "colab": {
          "base_uri": "https://localhost:8080/"
        },
        "id": "qIPinbubPrun",
        "outputId": "0dd032c2-bfc9-42ec-f1f6-66cbfd9024f4"
      },
      "execution_count": 40,
      "outputs": [
        {
          "output_type": "stream",
          "name": "stdout",
          "text": [
            "['banana', 'cherry', 'kiwi', 'mango', 'watermelon']\n"
          ]
        }
      ]
    },
    {
      "cell_type": "markdown",
      "source": [
        "#### sorting alphabetically and sumerically"
      ],
      "metadata": {
        "id": "PLc8kdkvOto4"
      }
    },
    {
      "cell_type": "code",
      "source": [
        "abhinav = [\"apple\", \"banana\", \"cherry\", \"kiwi\", \"mango\",\"watermelon\"]\n",
        "abhinav.sort()\n",
        "print(abhinav)"
      ],
      "metadata": {
        "colab": {
          "base_uri": "https://localhost:8080/"
        },
        "id": "MMVwygeMOxsq",
        "outputId": "5d43e29b-074c-410b-b783-f6a5a3637fe7"
      },
      "execution_count": 36,
      "outputs": [
        {
          "output_type": "stream",
          "name": "stdout",
          "text": [
            "['apple', 'banana', 'cherry', 'kiwi', 'mango', 'watermelon']\n"
          ]
        }
      ]
    },
    {
      "cell_type": "code",
      "source": [
        "abhinav = [10,34,87,24]\n",
        "abhinav.sort()\n",
        "print(abhinav)"
      ],
      "metadata": {
        "colab": {
          "base_uri": "https://localhost:8080/"
        },
        "id": "9rFqekobO8bt",
        "outputId": "6cc44605-676d-4518-f5f4-826eece6d7e4"
      },
      "execution_count": 37,
      "outputs": [
        {
          "output_type": "stream",
          "name": "stdout",
          "text": [
            "[10, 24, 34, 87]\n"
          ]
        }
      ]
    },
    {
      "cell_type": "markdown",
      "source": [
        "#### sort decending"
      ],
      "metadata": {
        "id": "DkCMFjh6PEig"
      }
    },
    {
      "cell_type": "code",
      "source": [
        "abhinav = [\"apple\", \"banana\", \"cherry\", \"kiwi\", \"mango\",\"watermelon\"]\n",
        "abhinav.sort(reverse=True)\n",
        "print(abhinav)"
      ],
      "metadata": {
        "colab": {
          "base_uri": "https://localhost:8080/"
        },
        "id": "eXRMPlSVPOAM",
        "outputId": "5ae9f975-1128-44ac-bd38-b408bf7ecb03"
      },
      "execution_count": 42,
      "outputs": [
        {
          "output_type": "stream",
          "name": "stdout",
          "text": [
            "['watermelon', 'mango', 'kiwi', 'cherry', 'banana', 'apple']\n"
          ]
        }
      ]
    },
    {
      "cell_type": "code",
      "source": [
        "abhinav = [10,34,87,24]\n",
        "abhinav.sort(reverse=True)\n",
        "print(abhinav)"
      ],
      "metadata": {
        "colab": {
          "base_uri": "https://localhost:8080/"
        },
        "id": "UQcskScUPG9b",
        "outputId": "b824d735-2e68-477d-9101-68739c4cadac"
      },
      "execution_count": 38,
      "outputs": [
        {
          "output_type": "stream",
          "name": "stdout",
          "text": [
            "[87, 34, 24, 10]\n"
          ]
        }
      ]
    },
    {
      "cell_type": "markdown",
      "source": [
        "#### Case sensitive sorting"
      ],
      "metadata": {
        "id": "GMqkxc-wQP14"
      }
    },
    {
      "cell_type": "code",
      "source": [
        "abhinav = [\"apple\", \"Banana\", \"Cherry\", \"Kiwi\", \"mango\",\"watermelon\"]\n",
        "abhinav.sort()\n",
        "print(abhinav)"
      ],
      "metadata": {
        "colab": {
          "base_uri": "https://localhost:8080/"
        },
        "id": "teKKg_AAQUWM",
        "outputId": "c01ebe2e-d2a8-4b36-e542-adafa06d0504"
      },
      "execution_count": 45,
      "outputs": [
        {
          "output_type": "stream",
          "name": "stdout",
          "text": [
            "['Banana', 'Cherry', 'Kiwi', 'apple', 'mango', 'watermelon']\n"
          ]
        }
      ]
    },
    {
      "cell_type": "markdown",
      "source": [
        "#### To ignore the cases and sort accordingly"
      ],
      "metadata": {
        "id": "7oSgE09qQja1"
      }
    },
    {
      "cell_type": "code",
      "source": [
        "abhinav = [\"apple\", \"Banana\", \"Cherry\", \"Kiwi\", \"mango\",\"watermelon\"]\n",
        "abhinav.sort(key = str.lower)\n",
        "print(abhinav)"
      ],
      "metadata": {
        "colab": {
          "base_uri": "https://localhost:8080/"
        },
        "id": "r_0MLwR0QoDd",
        "outputId": "d13326b7-589b-4252-fc4e-d3d3a74af190"
      },
      "execution_count": 48,
      "outputs": [
        {
          "output_type": "stream",
          "name": "stdout",
          "text": [
            "['apple', 'Banana', 'Cherry', 'Kiwi', 'mango', 'watermelon']\n"
          ]
        }
      ]
    },
    {
      "cell_type": "markdown",
      "source": [
        "#### Reverse a list"
      ],
      "metadata": {
        "id": "lbobBozqRQmI"
      }
    },
    {
      "cell_type": "code",
      "source": [
        "abhinav = [\"apple\", \"Banana\", \"Cherry\", \"Kiwi\", \"mango\",\"watermelon\"]\n",
        "abhinav.reverse()\n",
        "print(abhinav)"
      ],
      "metadata": {
        "colab": {
          "base_uri": "https://localhost:8080/"
        },
        "id": "8c0ScdauRElb",
        "outputId": "cfe97ee3-2b76-4f3e-ce00-5ea69748ecfc"
      },
      "execution_count": 49,
      "outputs": [
        {
          "output_type": "stream",
          "name": "stdout",
          "text": [
            "['watermelon', 'mango', 'Kiwi', 'Cherry', 'Banana', 'apple']\n"
          ]
        }
      ]
    },
    {
      "cell_type": "markdown",
      "source": [
        "#### Copying a list"
      ],
      "metadata": {
        "id": "cuhvN8qSRUxa"
      }
    },
    {
      "cell_type": "code",
      "source": [
        "abhinav = [\"apple\", \"banana\", \"cherry\", \"kiwi\", \"mango\",\"watermelon\"]\n",
        "list1 = abhinav.copy()\n",
        "print(list1)"
      ],
      "metadata": {
        "colab": {
          "base_uri": "https://localhost:8080/"
        },
        "id": "VBU_8xf7Ri3P",
        "outputId": "fd9480ea-dc4d-4484-dd44-d4c3399caf83"
      },
      "execution_count": 51,
      "outputs": [
        {
          "output_type": "stream",
          "name": "stdout",
          "text": [
            "['apple', 'banana', 'cherry', 'kiwi', 'mango', 'watermelon']\n"
          ]
        }
      ]
    },
    {
      "cell_type": "code",
      "source": [
        "abhinav = [\"apple\", \"banana\", \"cherry\", \"kiwi\", \"mango\",\"watermelon\"]\n",
        "list1 = list(abhinav)\n",
        "print(list1)"
      ],
      "metadata": {
        "colab": {
          "base_uri": "https://localhost:8080/"
        },
        "id": "KwA7czvJRyV-",
        "outputId": "89af0b6f-b3e4-4050-90cc-bc0c8c795175"
      },
      "execution_count": 53,
      "outputs": [
        {
          "output_type": "stream",
          "name": "stdout",
          "text": [
            "['apple', 'banana', 'cherry', 'kiwi', 'mango', 'watermelon']\n"
          ]
        }
      ]
    },
    {
      "cell_type": "markdown",
      "source": [
        "#### Joining two lists"
      ],
      "metadata": {
        "id": "FlV5z7vjR_wC"
      }
    },
    {
      "cell_type": "code",
      "source": [
        "abhinav = [\"apple\", \"banana\", \"cherry\", \"kiwi\", \"mango\",\"watermelon\"]\n",
        "number = [1,2,3,4,5,6]\n",
        "abhilist = abhinav + number\n",
        "print(abhilist)"
      ],
      "metadata": {
        "colab": {
          "base_uri": "https://localhost:8080/"
        },
        "id": "tCBf1ESRSLMw",
        "outputId": "7223bf80-0051-4799-e3f1-3e0bb94ef88e"
      },
      "execution_count": 57,
      "outputs": [
        {
          "output_type": "stream",
          "name": "stdout",
          "text": [
            "['apple', 'banana', 'cherry', 'kiwi', 'mango', 'watermelon', 1, 2, 3, 4, 5, 6]\n"
          ]
        }
      ]
    },
    {
      "cell_type": "code",
      "source": [
        "abhinav1 = [\"apple\", \"banana\", \"cherry\", \"kiwi\", \"mango\",\"watermelon\"]\n",
        "abhinav2 = [1,2,3,4,5,6]\n",
        "abhinav1.extend(abhinav2)\n",
        "print(abhinav1)"
      ],
      "metadata": {
        "colab": {
          "base_uri": "https://localhost:8080/"
        },
        "id": "LSMZbah2VUHF",
        "outputId": "86db2214-1c61-4b35-b845-ca437493304b"
      },
      "execution_count": 61,
      "outputs": [
        {
          "output_type": "stream",
          "name": "stdout",
          "text": [
            "['apple', 'banana', 'cherry', 'kiwi', 'mango', 'watermelon', 1, 2, 3, 4, 5, 6]\n"
          ]
        }
      ]
    },
    {
      "cell_type": "code",
      "source": [
        "abhi1 = [\"apple\", \"banana\", \"cherry\", \"kiwi\", \"mango\",\"watermelon\"]\n",
        "abhi2 = [1,2,3,4,5,6]\n",
        "for x in abhi2:\n",
        "  abhi1.append(x)\n",
        "print(abhi1)"
      ],
      "metadata": {
        "colab": {
          "base_uri": "https://localhost:8080/"
        },
        "id": "-2vH0zDpWYZc",
        "outputId": "f2cbd5b6-b12e-444e-8de6-9986f7a4c227"
      },
      "execution_count": 64,
      "outputs": [
        {
          "output_type": "stream",
          "name": "stdout",
          "text": [
            "['apple', 'banana', 'cherry', 'kiwi', 'mango', 'watermelon', 1, 2, 3, 4, 5, 6]\n"
          ]
        }
      ]
    }
  ]
}