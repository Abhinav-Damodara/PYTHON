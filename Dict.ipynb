{
 "cells": [
  {
   "cell_type": "markdown",
   "metadata": {},
   "source": [
    "# Dictionary"
   ]
  },
  {
   "cell_type": "markdown",
   "metadata": {},
   "source": [
    "#### Create and print a dictionary:"
   ]
  },
  {
   "cell_type": "code",
   "execution_count": 176,
   "metadata": {},
   "outputs": [
    {
     "name": "stdout",
     "output_type": "stream",
     "text": [
      "{'brand': 'bugatti', 'model': 'chiron', 'year': 2000}\n"
     ]
    }
   ],
   "source": [
    "abhinav = {\n",
    "  \"brand\": \"bugatti\",\n",
    "  \"model\": \"chiron\",\n",
    "  \"year\": 2000\n",
    "}\n",
    "print(abhinav)"
   ]
  },
  {
   "cell_type": "markdown",
   "metadata": {},
   "source": [
    "#### Print the \"brand\" value of the dictionary:"
   ]
  },
  {
   "cell_type": "code",
   "execution_count": 177,
   "metadata": {},
   "outputs": [
    {
     "name": "stdout",
     "output_type": "stream",
     "text": [
      "bugatti\n"
     ]
    }
   ],
   "source": [
    "abhinav = {\n",
    "  \"brand\": \"bugatti\",\n",
    "  \"model\": \"chiron\",\n",
    "  \"year\": 2000\n",
    "}\n",
    "print(abhinav[\"brand\"])"
   ]
  },
  {
   "cell_type": "markdown",
   "metadata": {},
   "source": [
    "#### Duplicates Not Allowed"
   ]
  },
  {
   "cell_type": "code",
   "execution_count": 178,
   "metadata": {},
   "outputs": [
    {
     "name": "stdout",
     "output_type": "stream",
     "text": [
      "{'brand': 'bugatti', 'model': 'chiron', 'year': 2020}\n"
     ]
    }
   ],
   "source": [
    "abhinav = {\n",
    "  \"brand\": \"bugatti\",\n",
    "  \"model\": \"chiron\",\n",
    "  \"year\": 2000,\n",
    "  \"year\": 2020\n",
    "}\n",
    "print(abhinav)\n",
    "\n",
    "# prints the latest value"
   ]
  },
  {
   "cell_type": "markdown",
   "metadata": {},
   "source": [
    "#### Dictionary Length"
   ]
  },
  {
   "cell_type": "code",
   "execution_count": 179,
   "metadata": {},
   "outputs": [
    {
     "name": "stdout",
     "output_type": "stream",
     "text": [
      "{'brand': 'bugatti', 'model': 'chiron', 'year': 2020}\n",
      "3\n"
     ]
    }
   ],
   "source": [
    "abhinav = {\n",
    "  \"brand\": \"bugatti\",\n",
    "  \"model\": \"chiron\",\n",
    "  \"year\": 2000,\n",
    "  \"year\": 2020\n",
    "}\n",
    "print(abhinav)\n",
    "print(len(abhinav))"
   ]
  },
  {
   "cell_type": "markdown",
   "metadata": {},
   "source": [
    "#### Data Types"
   ]
  },
  {
   "cell_type": "code",
   "execution_count": 180,
   "metadata": {},
   "outputs": [
    {
     "name": "stdout",
     "output_type": "stream",
     "text": [
      "{'brand': 'bugatti', 'electric': False, 'year': 2000, 'colors': ['red', 'white', 'blue']}\n"
     ]
    }
   ],
   "source": [
    "abhinav = {\n",
    "  \"brand\": \"bugatti\",\n",
    "  \"electric\": False,\n",
    "  \"year\": 2000,\n",
    "  \"colors\": [\"red\", \"white\", \"blue\"]\n",
    "}\n",
    "print(abhinav)"
   ]
  },
  {
   "cell_type": "markdown",
   "metadata": {},
   "source": [
    "#### Type"
   ]
  },
  {
   "cell_type": "code",
   "execution_count": 181,
   "metadata": {},
   "outputs": [
    {
     "name": "stdout",
     "output_type": "stream",
     "text": [
      "<class 'dict'>\n"
     ]
    }
   ],
   "source": [
    "abhinav = {\n",
    "  \"brand\": \"bugatti\",\n",
    "  \"model\": \"chiron\",\n",
    "  \"year\": 2000\n",
    "}\n",
    "print(type(abhinav))"
   ]
  },
  {
   "cell_type": "markdown",
   "metadata": {},
   "source": [
    "#### Accessing Items"
   ]
  },
  {
   "cell_type": "code",
   "execution_count": 182,
   "metadata": {},
   "outputs": [
    {
     "name": "stdout",
     "output_type": "stream",
     "text": [
      "chiron\n",
      "chiron\n"
     ]
    }
   ],
   "source": [
    "#Type 1\n",
    "\n",
    "abhinav = {\n",
    "  \"brand\": \"bugatti\",\n",
    "  \"model\": \"chiron\",\n",
    "  \"year\": 2000\n",
    "}\n",
    "x = abhinav[\"model\"]\n",
    "print(x)\n",
    "\n",
    "#Type 2\n",
    "\n",
    "abhinav =\t{\n",
    "  \"brand\": \"bugatti\",\n",
    "  \"model\": \"chiron\",\n",
    "  \"year\": 2000\n",
    "}\n",
    "x = abhinav.get(\"model\")\n",
    "print(x)"
   ]
  },
  {
   "cell_type": "markdown",
   "metadata": {},
   "source": [
    "#### To find the keys"
   ]
  },
  {
   "cell_type": "code",
   "execution_count": 183,
   "metadata": {},
   "outputs": [
    {
     "name": "stdout",
     "output_type": "stream",
     "text": [
      "dict_keys(['brand', 'model', 'year'])\n"
     ]
    }
   ],
   "source": [
    "abhinav = {\n",
    "  \"brand\": \"bugatti\",\n",
    "  \"model\": \"chiron\",\n",
    "  \"year\": 2000\n",
    "}\n",
    "x = abhinav.keys()\n",
    "print(x)"
   ]
  },
  {
   "cell_type": "code",
   "execution_count": 184,
   "metadata": {},
   "outputs": [
    {
     "name": "stdout",
     "output_type": "stream",
     "text": [
      "dict_keys(['brand', 'model', 'year'])\n",
      "dict_keys(['brand', 'model', 'year', 'color'])\n"
     ]
    }
   ],
   "source": [
    "abhinav = {\n",
    "\"brand\": \"bugatti\",\n",
    "\"model\": \"chiron\",\n",
    "\"year\": 2000\n",
    "}\n",
    "x = abhinav.keys()\n",
    "print(x)\n",
    "abhinav[\"color\"] = \"white\"\n",
    "print(x)"
   ]
  },
  {
   "cell_type": "markdown",
   "metadata": {},
   "source": [
    "#### To get all the values in a code"
   ]
  },
  {
   "cell_type": "code",
   "execution_count": 185,
   "metadata": {},
   "outputs": [
    {
     "name": "stdout",
     "output_type": "stream",
     "text": [
      "dict_values(['bugatti', 'chiron', 2000])\n"
     ]
    }
   ],
   "source": [
    "abhinav = {\n",
    "  \"brand\": \"bugatti\",\n",
    "  \"model\": \"chiron\",\n",
    "  \"year\": 2000\n",
    "}\n",
    "\n",
    "x = abhinav.values()\n",
    "\n",
    "print(x)"
   ]
  },
  {
   "cell_type": "markdown",
   "metadata": {},
   "source": [
    "#### To Get all the items"
   ]
  },
  {
   "cell_type": "code",
   "execution_count": 186,
   "metadata": {},
   "outputs": [
    {
     "name": "stdout",
     "output_type": "stream",
     "text": [
      "dict_items([('brand', 'bugatti'), ('model', 'chiron'), ('year', 2000)])\n"
     ]
    }
   ],
   "source": [
    "abhinav = {\n",
    "  \"brand\": \"bugatti\",\n",
    "  \"model\": \"chiron\",\n",
    "  \"year\": 2000\n",
    "}\n",
    "\n",
    "x = abhinav.items()\n",
    "\n",
    "print(x)"
   ]
  },
  {
   "cell_type": "markdown",
   "metadata": {},
   "source": [
    "#### Checking if something exists or not"
   ]
  },
  {
   "cell_type": "code",
   "execution_count": 187,
   "metadata": {},
   "outputs": [
    {
     "name": "stdout",
     "output_type": "stream",
     "text": [
      "Yes, 'model' is one of the keys in the abhinav dictionary\n"
     ]
    }
   ],
   "source": [
    "abhinav = {\n",
    "  \"brand\": \"bugatti\",\n",
    "  \"model\": \"chiron\",\n",
    "  \"year\": 2000\n",
    "}\n",
    "if \"model\" in abhinav:\n",
    "  print(\"Yes, 'model' is one of the keys in the abhinav dictionary\")"
   ]
  },
  {
   "cell_type": "markdown",
   "metadata": {},
   "source": [
    "#### Using the \"Update\" Function"
   ]
  },
  {
   "cell_type": "code",
   "execution_count": 188,
   "metadata": {},
   "outputs": [
    {
     "name": "stdout",
     "output_type": "stream",
     "text": [
      "{'brand': 'bugatti', 'model': 'chiron', 'year': 2020}\n"
     ]
    }
   ],
   "source": [
    "abhinav = {\n",
    "  \"brand\": \"bugatti\",\n",
    "  \"model\": \"chiron\",\n",
    "  \"year\": 2000\n",
    "}\n",
    "abhinav.update({\"year\": 2020})\n",
    "print(abhinav)"
   ]
  },
  {
   "cell_type": "markdown",
   "metadata": {},
   "source": [
    "#### Adding items in between"
   ]
  },
  {
   "cell_type": "code",
   "execution_count": 189,
   "metadata": {},
   "outputs": [
    {
     "name": "stdout",
     "output_type": "stream",
     "text": [
      "{'brand': 'bugatti', 'model': 'chiron', 'year': 2000, 'color': 'red'}\n",
      "{'brand': 'bugatti', 'model': 'chiron', 'year': 2000, 'color': 'red'}\n"
     ]
    }
   ],
   "source": [
    "abhinav = {\n",
    "  \"brand\": \"bugatti\",\n",
    "  \"model\": \"chiron\",\n",
    "  \"year\": 2000\n",
    "}\n",
    "abhinav[\"color\"] = \"red\"\n",
    "print(abhinav)\n",
    "\n",
    "# Using the Update Function\n",
    "\n",
    "abhinav = {\n",
    "  \"brand\": \"bugatti\",\n",
    "  \"model\": \"chiron\",\n",
    "  \"year\": 2000\n",
    "}\n",
    "abhinav.update({\"color\": \"red\"})\n",
    "print(abhinav)"
   ]
  },
  {
   "cell_type": "markdown",
   "metadata": {},
   "source": [
    "#### Using the pop function"
   ]
  },
  {
   "cell_type": "code",
   "execution_count": 190,
   "metadata": {},
   "outputs": [
    {
     "name": "stdout",
     "output_type": "stream",
     "text": [
      "{'brand': 'bugatti', 'year': 2000}\n"
     ]
    }
   ],
   "source": [
    "abhinav =\t{\n",
    "  \"brand\": \"bugatti\",\n",
    "  \"model\": \"chiron\",\n",
    "  \"year\": 2000\n",
    "}\n",
    "abhinav.pop(\"model\")\n",
    "print(abhinav)"
   ]
  },
  {
   "cell_type": "markdown",
   "metadata": {},
   "source": [
    "#### Remove the last inserted item"
   ]
  },
  {
   "cell_type": "code",
   "execution_count": 191,
   "metadata": {},
   "outputs": [
    {
     "name": "stdout",
     "output_type": "stream",
     "text": [
      "{'brand': 'bugatti', 'model': 'chiron'}\n"
     ]
    }
   ],
   "source": [
    "abhinav =\t{\n",
    "  \"brand\": \"bugatti\",\n",
    "  \"model\": \"chiron\",\n",
    "  \"year\": 2000\n",
    "}\n",
    "abhinav.popitem()\n",
    "print(abhinav)"
   ]
  },
  {
   "cell_type": "markdown",
   "metadata": {},
   "source": [
    "#### Using the del keyword"
   ]
  },
  {
   "cell_type": "code",
   "execution_count": 192,
   "metadata": {},
   "outputs": [
    {
     "name": "stdout",
     "output_type": "stream",
     "text": [
      "{'brand': 'bugatti', 'year': 2000}\n"
     ]
    }
   ],
   "source": [
    "abhinav = {\n",
    "  \"brand\": \"bugatti\",\n",
    "  \"model\": \"chiron\",\n",
    "  \"year\": 2000\n",
    "}\n",
    "del abhinav[\"model\"]\n",
    "print(abhinav)"
   ]
  },
  {
   "cell_type": "markdown",
   "metadata": {},
   "source": [
    "#### Del keyword to delete the whole function"
   ]
  },
  {
   "cell_type": "code",
   "execution_count": 193,
   "metadata": {},
   "outputs": [
    {
     "name": "stdout",
     "output_type": "stream",
     "text": [
      "{'brand': 'bugatti', 'model': 'chiron', 'year': 2000}\n"
     ]
    }
   ],
   "source": [
    "abhinav = {\n",
    "  \"brand\": \"bugatti\",\n",
    "  \"model\": \"chiron\",\n",
    "  \"year\": 2000\n",
    "}\n",
    "#del abhinav\n",
    "print(abhinav) #this will cause an error because \"abhinav\" no longer exists. For result remove the \"#\" in line 6"
   ]
  },
  {
   "cell_type": "markdown",
   "metadata": {},
   "source": [
    "#### Clear Function "
   ]
  },
  {
   "cell_type": "code",
   "execution_count": 194,
   "metadata": {},
   "outputs": [
    {
     "name": "stdout",
     "output_type": "stream",
     "text": [
      "{}\n"
     ]
    }
   ],
   "source": [
    "abhinav = {\n",
    "  \"brand\": \"bugatti\",\n",
    "  \"model\": \"chiron\",\n",
    "  \"year\": 2000\n",
    "}\n",
    "abhinav.clear()\n",
    "print(abhinav)"
   ]
  },
  {
   "cell_type": "markdown",
   "metadata": {},
   "source": [
    "#### Using Loops in dictionaries"
   ]
  },
  {
   "cell_type": "code",
   "execution_count": 195,
   "metadata": {},
   "outputs": [
    {
     "name": "stdout",
     "output_type": "stream",
     "text": [
      "brand\n",
      "model\n",
      "year\n",
      "\n",
      "bugatti\n",
      "chiron\n",
      "2000\n"
     ]
    }
   ],
   "source": [
    "# Keys\n",
    "\n",
    "abhinav =\t{\n",
    "  \"brand\": \"bugatti\",\n",
    "  \"model\": \"chiron\",\n",
    "  \"year\": 2000\n",
    "}\n",
    "for x in abhinav:\n",
    "  print(x)\n",
    "print(\"\")\n",
    "# Values\n",
    "\n",
    "abhinav =\t{\n",
    "  \"brand\": \"bugatti\",\n",
    "  \"model\": \"chiron\",\n",
    "  \"year\": 2000\n",
    "}\n",
    "for x in abhinav:\n",
    "  print(abhinav[x])"
   ]
  },
  {
   "cell_type": "markdown",
   "metadata": {},
   "source": [
    "#### Using Values, Keys, item keywords"
   ]
  },
  {
   "cell_type": "code",
   "execution_count": 196,
   "metadata": {},
   "outputs": [
    {
     "name": "stdout",
     "output_type": "stream",
     "text": [
      "bugatti\n",
      "chiron\n",
      "2000\n",
      "\n",
      "brand\n",
      "model\n",
      "year\n",
      "\n",
      "brand bugatti\n",
      "model chiron\n",
      "year 2000\n"
     ]
    }
   ],
   "source": [
    "#Values Keyword\n",
    "\n",
    "abhinav =\t{\n",
    "  \"brand\": \"bugatti\",\n",
    "  \"model\": \"chiron\",\n",
    "  \"year\": 2000\n",
    "}\n",
    "for x in abhinav.values():\n",
    "  print(x)\n",
    "print(\"\")\n",
    "\n",
    "#Keys Keyword\n",
    "\n",
    "abhinav =\t{\n",
    "  \"brand\": \"bugatti\",\n",
    "  \"model\": \"chiron\",\n",
    "  \"year\": 2000\n",
    "}\n",
    "for x in abhinav.keys():\n",
    "  print(x)\n",
    "print(\"\")\n",
    "\n",
    "#Item Keyword\n",
    "\n",
    "abhinav =\t{\n",
    "  \"brand\": \"bugatti\",\n",
    "  \"model\": \"chiron\",\n",
    "  \"year\": 2000\n",
    "}\n",
    "for x, y in abhinav.items():\n",
    "  print(x, y)"
   ]
  },
  {
   "cell_type": "markdown",
   "metadata": {},
   "source": [
    "#### Copying the dictionaries"
   ]
  },
  {
   "cell_type": "code",
   "execution_count": 197,
   "metadata": {},
   "outputs": [
    {
     "name": "stdout",
     "output_type": "stream",
     "text": [
      "{'brand': 'bugatti', 'model': 'chiron', 'year': 2000}\n",
      "{'brand': 'bugatti', 'model': 'chiron', 'year': 2000}\n"
     ]
    }
   ],
   "source": [
    "#Using copy() function\n",
    "\n",
    "abhinav = {\n",
    "  \"brand\": \"bugatti\",\n",
    "  \"model\": \"chiron\",\n",
    "  \"year\": 2000\n",
    "}\n",
    "dictionary = abhinav.copy()\n",
    "print(dictionary)\n",
    "\n",
    "#Using dict() function\n",
    "\n",
    "abhinav = {\n",
    "  \"brand\": \"bugatti\",\n",
    "  \"model\": \"chiron\",\n",
    "  \"year\": 2000\n",
    "}\n",
    "dictionary = dict(abhinav)\n",
    "print(dictionary)"
   ]
  },
  {
   "cell_type": "markdown",
   "metadata": {},
   "source": [
    "#### Nested Dictionaries"
   ]
  },
  {
   "cell_type": "code",
   "execution_count": 198,
   "metadata": {},
   "outputs": [
    {
     "name": "stdout",
     "output_type": "stream",
     "text": [
      "{'child1': {'name': 'Emil', 'year': 2004}, 'child2': {'name': 'Tobias', 'year': 2007}, 'child3': {'name': 'Linus', 'year': 2011}}\n"
     ]
    }
   ],
   "source": [
    "family = {\n",
    "  \"child1\" : {\n",
    "    \"name\" : \"Emil\",\n",
    "    \"year\" : 2004\n",
    "  },\n",
    "  \"child2\" : {\n",
    "    \"name\" : \"Tobias\",\n",
    "    \"year\" : 2007\n",
    "  },\n",
    "  \"child3\" : {\n",
    "    \"name\" : \"Linus\",\n",
    "    \"year\" : 2011\n",
    "  }\n",
    "}\n",
    "print(family)"
   ]
  },
  {
   "cell_type": "markdown",
   "metadata": {},
   "source": [
    "#### 3 seperate dicts and then merging into one\n",
    "###### (can be used seperately if needed)"
   ]
  },
  {
   "cell_type": "code",
   "execution_count": 199,
   "metadata": {},
   "outputs": [
    {
     "name": "stdout",
     "output_type": "stream",
     "text": [
      "{'child1': {'name': 'Riley', 'year': 2004}, 'child2': {'name': 'Chandler', 'year': 2007}, 'child3': {'name': 'Linus', 'year': 2011}}\n"
     ]
    }
   ],
   "source": [
    "child1 = {\n",
    "  \"name\" : \"Riley\",\n",
    "  \"year\" : 2004\n",
    "}\n",
    "child2 = {\n",
    "  \"name\" : \"Chandler\",\n",
    "  \"year\" : 2007\n",
    "}\n",
    "child3 = {\n",
    "  \"name\" : \"Linus\",\n",
    "  \"year\" : 2011\n",
    "}\n",
    "myfamily = {\n",
    "  \"child1\" : child1,\n",
    "  \"child2\" : child2,\n",
    "  \"child3\" : child3\n",
    "}\n",
    "print(myfamily)"
   ]
  }
 ],
 "metadata": {
  "interpreter": {
   "hash": "0ae46de7997829e1aae2130ff6aa1cae28f08e80d5f0d01bd795780861a7a984"
  },
  "kernelspec": {
   "display_name": "Python 3.10.2 64-bit",
   "language": "python",
   "name": "python3"
  },
  "language_info": {
   "codemirror_mode": {
    "name": "ipython",
    "version": 3
   },
   "file_extension": ".py",
   "mimetype": "text/x-python",
   "name": "python",
   "nbconvert_exporter": "python",
   "pygments_lexer": "ipython3",
   "version": "3.10.2"
  },
  "orig_nbformat": 4
 },
 "nbformat": 4,
 "nbformat_minor": 2
}
