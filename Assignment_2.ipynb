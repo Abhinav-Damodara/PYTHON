{
  "nbformat": 4,
  "nbformat_minor": 0,
  "metadata": {
    "colab": {
      "name": "Assignment:2",
      "provenance": []
    },
    "kernelspec": {
      "name": "python3",
      "display_name": "Python 3"
    },
    "language_info": {
      "name": "python"
    }
  },
  "cells": [
    {
      "cell_type": "markdown",
      "source": [
        "#### Accept input from user and store it in variable and print the value."
      ],
      "metadata": {
        "id": "Ff0KvyhJS5H8"
      }
    },
    {
      "cell_type": "code",
      "execution_count": null,
      "metadata": {
        "id": "ZXIjO9SVShC3",
        "colab": {
          "base_uri": "https://localhost:8080/"
        },
        "outputId": "c1e8888e-4826-4286-831f-1ce1d3b6f7c1"
      },
      "outputs": [
        {
          "output_type": "stream",
          "name": "stdout",
          "text": [
            "enter a value2\n",
            "2\n"
          ]
        }
      ],
      "source": [
        "a = int(input(\"enter a value\"))\n",
        "print(a)"
      ]
    },
    {
      "cell_type": "markdown",
      "source": [
        "#### Use of print statements and use of (.format )for printing different data types."
      ],
      "metadata": {
        "id": "GuYjtHmeTysY"
      }
    },
    {
      "cell_type": "code",
      "source": [
        "abhinav = \"My name is {0} and I'm {1}\"\n",
        "print(abhinav.format(\"Abhi\",17))"
      ],
      "metadata": {
        "colab": {
          "base_uri": "https://localhost:8080/"
        },
        "id": "IpTE6joxT1Ly",
        "outputId": "6ee0586a-ad62-4d32-900d-c5df0c80efb3"
      },
      "execution_count": null,
      "outputs": [
        {
          "output_type": "stream",
          "name": "stdout",
          "text": [
            "My name is Abhi and I'm 17\n"
          ]
        }
      ]
    },
    {
      "cell_type": "markdown",
      "source": [
        "#### Take 2 numbers as user input and add, multiply, divide, subtract, remainder and print the output"
      ],
      "metadata": {
        "id": "I2M_b9VHYIpK"
      }
    },
    {
      "cell_type": "code",
      "source": [
        "a = 20\n",
        "b = 30\n",
        "add = a+b\n",
        "sub = a-b\n",
        "mul = a*b\n",
        "div = a/b\n",
        "rem = a%b\n",
        "print(add,\"is the addition of the two\")\n",
        "print(sub,\"id the substraction of the two\")\n",
        "print(mul,\"is the multiplication of the two\")\n",
        "print(div,\"is the division of the two\")\n",
        "print(rem,\"is the remainder of the two\")"
      ],
      "metadata": {
        "colab": {
          "base_uri": "https://localhost:8080/"
        },
        "id": "QXvR0SPiYMrB",
        "outputId": "a0dd9114-221b-4d39-e40f-cbbfb592138b"
      },
      "execution_count": null,
      "outputs": [
        {
          "output_type": "stream",
          "name": "stdout",
          "text": [
            "50 is the addition of the two\n",
            "-10 id the substraction of the two\n",
            "600 is the multiplication of the two\n",
            "0.6666666666666666 is the division of the two\n",
            "20 is the remainder of the two\n"
          ]
        }
      ]
    },
    {
      "cell_type": "markdown",
      "source": [
        "#### Conversion of one unit to another"
      ],
      "metadata": {
        "id": "jsS-Ht0IZrzQ"
      }
    },
    {
      "cell_type": "code",
      "source": [
        "hours = int(input(\"Please enter hours:\"))\n",
        "minutes = hours * 60\n",
        "print (minutes, \" Minutes\")\n",
        "KM = int(input(\"Enter the dist in KM\"))\n",
        "meter = KM * 1000\n",
        "print (meter, \"Meters\")"
      ],
      "metadata": {
        "colab": {
          "base_uri": "https://localhost:8080/"
        },
        "id": "J-gj_8yXZtL_",
        "outputId": "23684446-f5d4-4eca-d045-f95a8f1a56be"
      },
      "execution_count": null,
      "outputs": [
        {
          "output_type": "stream",
          "name": "stdout",
          "text": [
            "Please enter hours:12\n",
            "720  Minutes\n",
            "Enter the dist in KM300\n",
            "300000 Meters\n"
          ]
        }
      ]
    },
    {
      "cell_type": "markdown",
      "source": [
        "#### Accepting 5 different subject marks from user and displaying the grade of the student"
      ],
      "metadata": {
        "id": "g6FP_Awi3sBL"
      }
    },
    {
      "cell_type": "code",
      "source": [
        "sub1=int(input(\"Enter marks of the first subject: \"))\n",
        "sub2=int(input(\"Enter marks of the second subject: \"))\n",
        "sub3=int(input(\"Enter marks of the third subject: \"))\n",
        "sub4=int(input(\"Enter marks of the fourth subject: \"))\n",
        "sub5=int(input(\"Enter marks of the fifth subject: \"))\n",
        "per=((sub1+sub2+sub3+sub4+sub4)/500)*100\n",
        "if(per>=90):\n",
        "    print(\"Grade: A\")\n",
        "elif(per>=80 and per<90):\n",
        "    print(\"Grade: B\")\n",
        "elif(per>=70 and per<80):\n",
        "    print(\"Grade: C\")\n",
        "elif(per>=60 and per<70):\n",
        "    print(\"Grade: D\")\n",
        "else:\n",
        "    print(\"Grade: F\")"
      ],
      "metadata": {
        "colab": {
          "base_uri": "https://localhost:8080/"
        },
        "id": "lSl0omMm3scu",
        "outputId": "53f084dc-183c-427c-891d-ccbb8e89b7b6"
      },
      "execution_count": null,
      "outputs": [
        {
          "output_type": "stream",
          "name": "stdout",
          "text": [
            "Enter marks of the first subject: 60\n",
            "Enter marks of the second subject: 90\n",
            "Enter marks of the third subject: 60\n",
            "Enter marks of the fourth subject: 80\n",
            "Enter marks of the fifth subject: 90\n",
            "Grade: C\n"
          ]
        }
      ]
    },
    {
      "cell_type": "markdown",
      "source": [
        "#### Printing all even numbers, odd numbers, count of even numbers, count of odd numbers within a given range"
      ],
      "metadata": {
        "id": "Lu3w6KGc42wD"
      }
    },
    {
      "cell_type": "code",
      "source": [
        "even_count, odd_count = 0, 0\n",
        "even_list = []\n",
        "odd_list = []\n",
        "n = int(input(\"Enter the lower bound of range: \"))\n",
        "m = int(input(\"Enter the upper bound of range: \"))\n",
        "# Using for loop\n",
        "for i in range(n,m+1):\n",
        "    if i % 2 == 0:\n",
        "        even_count += 1\n",
        "        even_list.append(i)\n",
        "    else:\n",
        "        odd_count += 1\n",
        "        odd_list.append(i)\n",
        "print(\"Total even numbers in the range {0} to {1} is {2}\".format(n, m,even_count), \"and numbers are\", even_list)\n",
        "print(\"Total odd numbers in the range {0} to {1} is {2}\".format(n,m,odd_count), \"and numbers are\", odd_list)"
      ],
      "metadata": {
        "colab": {
          "base_uri": "https://localhost:8080/"
        },
        "id": "W6M6qLyc4aJH",
        "outputId": "44f8f30a-65bc-476c-aa6c-791d96c63a8a"
      },
      "execution_count": null,
      "outputs": [
        {
          "output_type": "stream",
          "name": "stdout",
          "text": [
            "Enter the lower bound of range: 01\n",
            "Enter the upper bound of range: 1000\n",
            "Total even numbers in the range 1 to 1000 is 500 and numbers are [2, 4, 6, 8, 10, 12, 14, 16, 18, 20, 22, 24, 26, 28, 30, 32, 34, 36, 38, 40, 42, 44, 46, 48, 50, 52, 54, 56, 58, 60, 62, 64, 66, 68, 70, 72, 74, 76, 78, 80, 82, 84, 86, 88, 90, 92, 94, 96, 98, 100, 102, 104, 106, 108, 110, 112, 114, 116, 118, 120, 122, 124, 126, 128, 130, 132, 134, 136, 138, 140, 142, 144, 146, 148, 150, 152, 154, 156, 158, 160, 162, 164, 166, 168, 170, 172, 174, 176, 178, 180, 182, 184, 186, 188, 190, 192, 194, 196, 198, 200, 202, 204, 206, 208, 210, 212, 214, 216, 218, 220, 222, 224, 226, 228, 230, 232, 234, 236, 238, 240, 242, 244, 246, 248, 250, 252, 254, 256, 258, 260, 262, 264, 266, 268, 270, 272, 274, 276, 278, 280, 282, 284, 286, 288, 290, 292, 294, 296, 298, 300, 302, 304, 306, 308, 310, 312, 314, 316, 318, 320, 322, 324, 326, 328, 330, 332, 334, 336, 338, 340, 342, 344, 346, 348, 350, 352, 354, 356, 358, 360, 362, 364, 366, 368, 370, 372, 374, 376, 378, 380, 382, 384, 386, 388, 390, 392, 394, 396, 398, 400, 402, 404, 406, 408, 410, 412, 414, 416, 418, 420, 422, 424, 426, 428, 430, 432, 434, 436, 438, 440, 442, 444, 446, 448, 450, 452, 454, 456, 458, 460, 462, 464, 466, 468, 470, 472, 474, 476, 478, 480, 482, 484, 486, 488, 490, 492, 494, 496, 498, 500, 502, 504, 506, 508, 510, 512, 514, 516, 518, 520, 522, 524, 526, 528, 530, 532, 534, 536, 538, 540, 542, 544, 546, 548, 550, 552, 554, 556, 558, 560, 562, 564, 566, 568, 570, 572, 574, 576, 578, 580, 582, 584, 586, 588, 590, 592, 594, 596, 598, 600, 602, 604, 606, 608, 610, 612, 614, 616, 618, 620, 622, 624, 626, 628, 630, 632, 634, 636, 638, 640, 642, 644, 646, 648, 650, 652, 654, 656, 658, 660, 662, 664, 666, 668, 670, 672, 674, 676, 678, 680, 682, 684, 686, 688, 690, 692, 694, 696, 698, 700, 702, 704, 706, 708, 710, 712, 714, 716, 718, 720, 722, 724, 726, 728, 730, 732, 734, 736, 738, 740, 742, 744, 746, 748, 750, 752, 754, 756, 758, 760, 762, 764, 766, 768, 770, 772, 774, 776, 778, 780, 782, 784, 786, 788, 790, 792, 794, 796, 798, 800, 802, 804, 806, 808, 810, 812, 814, 816, 818, 820, 822, 824, 826, 828, 830, 832, 834, 836, 838, 840, 842, 844, 846, 848, 850, 852, 854, 856, 858, 860, 862, 864, 866, 868, 870, 872, 874, 876, 878, 880, 882, 884, 886, 888, 890, 892, 894, 896, 898, 900, 902, 904, 906, 908, 910, 912, 914, 916, 918, 920, 922, 924, 926, 928, 930, 932, 934, 936, 938, 940, 942, 944, 946, 948, 950, 952, 954, 956, 958, 960, 962, 964, 966, 968, 970, 972, 974, 976, 978, 980, 982, 984, 986, 988, 990, 992, 994, 996, 998, 1000]\n",
            "Total odd numbers in the range 1 to 1000 is 500 and numbers are [1, 3, 5, 7, 9, 11, 13, 15, 17, 19, 21, 23, 25, 27, 29, 31, 33, 35, 37, 39, 41, 43, 45, 47, 49, 51, 53, 55, 57, 59, 61, 63, 65, 67, 69, 71, 73, 75, 77, 79, 81, 83, 85, 87, 89, 91, 93, 95, 97, 99, 101, 103, 105, 107, 109, 111, 113, 115, 117, 119, 121, 123, 125, 127, 129, 131, 133, 135, 137, 139, 141, 143, 145, 147, 149, 151, 153, 155, 157, 159, 161, 163, 165, 167, 169, 171, 173, 175, 177, 179, 181, 183, 185, 187, 189, 191, 193, 195, 197, 199, 201, 203, 205, 207, 209, 211, 213, 215, 217, 219, 221, 223, 225, 227, 229, 231, 233, 235, 237, 239, 241, 243, 245, 247, 249, 251, 253, 255, 257, 259, 261, 263, 265, 267, 269, 271, 273, 275, 277, 279, 281, 283, 285, 287, 289, 291, 293, 295, 297, 299, 301, 303, 305, 307, 309, 311, 313, 315, 317, 319, 321, 323, 325, 327, 329, 331, 333, 335, 337, 339, 341, 343, 345, 347, 349, 351, 353, 355, 357, 359, 361, 363, 365, 367, 369, 371, 373, 375, 377, 379, 381, 383, 385, 387, 389, 391, 393, 395, 397, 399, 401, 403, 405, 407, 409, 411, 413, 415, 417, 419, 421, 423, 425, 427, 429, 431, 433, 435, 437, 439, 441, 443, 445, 447, 449, 451, 453, 455, 457, 459, 461, 463, 465, 467, 469, 471, 473, 475, 477, 479, 481, 483, 485, 487, 489, 491, 493, 495, 497, 499, 501, 503, 505, 507, 509, 511, 513, 515, 517, 519, 521, 523, 525, 527, 529, 531, 533, 535, 537, 539, 541, 543, 545, 547, 549, 551, 553, 555, 557, 559, 561, 563, 565, 567, 569, 571, 573, 575, 577, 579, 581, 583, 585, 587, 589, 591, 593, 595, 597, 599, 601, 603, 605, 607, 609, 611, 613, 615, 617, 619, 621, 623, 625, 627, 629, 631, 633, 635, 637, 639, 641, 643, 645, 647, 649, 651, 653, 655, 657, 659, 661, 663, 665, 667, 669, 671, 673, 675, 677, 679, 681, 683, 685, 687, 689, 691, 693, 695, 697, 699, 701, 703, 705, 707, 709, 711, 713, 715, 717, 719, 721, 723, 725, 727, 729, 731, 733, 735, 737, 739, 741, 743, 745, 747, 749, 751, 753, 755, 757, 759, 761, 763, 765, 767, 769, 771, 773, 775, 777, 779, 781, 783, 785, 787, 789, 791, 793, 795, 797, 799, 801, 803, 805, 807, 809, 811, 813, 815, 817, 819, 821, 823, 825, 827, 829, 831, 833, 835, 837, 839, 841, 843, 845, 847, 849, 851, 853, 855, 857, 859, 861, 863, 865, 867, 869, 871, 873, 875, 877, 879, 881, 883, 885, 887, 889, 891, 893, 895, 897, 899, 901, 903, 905, 907, 909, 911, 913, 915, 917, 919, 921, 923, 925, 927, 929, 931, 933, 935, 937, 939, 941, 943, 945, 947, 949, 951, 953, 955, 957, 959, 961, 963, 965, 967, 969, 971, 973, 975, 977, 979, 981, 983, 985, 987, 989, 991, 993, 995, 997, 999]\n"
          ]
        }
      ]
    },
    {
      "cell_type": "markdown",
      "source": [
        "#### Calculator"
      ],
      "metadata": {
        "id": "pw5ccCnGhyoI"
      }
    },
    {
      "cell_type": "code",
      "source": [
        "def add(x, y):\n",
        "    return x + y\n",
        "def subtract(x, y):\n",
        "    return x - y\n",
        "def multiply(x, y):\n",
        "    return x * y\n",
        "def divide(x, y):\n",
        "    return x / y\n",
        "\n",
        "print(\"Select operation.\")\n",
        "print(\"1.Add\")\n",
        "print(\"2.Subtract\")\n",
        "print(\"3.Multiply\")\n",
        "print(\"4.Divide\")\n",
        "\n",
        "while True:\n",
        "    choice = input(\"Enter choice(1/2/3/4): \")\n",
        "    if choice in ('1', '2', '3', '4'):\n",
        "        num1 = float(input(\"Enter first number: \"))\n",
        "        num2 = float(input(\"Enter second number: \"))\n",
        "\n",
        "        if choice == '1':\n",
        "            print(num1, \"+\", num2, \"=\", add(num1, num2))\n",
        "\n",
        "        elif choice == '2':\n",
        "            print(num1, \"-\", num2, \"=\", subtract(num1, num2))\n",
        "\n",
        "        elif choice == '3':\n",
        "            print(num1, \"*\", num2, \"=\", multiply(num1, num2))\n",
        "\n",
        "        elif choice == '4':\n",
        "            print(num1, \"/\", num2, \"=\", divide(num1, num2))\n",
        "        next_calculation = input(\"Let's do next calculation? (y/n): \")\n",
        "        if next_calculation == \"n\":\n",
        "          break\n",
        "    else:\n",
        "        print(\"Invalid Input\")"
      ],
      "metadata": {
        "colab": {
          "base_uri": "https://localhost:8080/"
        },
        "id": "ZMDisL6Yi-3v",
        "outputId": "22580bae-99e3-4f0e-906b-99bf9150f63b"
      },
      "execution_count": null,
      "outputs": [
        {
          "name": "stdout",
          "output_type": "stream",
          "text": [
            "Select operation.\n",
            "1.Add\n",
            "2.Subtract\n",
            "3.Multiply\n",
            "4.Divide\n",
            "Enter choice(1/2/3/4): 20\n",
            "Invalid Input\n",
            "Enter choice(1/2/3/4): 1\n",
            "Enter first number: 60\n",
            "Enter second number: 80\n",
            "60.0 + 80.0 = 140.0\n",
            "Let's do next calculation? (y/n): n\n"
          ]
        }
      ]
    },
    {
      "cell_type": "markdown",
      "source": [
        "#### Usage of mathematical functions in python like math.ceil, floor, fabs, fmod, trunc, pow, sqrt etc"
      ],
      "metadata": {
        "id": "i_izOczIoq3H"
      }
    },
    {
      "cell_type": "code",
      "source": [
        "import math\n",
        "num = -28.23\n",
        "print(math.ceil(num))\n",
        "print(math.floor(num))\n",
        "print(math.fabs(num))\n",
        "print(math.fmod(num,1))\n",
        "print(math.trunc(num))\n",
        "print(math.pow(num,2))\n",
        "#print(math.sqrt(num))"
      ],
      "metadata": {
        "colab": {
          "base_uri": "https://localhost:8080/"
        },
        "id": "VjvBAs-Jov1-",
        "outputId": "0cb9fef0-bbf5-4e8a-9212-b3b8c2ed350c"
      },
      "execution_count": null,
      "outputs": [
        {
          "output_type": "stream",
          "name": "stdout",
          "text": [
            "-28\n",
            "-29\n",
            "28.23\n",
            "-0.23000000000000043\n",
            "-28\n",
            "796.9329\n"
          ]
        }
      ]
    }
  ]
}