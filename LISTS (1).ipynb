{
  "cells": [
    {
      "cell_type": "markdown",
      "metadata": {
        "id": "Q0AXKYxfnHAd"
      },
      "source": [
        "Append,extend,pop,remove"
      ]
    },
    {
      "cell_type": "code",
      "execution_count": 1,
      "metadata": {
        "colab": {
          "base_uri": "https://localhost:8080/"
        },
        "id": "vvBr5CNrWuck",
        "outputId": "67f2c82c-e811-477e-941b-30816d61187a"
      },
      "outputs": [
        {
          "name": "stdout",
          "output_type": "stream",
          "text": [
            "('brinjal', 'tomato', 'orange', 'orange', 'orange')\n"
          ]
        }
      ],
      "source": [
        "fruit=['orange' , 'mango' , 'apple' , 'banana' , 'papaya' , 'orange']\n",
        "    #list always in '[]' brackets\n",
        "thistuple=('brinjal','tomato','orange','orange','orange')\n",
        "#fruit.append('kiwi')    #append is used to add an item at the end of the list\n",
        "#fruit.insert(2,'grapes')    #inserting into a list at a random place in the list\n",
        "fruit.extend(thistuple)\n",
        "fruit.pop(1)\n",
        "fruit.remove('banana')\n",
        "print(thistuple)\n",
        "#print(type(fruit))\n",
        "#print(fruit[0:3])   #from 0 to 3rd variable(excluding the 3rd vaiable)\n",
        "#print(fruit[:4])    #from Starting to 4th variable(excluding the 4th one)\n",
        "#print(fruit[1:4])   #from 1st to 4th variable(excluding the 4th one)"
      ]
    },
    {
      "cell_type": "markdown",
      "metadata": {
        "id": "4qEJAg0JlKS7"
      },
      "source": [
        "Ascending and Desscending"
      ]
    },
    {
      "cell_type": "code",
      "execution_count": 2,
      "metadata": {
        "colab": {
          "base_uri": "https://localhost:8080/"
        },
        "id": "17cZggyIh_g7",
        "outputId": "f765d459-a990-46cc-d47a-f6de7393adba"
      },
      "outputs": [
        {
          "name": "stdout",
          "output_type": "stream",
          "text": [
            "[23, 25, 41, 77, 86, 99, 100]\n",
            "[100, 99, 86, 77, 41, 25, 23]\n",
            "['orange', 'mango', 'apple', 'banana', 'Papaya', 'orange', 'brinjal', 'tomato', 'orange', 'orange']\n",
            "['Papaya', 'apple', 'banana', 'brinjal', 'mango', 'orange', 'orange', 'orange', 'orange', 'tomato']\n",
            "['tomato', 'orange', 'orange', 'orange', 'orange', 'mango', 'brinjal', 'banana', 'apple', 'Papaya']\n"
          ]
        }
      ],
      "source": [
        "num = [100, 77, 99, 86, 23, 25, 41]\n",
        "num.sort()\n",
        "print(num)\n",
        "num.sort(reverse = True)\n",
        "print(num)\n",
        "fruit=['orange' , 'mango' , 'apple' , 'banana' , 'Papaya' , 'orange']\n",
        "thistuple=('brinjal','tomato','orange','orange')\n",
        "fruit.extend(thistuple)\n",
        "print(fruit)\n",
        "fruit.sort()\n",
        "print(fruit)\n",
        "fruit.sort(reverse = True)\n",
        "print(fruit)"
      ]
    },
    {
      "cell_type": "markdown",
      "metadata": {
        "id": "2CwRbDcplFfN"
      },
      "source": [
        "List and Tuple"
      ]
    },
    {
      "cell_type": "code",
      "execution_count": 3,
      "metadata": {
        "colab": {
          "base_uri": "https://localhost:8080/"
        },
        "id": "U-mwk09GkTRM",
        "outputId": "b7d77e3c-08f5-4080-fef8-0bc6c8bdf686"
      },
      "outputs": [
        {
          "name": "stdout",
          "output_type": "stream",
          "text": [
            "['brinjal', 'tomato', 'orange', 'orange', 'orange', 'abhi']\n"
          ]
        }
      ],
      "source": [
        "fruit=['brinjal','tomato','orange','orange','orange']\n",
        "fruit.append('abhi')\n",
        "print(fruit)\n",
        "    #list can be edited bus a tuple cant be eited once its reclared"
      ]
    },
    {
      "cell_type": "markdown",
      "metadata": {
        "id": "T9D2OyPrlO5D"
      },
      "source": [
        "reverse"
      ]
    },
    {
      "cell_type": "code",
      "execution_count": 4,
      "metadata": {
        "colab": {
          "base_uri": "https://localhost:8080/"
        },
        "id": "Qpge8GBblPz6",
        "outputId": "5dd63c01-eb74-4f18-b46d-5c9c2ca461a9"
      },
      "outputs": [
        {
          "name": "stdout",
          "output_type": "stream",
          "text": [
            "['orange', 'mango', 'apple', 'banana', 'papaya', 'orange', 'brinjal', 'tomato', 'orange', 'orange', 'orange']\n",
            "['orange', 'orange', 'orange', 'tomato', 'brinjal', 'orange', 'papaya', 'banana', 'apple', 'mango', 'orange']\n"
          ]
        }
      ],
      "source": [
        "fruit=['orange' , 'mango' , 'apple' , 'banana' , 'papaya' , 'orange']    #list always in '[]' brackets\n",
        "thistuple=['brinjal','tomato','orange','orange','orange']\n",
        "fruit.extend(thistuple)\n",
        "print(fruit)\n",
        "fruit.reverse()\n",
        "print(fruit)"
      ]
    },
    {
      "cell_type": "markdown",
      "metadata": {
        "id": "eJXi_HffmfV0"
      },
      "source": [
        "clear"
      ]
    },
    {
      "cell_type": "code",
      "execution_count": 5,
      "metadata": {
        "colab": {
          "base_uri": "https://localhost:8080/"
        },
        "id": "xXsniQ9amgbk",
        "outputId": "56edcc33-79e0-4088-8113-6bb13e048077"
      },
      "outputs": [
        {
          "name": "stdout",
          "output_type": "stream",
          "text": [
            "[]\n"
          ]
        }
      ],
      "source": [
        "thislist = [\"apple\", \"banana\", \"cherry\"]\n",
        "thislist.clear()\n",
        "print(thislist)"
      ]
    },
    {
      "cell_type": "markdown",
      "metadata": {
        "id": "g0ZcDJVimiF8"
      },
      "source": [
        "length in list"
      ]
    },
    {
      "cell_type": "code",
      "execution_count": 6,
      "metadata": {
        "colab": {
          "base_uri": "https://localhost:8080/"
        },
        "id": "0lZQWLSYmj3j",
        "outputId": "a2148aef-b552-461d-ce69-d0717285d6e4"
      },
      "outputs": [
        {
          "name": "stdout",
          "output_type": "stream",
          "text": [
            "['orange', 'mango', 'apple', 'banana', 'papaya', 'orange', 'brinjal', 'tomato', 'orange', 'orange', 'orange']\n",
            "['orange', 'orange', 'orange', 'tomato', 'brinjal', 'orange', 'papaya', 'banana', 'apple', 'mango', 'orange']\n",
            "11\n"
          ]
        }
      ],
      "source": [
        "fruit=['orange' , 'mango' , 'apple' , 'banana' , 'papaya' , 'orange']\n",
        "thistuple=['brinjal','tomato','orange','orange','orange']\n",
        "fruit.extend(thistuple)\n",
        "print(fruit)\n",
        "fruit.reverse()\n",
        "print(fruit)\n",
        "print(len(fruit))"
      ]
    },
    {
      "cell_type": "markdown",
      "metadata": {
        "id": "YbJyRYVbnZiz"
      },
      "source": [
        "Del"
      ]
    },
    {
      "cell_type": "code",
      "execution_count": 8,
      "metadata": {
        "colab": {
          "base_uri": "https://localhost:8080/",
          "height": 217
        },
        "id": "LM4y-MEunalE",
        "outputId": "81cfe85a-11f0-4400-9f25-75ee6da31c4c"
      },
      "outputs": [
        {
          "name": "stdout",
          "output_type": "stream",
          "text": [
            "['banana', 'cherry']\n",
            "['apple', 'banana', 'cherry']\n"
          ]
        }
      ],
      "source": [
        "thislist = [\"apple\", \"banana\", \"cherry\"]\n",
        "del thislist[0]   #the last item of thelist is deleted\n",
        "print(thislist)\n",
        "fruit = [\"apple\", \"banana\", \"cherry\"]\n",
        "#del fruit\n",
        "print(fruit) #error will occur since the list here is deleted\n",
        "#Remove the \"#\" in the line5 to see the result"
      ]
    },
    {
      "cell_type": "markdown",
      "metadata": {
        "id": "AXa2iX8Xvua1"
      },
      "source": [
        "# Loop Lists"
      ]
    },
    {
      "cell_type": "markdown",
      "metadata": {
        "id": "T6LFgnv8yqaM"
      },
      "source": [
        "For Loop"
      ]
    },
    {
      "cell_type": "code",
      "execution_count": 9,
      "metadata": {
        "colab": {
          "base_uri": "https://localhost:8080/"
        },
        "id": "4ZOdtm21vwh0",
        "outputId": "1744b34a-3cd8-41f4-ae0d-9825f878159e"
      },
      "outputs": [
        {
          "name": "stdout",
          "output_type": "stream",
          "text": [
            "['orange', 'mango', 'apple', 'banana', 'papaya', 'orange']\n",
            "orange\n",
            "mango\n",
            "apple\n",
            "banana\n",
            "papaya\n",
            "orange\n"
          ]
        }
      ],
      "source": [
        "fruit=['orange' , 'mango' , 'apple' , 'banana' , 'papaya' , 'orange']\n",
        "print(fruit)\n",
        "for y in fruit:\n",
        "  print(y)"
      ]
    },
    {
      "cell_type": "markdown",
      "metadata": {
        "id": "m01oybVPytsL"
      },
      "source": [
        "For loop 2"
      ]
    },
    {
      "cell_type": "code",
      "execution_count": 10,
      "metadata": {
        "colab": {
          "base_uri": "https://localhost:8080/"
        },
        "id": "3O8UcoWayvW5",
        "outputId": "cb031aea-60e1-4258-db9b-3d6bf583c3b9"
      },
      "outputs": [
        {
          "name": "stdout",
          "output_type": "stream",
          "text": [
            "['orange', 'mango', 'apple', 'banana', 'papaya', 'orange']\n",
            "orange\n",
            "mango\n",
            "apple\n",
            "banana\n",
            "papaya\n",
            "orange\n",
            "['orange', 'mango', 'apple', 'banana', 'papaya', 'orange']\n",
            "banana\n",
            "banana\n",
            "banana\n",
            "banana\n",
            "banana\n",
            "banana\n",
            "['orange', 'mango', 'apple', 'banana', 'papaya', 'orange']\n",
            "0\n",
            "1\n",
            "2\n",
            "3\n",
            "4\n",
            "5\n"
          ]
        }
      ],
      "source": [
        "fruit=['orange' , 'mango' , 'apple' , 'banana' , 'papaya' , 'orange']\n",
        "print(fruit)\n",
        "for i in range(len(fruit)):\n",
        "  print(fruit[i])   #Here it prints all the list items in a list\n",
        "\n",
        "fruit=['orange' , 'mango' , 'apple' , 'banana' , 'papaya' , 'orange']\n",
        "print(fruit)\n",
        "for i in range(len(fruit)):\n",
        "  print(fruit[3])   #here it prints the list item in the entered number\n",
        "\n",
        "  fruit=['orange' , 'mango' , 'apple' , 'banana' , 'papaya' , 'orange']\n",
        "print(fruit)\n",
        "for i in range(len(fruit)):\n",
        "  print(i)    #it just prints all the length numbers"
      ]
    },
    {
      "cell_type": "code",
      "execution_count": 11,
      "metadata": {
        "colab": {
          "base_uri": "https://localhost:8080/"
        },
        "id": "66rzJfiI1mSS",
        "outputId": "7a43e6bb-2c91-483c-dc94-de1853b4ce19"
      },
      "outputs": [
        {
          "name": "stdout",
          "output_type": "stream",
          "text": [
            "apple\n",
            "banana\n",
            "cherry\n"
          ]
        },
        {
          "data": {
            "text/plain": [
              "[None, None, None]"
            ]
          },
          "execution_count": 11,
          "metadata": {},
          "output_type": "execute_result"
        }
      ],
      "source": [
        "thislist = [\"apple\", \"banana\", \"cherry\"]\n",
        "[print(x) for x in thislist]\n",
        "# "
      ]
    }
  ],
  "metadata": {
    "colab": {
      "name": "LISTS",
      "provenance": []
    },
    "kernelspec": {
      "display_name": "Python 3",
      "name": "python3"
    },
    "language_info": {
      "codemirror_mode": {
        "name": "ipython",
        "version": 3
      },
      "file_extension": ".py",
      "mimetype": "text/x-python",
      "name": "python",
      "nbconvert_exporter": "python",
      "pygments_lexer": "ipython3",
      "version": "3.10.2"
    }
  },
  "nbformat": 4,
  "nbformat_minor": 0
}
