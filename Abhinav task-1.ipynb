{
 "cells": [
  {
   "cell_type": "markdown",
   "metadata": {},
   "source": [
    "### Variables\n",
    "The most simple form of storage is called a variable. It's an area of memory that stores o\n",
    "Categorical variables. A categorical variable (also called qualitative variable) refers to\n",
    "Nominal variables.\n",
    "Ordinal variables.\n",
    "Numeric variables.\n",
    "Continuous variables.\n",
    "Discrete variables."
   ]
  },
  {
   "cell_type": "markdown",
   "metadata": {},
   "source": [
    "### Array\n",
    "They can store numbers, strings, boolean values (true and false), characters, objects, an\n",
    "Arrays are classified as Homogeneous Data Structures because they store elements of the s\n",
    "But once you define the type of values that your array will store, all its elements must\n",
    "They are 3 types of arrays.\n",
    "1.indexed arrays\n",
    "2. multidimensional arrays\n",
    "3.associative arrays."
   ]
  },
  {
   "cell_type": "markdown",
   "metadata": {},
   "source": [
    "### Multidimensional array\n",
    "A multidimensional array associates each element in the array with multiple indexes.\n",
    "The most commonly used multidimensional array is the two-dimensional array, also known as\n",
    "A two-dimensional array associates each of its elements with two indexes.\n"
   ]
  },
  {
   "cell_type": "markdown",
   "metadata": {},
   "source": [
    "### data structures\n",
    "A data structure is a specialized format for organizing, processing, retrieving and storin\n",
    "There are several basic and advanced types of data structures, all designed to arrange dat\n",
    "Data structures make it easy for users to access and work with the data they need in appropriate ways"
   ]
  },
  {
   "cell_type": "markdown",
   "metadata": {},
   "source": [
    "### Array of Structure\n",
    "Let's see an example of an array of structures that stores information of 5 students and p\n",
    "The array of structures in C are used to store information about multiple entities of diff\n",
    "Array elements are accessed using the Subscript variable, Similarly Structure members are\n",
    "Structure written inside another structure is called as nesting of two structures"
   ]
  },
  {
   "cell_type": "markdown",
   "metadata": {},
   "source": [
    "### Nested Structures\n",
    "In data·structures, data organizations that are separately identifiable but also part of a\n",
    "A table within a table is a nested table. A list within a list is a nested list.\n",
    "Nested data: When data are collected from multiple individuals in a group, the individual\n",
    "Ordinary least squares (OLS) regression: A statistical model used to describe the relation"
   ]
  }
 ],
 "metadata": {
  "kernelspec": {
   "display_name": "Python 3.10.4 64-bit",
   "language": "python",
   "name": "python3"
  },
  "language_info": {
   "name": "python",
   "version": "3.10.4"
  },
  "orig_nbformat": 4,
  "vscode": {
   "interpreter": {
    "hash": "bab1961f13d988cd79cc0f97465e234182f95082ef6fd3963def7728125b7dac"
   }
  }
 },
 "nbformat": 4,
 "nbformat_minor": 2
}
