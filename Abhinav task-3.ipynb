{
 "cells": [
  {
   "cell_type": "markdown",
   "metadata": {},
   "source": [
    "### Insertion Sort"
   ]
  },
  {
   "cell_type": "code",
   "execution_count": 1,
   "metadata": {},
   "outputs": [
    {
     "name": "stdout",
     "output_type": "stream",
     "text": [
      "Sorted array in Ascending Order: \n",
      "[1, 2, 4, 6, 7, 8, 9, 11, 15, 18, 23]\n"
     ]
    }
   ],
   "source": [
    "def insertsort(array):\n",
    "    for step in range(1, len(array)):\n",
    "        n = array[step]\n",
    "        j = step - 1\n",
    "        while j>=0 and n < array[j]:\n",
    "            array[j + 1] = array[j]\n",
    "            j = j - 1\n",
    "        array[j + 1] = n\n",
    "data = [8, 6, 4, 7, 9, 15, 18, 11, 23, 1, 2]\n",
    "insertsort(data)\n",
    "print(\"Sorted array in Ascending Order: \")\n",
    "print(data)"
   ]
  },
  {
   "cell_type": "markdown",
   "metadata": {},
   "source": [
    "### Selection Sort"
   ]
  },
  {
   "cell_type": "code",
   "execution_count": 4,
   "metadata": {},
   "outputs": [
    {
     "name": "stdout",
     "output_type": "stream",
     "text": [
      "The sorted array is:  [10, 30, 61, 102, 347, 357, 500, 1560]\n"
     ]
    }
   ],
   "source": [
    "def selectsort(array):  \n",
    "    size = len(array)  \n",
    "    for i in range(size-1):  \n",
    "        min = i  \n",
    "        for j in range(i+1, size):  \n",
    "            if array[j]<array[min]:  \n",
    "                min = j  \n",
    "        array[i], array[min] = array[min], array[i]\n",
    "    return array\n",
    "array = list(map(int, input().split()))\n",
    "print(\"The sorted array is: \", selectsort(array))  "
   ]
  }
 ],
 "metadata": {
  "kernelspec": {
   "display_name": "Python 3.10.4 64-bit",
   "language": "python",
   "name": "python3"
  },
  "language_info": {
   "codemirror_mode": {
    "name": "ipython",
    "version": 3
   },
   "file_extension": ".py",
   "mimetype": "text/x-python",
   "name": "python",
   "nbconvert_exporter": "python",
   "pygments_lexer": "ipython3",
   "version": "3.10.4"
  },
  "orig_nbformat": 4,
  "vscode": {
   "interpreter": {
    "hash": "bab1961f13d988cd79cc0f97465e234182f95082ef6fd3963def7728125b7dac"
   }
  }
 },
 "nbformat": 4,
 "nbformat_minor": 2
}
