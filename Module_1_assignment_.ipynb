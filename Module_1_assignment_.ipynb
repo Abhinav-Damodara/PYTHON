{
  "nbformat": 4,
  "nbformat_minor": 0,
  "metadata": {
    "colab": {
      "name": "Module 1 - assignment .ipynb",
      "provenance": []
    },
    "kernelspec": {
      "name": "python3",
      "display_name": "Python 3"
    },
    "language_info": {
      "name": "python"
    }
  },
  "cells": [
    {
      "cell_type": "markdown",
      "source": [
        "#### Accept input from user and store it in variable and print the value."
      ],
      "metadata": {
        "id": "Ff0KvyhJS5H8"
      }
    },
    {
      "cell_type": "code",
      "execution_count": null,
      "metadata": {
        "id": "ZXIjO9SVShC3",
        "colab": {
          "base_uri": "https://localhost:8080/"
        },
        "outputId": "c1e8888e-4826-4286-831f-1ce1d3b6f7c1"
      },
      "outputs": [
        {
          "output_type": "stream",
          "name": "stdout",
          "text": [
            "enter a value2\n",
            "2\n"
          ]
        }
      ],
      "source": [
        "a = int(input(\"enter a value\"))\n",
        "print(a)"
      ]
    },
    {
      "cell_type": "markdown",
      "source": [
        "#### Use of print statements and use of (.format )for printing different data types."
      ],
      "metadata": {
        "id": "GuYjtHmeTysY"
      }
    },
    {
      "cell_type": "code",
      "source": [
        "abhinav = \"My name is {0} and I'm {1}\"\n",
        "print(abhinav.format(\"Abhi\",17))"
      ],
      "metadata": {
        "colab": {
          "base_uri": "https://localhost:8080/"
        },
        "id": "IpTE6joxT1Ly",
        "outputId": "6ee0586a-ad62-4d32-900d-c5df0c80efb3"
      },
      "execution_count": null,
      "outputs": [
        {
          "output_type": "stream",
          "name": "stdout",
          "text": [
            "My name is Abhi and I'm 17\n"
          ]
        }
      ]
    },
    {
      "cell_type": "markdown",
      "source": [
        "#### Take 2 numbers as user input and add, multiply, divide, subtract, remainder and print the output"
      ],
      "metadata": {
        "id": "I2M_b9VHYIpK"
      }
    },
    {
      "cell_type": "code",
      "source": [
        "a = 20\n",
        "b = 30\n",
        "add = a+b\n",
        "sub = a-b\n",
        "mul = a*b\n",
        "div = a/b\n",
        "rem = a%b\n",
        "print(add,\"is the addition of the two\")\n",
        "print(sub,\"id the substraction of the two\")\n",
        "print(mul,\"is the multiplication of the two\")\n",
        "print(div,\"is the division of the two\")\n",
        "print(rem,\"is the remainder of the two\")"
      ],
      "metadata": {
        "colab": {
          "base_uri": "https://localhost:8080/"
        },
        "id": "QXvR0SPiYMrB",
        "outputId": "a0dd9114-221b-4d39-e40f-cbbfb592138b"
      },
      "execution_count": null,
      "outputs": [
        {
          "output_type": "stream",
          "name": "stdout",
          "text": [
            "50 is the addition of the two\n",
            "-10 id the substraction of the two\n",
            "600 is the multiplication of the two\n",
            "0.6666666666666666 is the division of the two\n",
            "20 is the remainder of the two\n"
          ]
        }
      ]
    },
    {
      "cell_type": "markdown",
      "source": [
        "#### Conversion of one unit to another"
      ],
      "metadata": {
        "id": "jsS-Ht0IZrzQ"
      }
    },
    {
      "cell_type": "code",
      "source": [
        "hours = int(input(\"Please enter hours:\"))\n",
        "minutes = hours * 60\n",
        "print (minutes, \" Minutes\")\n",
        "KM = int(input(\"Enter the dist in KM\"))\n",
        "meter = KM * 1000\n",
        "print (meter, \"Meters\")"
      ],
      "metadata": {
        "colab": {
          "base_uri": "https://localhost:8080/"
        },
        "id": "J-gj_8yXZtL_",
        "outputId": "23684446-f5d4-4eca-d045-f95a8f1a56be"
      },
      "execution_count": null,
      "outputs": [
        {
          "output_type": "stream",
          "name": "stdout",
          "text": [
            "Please enter hours:12\n",
            "720  Minutes\n",
            "Enter the dist in KM300\n",
            "300000 Meters\n"
          ]
        }
      ]
    },
    {
      "cell_type": "markdown",
      "source": [
        "#### Accepting 5 different subject marks from user and displaying the grade of the student"
      ],
      "metadata": {
        "id": "g6FP_Awi3sBL"
      }
    },
    {
      "cell_type": "code",
      "source": [
        "sub1=int(input(\"Enter marks of the first subject: \"))\n",
        "sub2=int(input(\"Enter marks of the second subject: \"))\n",
        "sub3=int(input(\"Enter marks of the third subject: \"))\n",
        "sub4=int(input(\"Enter marks of the fourth subject: \"))\n",
        "sub5=int(input(\"Enter marks of the fifth subject: \"))\n",
        "per=((sub1+sub2+sub3+sub4+sub4)/500)*100\n",
        "if(per>=90):\n",
        "    print(\"Grade: A\")\n",
        "elif(per>=80 and per<90):\n",
        "    print(\"Grade: B\")\n",
        "elif(per>=70 and per<80):\n",
        "    print(\"Grade: C\")\n",
        "elif(per>=60 and per<70):\n",
        "    print(\"Grade: D\")\n",
        "else:\n",
        "    print(\"Grade: F\")"
      ],
      "metadata": {
        "colab": {
          "base_uri": "https://localhost:8080/"
        },
        "id": "lSl0omMm3scu",
        "outputId": "53f084dc-183c-427c-891d-ccbb8e89b7b6"
      },
      "execution_count": null,
      "outputs": [
        {
          "output_type": "stream",
          "name": "stdout",
          "text": [
            "Enter marks of the first subject: 60\n",
            "Enter marks of the second subject: 90\n",
            "Enter marks of the third subject: 60\n",
            "Enter marks of the fourth subject: 80\n",
            "Enter marks of the fifth subject: 90\n",
            "Grade: C\n"
          ]
        }
      ]
    },
    {
      "cell_type": "markdown",
      "source": [
        "#### Printing all even numbers, odd numbers, count of even numbers, count of odd numbers within a given range"
      ],
      "metadata": {
        "id": "Lu3w6KGc42wD"
      }
    },
    {
      "cell_type": "code",
      "source": [
        "even_count, odd_count = 0, 0\n",
        "even_list = []\n",
        "odd_list = []\n",
        "n = int(input(\"Enter the lower bound of range: \"))\n",
        "m = int(input(\"Enter the upper bound of range: \"))\n",
        "# Using for loop\n",
        "for i in range(n,m+1):\n",
        "    if i % 2 == 0:\n",
        "        even_count += 1\n",
        "        even_list.append(i)\n",
        "    else:\n",
        "        odd_count += 1\n",
        "        odd_list.append(i)\n",
        "print(\"Total even numbers in the range {0} to {1} is {2}\".format(n, m,even_count), \"and numbers are\", even_list)\n",
        "print(\"Total odd numbers in the range {0} to {1} is {2}\".format(n,m,odd_count), \"and numbers are\", odd_list)"
      ],
      "metadata": {
        "colab": {
          "base_uri": "https://localhost:8080/"
        },
        "id": "W6M6qLyc4aJH",
        "outputId": "66bb30ac-9c53-4ffb-e5c6-5080123b9f8b"
      },
      "execution_count": null,
      "outputs": [
        {
          "output_type": "stream",
          "name": "stdout",
          "text": [
            "Enter the lower bound of range: 1\n",
            "Enter the upper bound of range: 100\n",
            "Total even numbers in the range 1 to 100 is 50 and numbers are [2, 4, 6, 8, 10, 12, 14, 16, 18, 20, 22, 24, 26, 28, 30, 32, 34, 36, 38, 40, 42, 44, 46, 48, 50, 52, 54, 56, 58, 60, 62, 64, 66, 68, 70, 72, 74, 76, 78, 80, 82, 84, 86, 88, 90, 92, 94, 96, 98, 100]\n",
            "Total odd numbers in the range 1 to 100 is 50 and numbers are [1, 3, 5, 7, 9, 11, 13, 15, 17, 19, 21, 23, 25, 27, 29, 31, 33, 35, 37, 39, 41, 43, 45, 47, 49, 51, 53, 55, 57, 59, 61, 63, 65, 67, 69, 71, 73, 75, 77, 79, 81, 83, 85, 87, 89, 91, 93, 95, 97, 99]\n"
          ]
        }
      ]
    },
    {
      "cell_type": "markdown",
      "source": [
        "#### Calculator"
      ],
      "metadata": {
        "id": "pw5ccCnGhyoI"
      }
    },
    {
      "cell_type": "code",
      "source": [
        "def add(x, y):\n",
        "    return x + y\n",
        "def subtract(x, y):\n",
        "    return x - y\n",
        "def multiply(x, y):\n",
        "    return x * y\n",
        "def divide(x, y):\n",
        "    return x / y\n",
        "\n",
        "print(\"Select operation.\")\n",
        "print(\"1.Add\")\n",
        "print(\"2.Subtract\")\n",
        "print(\"3.Multiply\")\n",
        "print(\"4.Divide\")\n",
        "\n",
        "while True:\n",
        "    choice = input(\"Enter choice(1/2/3/4): \")\n",
        "    if choice in ('1', '2', '3', '4'):\n",
        "        num1 = float(input(\"Enter first number: \"))\n",
        "        num2 = float(input(\"Enter second number: \"))\n",
        "\n",
        "        if choice == '1':\n",
        "            print(num1, \"+\", num2, \"=\", add(num1, num2))\n",
        "\n",
        "        elif choice == '2':\n",
        "            print(num1, \"-\", num2, \"=\", subtract(num1, num2))\n",
        "\n",
        "        elif choice == '3':\n",
        "            print(num1, \"*\", num2, \"=\", multiply(num1, num2))\n",
        "\n",
        "        elif choice == '4':\n",
        "            print(num1, \"/\", num2, \"=\", divide(num1, num2))\n",
        "        next_calculation = input(\"Let's do next calculation? (y/n): \")\n",
        "        if next_calculation == \"n\":\n",
        "          break\n",
        "    else:\n",
        "        print(\"Invalid Input\")"
      ],
      "metadata": {
        "colab": {
          "base_uri": "https://localhost:8080/"
        },
        "id": "ZMDisL6Yi-3v",
        "outputId": "22580bae-99e3-4f0e-906b-99bf9150f63b"
      },
      "execution_count": null,
      "outputs": [
        {
          "name": "stdout",
          "output_type": "stream",
          "text": [
            "Select operation.\n",
            "1.Add\n",
            "2.Subtract\n",
            "3.Multiply\n",
            "4.Divide\n",
            "Enter choice(1/2/3/4): 20\n",
            "Invalid Input\n",
            "Enter choice(1/2/3/4): 1\n",
            "Enter first number: 60\n",
            "Enter second number: 80\n",
            "60.0 + 80.0 = 140.0\n",
            "Let's do next calculation? (y/n): n\n"
          ]
        }
      ]
    },
    {
      "cell_type": "markdown",
      "source": [
        "#### Usage of mathematical functions in python like math.ceil, floor, fabs, fmod, trunc, pow, sqrt etc"
      ],
      "metadata": {
        "id": "i_izOczIoq3H"
      }
    },
    {
      "cell_type": "code",
      "source": [
        "import math\n",
        "num = -28.23\n",
        "print(math.ceil(num))\n",
        "print(math.floor(num))\n",
        "print(math.fabs(num))\n",
        "print(math.fmod(num,1))\n",
        "print(math.trunc(num))\n",
        "print(math.pow(num,2))\n",
        "#print(math.sqrt(num))"
      ],
      "metadata": {
        "colab": {
          "base_uri": "https://localhost:8080/"
        },
        "id": "VjvBAs-Jov1-",
        "outputId": "0cb9fef0-bbf5-4e8a-9212-b3b8c2ed350c"
      },
      "execution_count": null,
      "outputs": [
        {
          "output_type": "stream",
          "name": "stdout",
          "text": [
            "-28\n",
            "-29\n",
            "28.23\n",
            "-0.23000000000000043\n",
            "-28\n",
            "796.9329\n"
          ]
        }
      ]
    },
    {
      "cell_type": "markdown",
      "source": [
        "#### Check whether the number is palindrome or not"
      ],
      "metadata": {
        "id": "uM1xkWNy5lHz"
      }
    },
    {
      "cell_type": "code",
      "source": [
        "a=int(input(\"enter a value\"))\n",
        "rev=0\n",
        "temp=a\n",
        "while temp>0:\n",
        "  rem=temp%10\n",
        "  rev=(rev*10)+rem\n",
        "  temp=temp//10\n",
        "if a==rev:\n",
        "  print(\"palindrome\")\n",
        "else:\n",
        "  print(\"not a plaindrome\")"
      ],
      "metadata": {
        "colab": {
          "base_uri": "https://localhost:8080/"
        },
        "id": "KYAWUqkT5FLn",
        "outputId": "7a81c31d-007c-4861-fcf5-5cb58a3e472f"
      },
      "execution_count": null,
      "outputs": [
        {
          "output_type": "stream",
          "name": "stdout",
          "text": [
            "enter a value1234\n",
            "not a plaindrome\n"
          ]
        }
      ]
    },
    {
      "cell_type": "markdown",
      "source": [
        "#### Finding simple and compound intrest"
      ],
      "metadata": {
        "id": "-rD0xymU5pyG"
      }
    },
    {
      "cell_type": "code",
      "source": [
        "import math\n",
        "p=int(input(\"enter the principal amount\"))\n",
        "r=int(input(\"enter the intrest amount\"))\n",
        "t=int(input(\"amount of years\"))\n",
        "for i in range(1,t+1):\n",
        "  si=(p*i*r)/100\n",
        "  ci=p*(math.pow(1+r/100,i))\n",
        "print(i,\"yr interst ci is \",ci)\n",
        "print(i,\"yr interst si is \",si)"
      ],
      "metadata": {
        "colab": {
          "base_uri": "https://localhost:8080/"
        },
        "id": "-3BHycJ85wzK",
        "outputId": "5564cdb7-b2ff-4452-d1cc-d7c7261ca28b"
      },
      "execution_count": null,
      "outputs": [
        {
          "output_type": "stream",
          "name": "stdout",
          "text": [
            "enter the principal amount2000\n",
            "enter the intrest amount10\n",
            "amount of years1\n",
            "1 yr interst ci is  2200.0\n",
            "1 yr interst si is  200.0\n"
          ]
        }
      ]
    },
    {
      "cell_type": "markdown",
      "source": [
        "#### Printing all even numbers, odd numbers"
      ],
      "metadata": {
        "id": "W2RRCk239dlp"
      }
    },
    {
      "cell_type": "code",
      "source": [
        "a=int(input(\"enter the first number in the range\"))\n",
        "b=int(input(\"enter the second number in the range\"))\n",
        "for i in range(a,b):\n",
        "  if i%2==0:\n",
        "    print(\"even numbers are\",i)\n",
        "  else:\n",
        "    print(\"odd numbers are \",i)"
      ],
      "metadata": {
        "colab": {
          "base_uri": "https://localhost:8080/"
        },
        "id": "z_Nnae9U9K84",
        "outputId": "b010ea67-39f3-4705-9e57-20af2dbad310"
      },
      "execution_count": null,
      "outputs": [
        {
          "output_type": "stream",
          "name": "stdout",
          "text": [
            "enter the first number in the range20\n",
            "enter the second number in the range25\n",
            "even numbers are 20\n",
            "odd numbers are  21\n",
            "even numbers are 22\n",
            "odd numbers are  23\n",
            "even numbers are 24\n"
          ]
        }
      ]
    },
    {
      "cell_type": "markdown",
      "source": [
        "#### Strong Number"
      ],
      "metadata": {
        "id": "5ZS48iVb--Ec"
      }
    },
    {
      "cell_type": "code",
      "source": [
        "a = int(input(\" Enter the Number:\"))\n",
        "sum = 0\n",
        "temp = a\n",
        "while(temp > 0):\n",
        "    factorial = 1\n",
        "    rem = temp % 10\n",
        "    for i in range(1, rem + 1):\n",
        "        factorial = factorial * i\n",
        "    print(\"Factorial of %d = %d\" %(rem, factorial))\n",
        "    sum = sum + factorial\n",
        "    temp = temp // 10\n",
        "print(\"\\n Sum of Factorials of a Given Number %d = %d\" %(a, sum))\n",
        "if (sum == a):\n",
        "    print(\" The given number is a Strong Number\")\n",
        "else:\n",
        "    print(\" The given number is not a Strong Number\")"
      ],
      "metadata": {
        "colab": {
          "base_uri": "https://localhost:8080/"
        },
        "id": "h6zcJMCg-BjJ",
        "outputId": "f63b766c-e42b-4c3c-ef8b-a22d1be053c6"
      },
      "execution_count": null,
      "outputs": [
        {
          "output_type": "stream",
          "name": "stdout",
          "text": [
            " Enter the Number:203\n",
            "Factorial of 3 = 6\n",
            "Factorial of 0 = 1\n",
            "Factorial of 2 = 2\n",
            "\n",
            " Sum of Factorials of a Given Number 203 = 9\n",
            " The given number is not a Strong Number\n"
          ]
        }
      ]
    },
    {
      "cell_type": "markdown",
      "source": [
        "#### Perfect Number"
      ],
      "metadata": {
        "id": "Zejml2Ap_6IW"
      }
    },
    {
      "cell_type": "code",
      "source": [
        "a = int(input(\"Enter the number: \"))\n",
        "sum = 0\n",
        "for i in range( 1 , a ):\n",
        "    if (a % i == 0):\n",
        "        sum = sum + i\n",
        "if(sum == num):\n",
        "    print(\"perfect number\")\n",
        "else:\n",
        "    print(\"not a perfect number\")"
      ],
      "metadata": {
        "colab": {
          "base_uri": "https://localhost:8080/"
        },
        "id": "wpxooc41_fIb",
        "outputId": "871e0907-9912-4ba7-a240-a05e2fd25ad9"
      },
      "execution_count": null,
      "outputs": [
        {
          "output_type": "stream",
          "name": "stdout",
          "text": [
            "Enter the number: 6\n",
            "perfect number\n"
          ]
        }
      ]
    }
  ]
}