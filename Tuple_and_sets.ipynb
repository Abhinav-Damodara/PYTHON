{
  "cells": [
    {
      "cell_type": "markdown",
      "metadata": {
        "id": "Qe2ZBA35wgKG"
      },
      "source": [
        "#### List"
      ]
    },
    {
      "cell_type": "code",
      "execution_count": 59,
      "metadata": {
        "colab": {
          "base_uri": "https://localhost:8080/"
        },
        "id": "_OvprrHnaccg",
        "outputId": "bf31a523-3857-4785-b838-67da586a895e"
      },
      "outputs": [
        {
          "name": "stdout",
          "output_type": "stream",
          "text": [
            "['CPU', 'GPU', 'Ram']\n",
            "['CPU', 'Hdd', 'GPU', 'Ram']\n"
          ]
        }
      ],
      "source": [
        "abhinav = [\"CPU\",\"GPU\",\"Ram\"]\n",
        "print(abhinav)\n",
        "abhinav.insert(1,\"Hdd\")\n",
        "print(abhinav)"
      ]
    },
    {
      "cell_type": "markdown",
      "metadata": {
        "id": "709RcUbgwlJ2"
      },
      "source": [
        "#### Tuple Length"
      ]
    },
    {
      "cell_type": "code",
      "execution_count": 60,
      "metadata": {
        "colab": {
          "base_uri": "https://localhost:8080/"
        },
        "id": "Bqpi16aUwo9V",
        "outputId": "3265d31a-6fe2-4659-86e9-32db00449615"
      },
      "outputs": [
        {
          "name": "stdout",
          "output_type": "stream",
          "text": [
            "3\n"
          ]
        }
      ],
      "source": [
        "abhinav = (\"CPU\",\"GPU\",\"Ram\")\n",
        "print(len(abhinav))"
      ]
    },
    {
      "cell_type": "code",
      "execution_count": 61,
      "metadata": {
        "colab": {
          "base_uri": "https://localhost:8080/"
        },
        "id": "2QmLuzPjxm-u",
        "outputId": "907fa142-4627-4101-b85b-c33bfd3e3b5c"
      },
      "outputs": [
        {
          "name": "stdout",
          "output_type": "stream",
          "text": [
            "('Ram',)\n",
            "<class 'tuple'>\n",
            "Ram\n",
            "<class 'str'>\n",
            "('R', 'a', 'm')\n",
            "<class 'tuple'>\n"
          ]
        }
      ],
      "source": [
        "#Tuple\n",
        "\n",
        "abhinav = (\"Ram\",)\n",
        "print(abhinav)\n",
        "print(type(abhinav))\n",
        "\n",
        "#String\n",
        "\n",
        "abhinav = (\"Ram\")\n",
        "print(abhinav)\n",
        "print(type(abhinav))\n",
        "\n",
        "#Tuple\n",
        "\n",
        "abhinav = tuple((\"Ram\"))\n",
        "print(abhinav)\n",
        "print(type(abhinav))"
      ]
    },
    {
      "cell_type": "code",
      "execution_count": 62,
      "metadata": {
        "colab": {
          "base_uri": "https://localhost:8080/"
        },
        "id": "gD_rnw8UyvXG",
        "outputId": "6e76b097-7008-4f8e-9e95-b1ff1a24fa5a"
      },
      "outputs": [
        {
          "name": "stdout",
          "output_type": "stream",
          "text": [
            "('apple', 'banana', 'cherry')\n",
            "(1, 5, 7, 9, 3)\n",
            "(True, False, False)\n",
            "('abc', 34, True, 40, 'male')\n"
          ]
        }
      ],
      "source": [
        "# Tuple accepts all data types\n",
        "\n",
        "abhinav1 = (\"apple\", \"banana\", \"cherry\")\n",
        "abhinav2 = (1, 5, 7, 9, 3)\n",
        "abhinav3 = (True, False, False)\n",
        "print(abhinav1)\n",
        "print(abhinav2)\n",
        "print(abhinav3)\n",
        "\n",
        "# It also accepts multiple datatypes in a single tuple\n",
        "\n",
        "tuple1 = (\"abc\", 34, True, 40, \"male\")\n",
        "print(tuple1)"
      ]
    },
    {
      "cell_type": "code",
      "execution_count": 63,
      "metadata": {
        "colab": {
          "base_uri": "https://localhost:8080/"
        },
        "id": "DMKSeiAA1uaX",
        "outputId": "8a0e9029-7aa1-4629-af6a-1c28e593932b"
      },
      "outputs": [
        {
          "name": "stdout",
          "output_type": "stream",
          "text": [
            "gpu\n",
            "ssd\n",
            "('gpu', 'ram', 'hdd')\n"
          ]
        }
      ],
      "source": [
        "# Print the first item of the series\n",
        "\n",
        "abhinav = (\"cpu\",\"gpu\",\"ram\",\"hdd\",\"ssd\")\n",
        "print(abhinav[1])\n",
        "\n",
        "# Print th e last item of the series\n",
        "\n",
        "abhinav = (\"cpu\",\"gpu\",\"ram\",\"hdd\",\"ssd\")\n",
        "print(abhinav[-1])\n",
        "\n",
        "# Print a series of items\n",
        "\n",
        "abhinav = (\"cpu\",\"gpu\",\"ram\",\"hdd\",\"ssd\")\n",
        "print(abhinav[1:4])"
      ]
    },
    {
      "cell_type": "code",
      "execution_count": 64,
      "metadata": {
        "colab": {
          "base_uri": "https://localhost:8080/"
        },
        "id": "rreNuT6a3S6g",
        "outputId": "65a70992-4148-48ec-b7ba-39b15096d92d"
      },
      "outputs": [
        {
          "name": "stdout",
          "output_type": "stream",
          "text": [
            "yes, 'cpu' is in the tuple named abhinav\n"
          ]
        }
      ],
      "source": [
        "# Checking an item existe in the tuple or not\n",
        "\n",
        "abhinav = (\"cpu\",\"gpu\",\"ram\",\"hdd\",\"ssd\")\n",
        "if \"cpu\" in  abhinav:\n",
        "  print(\"yes, 'cpu' is in the tuple named abhinav\")"
      ]
    },
    {
      "cell_type": "code",
      "execution_count": 65,
      "metadata": {
        "colab": {
          "base_uri": "https://localhost:8080/"
        },
        "id": "BPlgOxZy5FpF",
        "outputId": "9220ec44-2b0d-4748-eee2-df149475615b"
      },
      "outputs": [
        {
          "name": "stdout",
          "output_type": "stream",
          "text": [
            "('cpu', 'gpu', 'psu', 'hdd', 'ssd', 'Key')\n"
          ]
        }
      ],
      "source": [
        "# Editing or updating a tuple\n",
        "\n",
        "abhinav = (\"cpu\",\"gpu\",\"ram\",\"hdd\",\"ssd\")\n",
        "a = list(abhinav)\n",
        "a[2] = \"psu\"\n",
        "a.append(\"Key\")\n",
        "abhinav = tuple(a)\n",
        "print(abhinav)"
      ]
    },
    {
      "cell_type": "code",
      "execution_count": 66,
      "metadata": {
        "colab": {
          "base_uri": "https://localhost:8080/"
        },
        "id": "iDqdz14o9mZP",
        "outputId": "2147a47b-0933-438f-d880-0bd95f02e950"
      },
      "outputs": [
        {
          "name": "stdout",
          "output_type": "stream",
          "text": [
            "('cpu', 'gpu', 'ram', 'hdd', 'ssd', 'psu')\n"
          ]
        }
      ],
      "source": [
        "# Two tuples can be added\n",
        "\n",
        "abhinav = (\"cpu\",\"gpu\",\"ram\",\"hdd\",\"ssd\")\n",
        "a = (\"psu\",)\n",
        "b = (abhinav + a)\n",
        "print(b)\n",
        "\n",
        "# using the same function use delete and remove and other functions to edit tuples."
      ]
    },
    {
      "cell_type": "markdown",
      "metadata": {
        "id": "Fr7mCol_BXpA"
      },
      "source": [
        "## Sets"
      ]
    },
    {
      "cell_type": "code",
      "execution_count": 67,
      "metadata": {
        "colab": {
          "base_uri": "https://localhost:8080/"
        },
        "id": "lmcke91RBXKo",
        "outputId": "800aa348-da73-43c8-95dd-a806bc8c3a31"
      },
      "outputs": [
        {
          "name": "stdout",
          "output_type": "stream",
          "text": [
            "{'gpu', 'ram', 'hdd', 'ssd', 'cpu'}\n"
          ]
        }
      ],
      "source": [
        "abhinav = {\"cpu\",\"gpu\",\"ram\",\"hdd\",\"ssd\"}\n",
        "print(abhinav)"
      ]
    },
    {
      "cell_type": "code",
      "execution_count": 68,
      "metadata": {
        "colab": {
          "base_uri": "https://localhost:8080/"
        },
        "id": "3pZZwjNWCGl3",
        "outputId": "e165e380-8d70-4fed-a2f6-4a9ed9a53bfe"
      },
      "outputs": [
        {
          "name": "stdout",
          "output_type": "stream",
          "text": [
            "{'gpu', 'ram', 'hdd', 'ssd', 'cpu'}\n",
            "The length of the set is 5\n"
          ]
        }
      ],
      "source": [
        "abhinav = {\"cpu\",\"gpu\",\"ram\",\"hdd\",\"ssd\",\"cpu\",\"gpu\"}\n",
        "print(abhinav)\n",
        "print('The length of the set is', len(abhinav))"
      ]
    },
    {
      "cell_type": "code",
      "execution_count": 69,
      "metadata": {
        "colab": {
          "base_uri": "https://localhost:8080/"
        },
        "id": "9L8qqLckL_IR",
        "outputId": "ba01cecb-0aa9-48be-c517-11d209cf0b71"
      },
      "outputs": [
        {
          "name": "stdout",
          "output_type": "stream",
          "text": [
            "{'gpu', 'ssd', 'ram', 'hdd', 'cpu'}\n"
          ]
        }
      ],
      "source": [
        "abhinav = set((\"cpu\",\"gpu\",\"ram\",\"hdd\",\"ssd\",\"cpu\",\"gpu\"))\n",
        "print(abhinav)"
      ]
    },
    {
      "cell_type": "code",
      "execution_count": 70,
      "metadata": {
        "colab": {
          "base_uri": "https://localhost:8080/"
        },
        "id": "M245BetgNK1y",
        "outputId": "17702737-2b3f-4fd0-bb00-0ab48fd81d8f"
      },
      "outputs": [
        {
          "name": "stdout",
          "output_type": "stream",
          "text": [
            "gpu\n",
            "ram\n",
            "hdd\n",
            "ssd\n",
            "cpu\n"
          ]
        }
      ],
      "source": [
        "abhinav = {\"cpu\",\"gpu\",\"ram\",\"hdd\",\"ssd\",\"cpu\",\"gpu\"}\n",
        "\n",
        "for x in abhinav:\n",
        "  print(x)"
      ]
    },
    {
      "cell_type": "code",
      "execution_count": 71,
      "metadata": {
        "colab": {
          "base_uri": "https://localhost:8080/"
        },
        "id": "Z1pz3suPNMuo",
        "outputId": "d19c7efa-090e-43d8-a44b-4a15a777da9e"
      },
      "outputs": [
        {
          "name": "stdout",
          "output_type": "stream",
          "text": [
            "False\n"
          ]
        }
      ],
      "source": [
        "abhinav = {\"cpu\",\"gpu\",\"ram\",\"hdd\",\"ssd\",\"cpu\",\"gpu\"}\n",
        "print(\"banana\" in abhinav)"
      ]
    },
    {
      "cell_type": "code",
      "execution_count": 72,
      "metadata": {
        "colab": {
          "base_uri": "https://localhost:8080/"
        },
        "id": "UOOrlBZfNVko",
        "outputId": "2a365d17-25b6-46e6-9278-1f224d998e6e"
      },
      "outputs": [
        {
          "name": "stdout",
          "output_type": "stream",
          "text": [
            "{'gpu', 'ram', 'hdd', 'orange', 'ssd', 'cpu'}\n"
          ]
        }
      ],
      "source": [
        "abhinav = {\"cpu\",\"gpu\",\"ram\",\"hdd\",\"ssd\",\"cpu\",\"gpu\"}\n",
        "abhinav.add(\"orange\")\n",
        "print(abhinav)"
      ]
    },
    {
      "cell_type": "code",
      "execution_count": 73,
      "metadata": {
        "colab": {
          "base_uri": "https://localhost:8080/"
        },
        "id": "s0ZuE3dhNcs4",
        "outputId": "2ec0c9fa-3d9c-4cd0-8ab5-a78b90b79752"
      },
      "outputs": [
        {
          "name": "stdout",
          "output_type": "stream",
          "text": [
            "{'gpu', 'mango', 'pineapple', 'ssd', 'papaya', 'ram', 'hdd', 'apple', 'cpu'}\n"
          ]
        }
      ],
      "source": [
        "abhinav = {\"cpu\",\"gpu\",\"ram\",\"hdd\",\"ssd\",\"cpu\",\"gpu\"}\n",
        "tropical = {\"pineapple\", \"mango\", \"papaya\", \"apple\"}\n",
        "abhinav.update(tropical)\n",
        "\n",
        "print(abhinav)"
      ]
    },
    {
      "cell_type": "code",
      "execution_count": 74,
      "metadata": {
        "colab": {
          "base_uri": "https://localhost:8080/"
        },
        "id": "AV5_vDTZNsQo",
        "outputId": "cc6b757b-0aa0-4b6b-93bf-66c23270f8a9"
      },
      "outputs": [
        {
          "name": "stdout",
          "output_type": "stream",
          "text": [
            "{'gpu', 'ram', 'hdd', 'orange', 'kiwi', 'ssd', 'cpu'}\n"
          ]
        }
      ],
      "source": [
        "abhinav = {\"cpu\",\"gpu\",\"ram\",\"hdd\",\"ssd\",\"cpu\",\"gpu\"}\n",
        "mylist = [\"kiwi\", \"orange\"]\n",
        "abhinav.update(mylist)\n",
        "print(abhinav)"
      ]
    },
    {
      "cell_type": "code",
      "execution_count": 75,
      "metadata": {
        "colab": {
          "base_uri": "https://localhost:8080/"
        },
        "id": "7AgSM0fAN8eb",
        "outputId": "aaab82a0-96e3-4ad5-f240-6f9be773dd44"
      },
      "outputs": [
        {
          "name": "stdout",
          "output_type": "stream",
          "text": [
            "{'gpu', 'ram', 'hdd', 'ssd'}\n"
          ]
        }
      ],
      "source": [
        "abhinav = {\"cpu\",\"gpu\",\"ram\",\"hdd\",\"ssd\",\"cpu\",\"gpu\"}\n",
        "abhinav.remove(\"cpu\")\n",
        "print(abhinav)"
      ]
    },
    {
      "cell_type": "code",
      "execution_count": 76,
      "metadata": {
        "colab": {
          "base_uri": "https://localhost:8080/"
        },
        "id": "jx00sRnAOFDv",
        "outputId": "5976eff4-be7e-4880-acb5-f77fed951766"
      },
      "outputs": [
        {
          "name": "stdout",
          "output_type": "stream",
          "text": [
            "{'gpu', 'ram', 'hdd', 'ssd', 'cpu'}\n"
          ]
        }
      ],
      "source": [
        "abhinav = {\"cpu\",\"gpu\",\"ram\",\"hdd\",\"ssd\",\"cpu\",\"gpu\"}\n",
        "abhinav.discard(\"banana\")\n",
        "print(abhinav)"
      ]
    },
    {
      "cell_type": "code",
      "execution_count": 77,
      "metadata": {
        "colab": {
          "base_uri": "https://localhost:8080/"
        },
        "id": "u_OXbw5SOQTo",
        "outputId": "5c908c77-0716-4426-e4af-f84873cc684e"
      },
      "outputs": [
        {
          "name": "stdout",
          "output_type": "stream",
          "text": [
            "gpu\n",
            "{'ram', 'hdd', 'ssd', 'cpu'}\n"
          ]
        }
      ],
      "source": [
        "abhinav = {\"cpu\",\"gpu\",\"ram\",\"hdd\",\"ssd\",\"cpu\",\"gpu\"}\n",
        "x = abhinav.pop()\n",
        "print(x)\n",
        "print(abhinav)"
      ]
    },
    {
      "cell_type": "code",
      "execution_count": 78,
      "metadata": {
        "colab": {
          "base_uri": "https://localhost:8080/"
        },
        "id": "a8mdPSsiPAw4",
        "outputId": "fdab06f5-099b-46c5-f4df-c67fffae83d7"
      },
      "outputs": [
        {
          "name": "stdout",
          "output_type": "stream",
          "text": [
            "set()\n"
          ]
        }
      ],
      "source": [
        "abhinav = {\"cpu\",\"gpu\",\"ram\",\"hdd\",\"ssd\",\"cpu\",\"gpu\"}\n",
        "abhinav.clear()\n",
        "print(abhinav)"
      ]
    },
    {
      "cell_type": "code",
      "execution_count": 79,
      "metadata": {
        "colab": {
          "base_uri": "https://localhost:8080/"
        },
        "id": "hjFU_bKgPS1m",
        "outputId": "73b1e03b-c7e9-4d96-e616-0b4c74aa7865"
      },
      "outputs": [
        {
          "name": "stdout",
          "output_type": "stream",
          "text": [
            "no set is available since its deleted\n"
          ]
        }
      ],
      "source": [
        "abhinav = {\"cpu\",\"gpu\",\"ram\",\"hdd\",\"ssd\",\"cpu\",\"gpu\"}\n",
        "del abhinav\n",
        "#print(abhinav)\n",
        "print(\"no set is available since its deleted\")"
      ]
    },
    {
      "cell_type": "code",
      "execution_count": 80,
      "metadata": {
        "colab": {
          "base_uri": "https://localhost:8080/"
        },
        "id": "7Px7a-xCPlne",
        "outputId": "fb90635b-9584-423d-8640-32fcece57bb6"
      },
      "outputs": [
        {
          "name": "stdout",
          "output_type": "stream",
          "text": [
            "gpu\n",
            "ram\n",
            "hdd\n",
            "ssd\n",
            "cpu\n"
          ]
        }
      ],
      "source": [
        "abhinav = {\"cpu\",\"gpu\",\"ram\",\"hdd\",\"ssd\",\"cpu\",\"gpu\"}\n",
        "for x in abhinav:\n",
        "  print(x)"
      ]
    },
    {
      "cell_type": "code",
      "execution_count": 81,
      "metadata": {
        "colab": {
          "base_uri": "https://localhost:8080/"
        },
        "id": "1smwUxEsPqwX",
        "outputId": "e1f215c1-f3c2-478f-9e41-d47e2d541943"
      },
      "outputs": [
        {
          "name": "stdout",
          "output_type": "stream",
          "text": [
            "{'gpu', 1, 'ram', 'hdd', 2, 3, 'ssd', 'cpu'}\n"
          ]
        }
      ],
      "source": [
        "abhinav = {\"cpu\",\"gpu\",\"ram\",\"hdd\",\"ssd\",\"cpu\",\"gpu\"}\n",
        "abhinav2 = {1, 2, 3}\n",
        "abhinav3 = abhinav.union(abhinav2)\n",
        "print(abhinav3)"
      ]
    },
    {
      "cell_type": "code",
      "execution_count": 82,
      "metadata": {
        "colab": {
          "base_uri": "https://localhost:8080/"
        },
        "id": "Adu7Xl4_T6jd",
        "outputId": "290e3c74-3bdb-47ec-b7d2-86e3fe5393ec"
      },
      "outputs": [
        {
          "name": "stdout",
          "output_type": "stream",
          "text": [
            "{'gpu', 1, 'ram', 'hdd', 2, 3, 'ssd', 'cpu'}\n"
          ]
        }
      ],
      "source": [
        "abhinav = {\"cpu\",\"gpu\",\"ram\",\"hdd\",\"ssd\",\"cpu\",\"gpu\"}\n",
        "abhinav2 = {1, 2, 3}\n",
        "abhinav.update(abhinav2)\n",
        "print(abhinav)"
      ]
    },
    {
      "cell_type": "code",
      "execution_count": 83,
      "metadata": {
        "colab": {
          "base_uri": "https://localhost:8080/"
        },
        "id": "NYu1S0q6UWWt",
        "outputId": "973491f7-7cd0-48a0-d618-8f4cf6dd1553"
      },
      "outputs": [
        {
          "name": "stdout",
          "output_type": "stream",
          "text": [
            "set()\n"
          ]
        }
      ],
      "source": [
        "x = {\"cpu\",\"gpu\",\"ram\",\"hdd\",\"ssd\",\"cpu\",\"gpu\"}\n",
        "y = {\"google\", \"microsoft\", \"apple\"}\n",
        "x.intersection_update(y)\n",
        "print(x)"
      ]
    },
    {
      "cell_type": "code",
      "execution_count": 84,
      "metadata": {
        "colab": {
          "base_uri": "https://localhost:8080/"
        },
        "id": "VsYLeh-YUZKF",
        "outputId": "b4833b27-c8a9-4cf5-ef0d-04a266dad595"
      },
      "outputs": [
        {
          "name": "stdout",
          "output_type": "stream",
          "text": [
            "set()\n"
          ]
        }
      ],
      "source": [
        "x = {\"cpu\",\"gpu\",\"ram\",\"hdd\",\"ssd\",\"cpu\",\"gpu\"}\n",
        "y = {\"google\", \"microsoft\", \"apple\"}\n",
        "z = x.intersection(y)\n",
        "print(z)"
      ]
    },
    {
      "cell_type": "code",
      "execution_count": 85,
      "metadata": {
        "colab": {
          "base_uri": "https://localhost:8080/"
        },
        "id": "cmiZxClbVEnV",
        "outputId": "0f134546-b2eb-49c6-d194-f4263764b7e2"
      },
      "outputs": [
        {
          "name": "stdout",
          "output_type": "stream",
          "text": [
            "{'gpu', 'ram', 'hdd', 'apple', 'ssd', 'cpu', 'microsoft', 'google'}\n"
          ]
        }
      ],
      "source": [
        "x = {\"cpu\",\"gpu\",\"ram\",\"hdd\",\"ssd\",\"cpu\",\"gpu\"}\n",
        "y = {\"google\", \"microsoft\", \"apple\"}\n",
        "x.symmetric_difference_update(y)\n",
        "print(x)"
      ]
    },
    {
      "cell_type": "code",
      "execution_count": 86,
      "metadata": {
        "colab": {
          "base_uri": "https://localhost:8080/"
        },
        "id": "EfgXDhgSWcmV",
        "outputId": "88417159-e204-47fd-ce72-c97bc5cefff6"
      },
      "outputs": [
        {
          "name": "stdout",
          "output_type": "stream",
          "text": [
            "{'gpu', 'ssd', 'google', 'ram', 'hdd', 'apple', 'cpu', 'microsoft'}\n"
          ]
        }
      ],
      "source": [
        "x = {\"cpu\",\"gpu\",\"ram\",\"hdd\",\"ssd\",\"cpu\",\"gpu\"}\n",
        "y = {\"google\", \"microsoft\", \"apple\"}\n",
        "z = x.symmetric_difference(y)\n",
        "print(z)"
      ]
    },
    {
      "cell_type": "code",
      "execution_count": 87,
      "metadata": {
        "id": "0Z2Ktsz6XKy1"
      },
      "outputs": [],
      "source": [
        "# add()                          \tAdds an element to the set\n",
        "# clear()                       \tRemoves all the elements from the set\n",
        "# copy()\t                        Returns a copy of the set\n",
        "# difference()                   \tReturns a set containing the difference between two or more sets\n",
        "# difference_update()            \tRemoves the items in this set that are also included in another, specified set\n",
        "# discard()                      \tRemove the specified item\n",
        "# intersection()                \tReturns a set, that is the intersection of two other sets\n",
        "# intersection_update()\t          Removes the items in this set that are not present in other, specified set(s)\n",
        "# isdisjoint()                  \tReturns whether two sets have a intersection or not\n",
        "# issubset()                    \tReturns whether another set contains this set or not\n",
        "# issuperset()                  \tReturns whether this set contains another set or not\n",
        "# pop()\t                          Removes an element from the set\n",
        "# remove()                      \tRemoves the specified element\n",
        "# symmetric_difference()        \tReturns a set with the symmetric differences of two sets\n",
        "# symmetric_difference_update()  \tinserts the symmetric differences from this set and another\n",
        "# union()                       \tReturn a set containing the union of sets\n",
        "# update()\t                      Update the set with the union of this set and others"
      ]
    }
  ],
  "metadata": {
    "colab": {
      "name": "Tuple and sets",
      "provenance": []
    },
    "kernelspec": {
      "display_name": "Python 3",
      "name": "python3"
    },
    "language_info": {
      "codemirror_mode": {
        "name": "ipython",
        "version": 3
      },
      "file_extension": ".py",
      "mimetype": "text/x-python",
      "name": "python",
      "nbconvert_exporter": "python",
      "pygments_lexer": "ipython3",
      "version": "3.10.2"
    }
  },
  "nbformat": 4,
  "nbformat_minor": 0
}
