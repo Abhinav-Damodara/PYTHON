{
  "cells": [
    {
      "cell_type": "markdown",
      "metadata": {
        "id": "view-in-github",
        "colab_type": "text"
      },
      "source": [
        "<a href=\"https://colab.research.google.com/github/AbhinavGitam/Python/blob/main/Python_Exercise.ipynb\" target=\"_parent\"><img src=\"https://colab.research.google.com/assets/colab-badge.svg\" alt=\"Open In Colab\"/></a>"
      ]
    },
    {
      "cell_type": "markdown",
      "id": "994844d2",
      "metadata": {
        "id": "994844d2"
      },
      "source": [
        "# Average of 3 numbers Static"
      ]
    },
    {
      "cell_type": "code",
      "execution_count": null,
      "id": "e6e02ee7",
      "metadata": {
        "id": "e6e02ee7",
        "outputId": "87550b89-db17-4feb-c140-c4854a3baee8"
      },
      "outputs": [
        {
          "name": "stdout",
          "output_type": "stream",
          "text": [
            "20.0\n",
            "<class 'float'>\n"
          ]
        }
      ],
      "source": [
        "a=10\n",
        "b=20\n",
        "c=30\n",
        "avg=(a+b+c)/3\n",
        "print(avg)\n",
        "print(type(avg))"
      ]
    },
    {
      "cell_type": "markdown",
      "id": "00a7adc8",
      "metadata": {
        "id": "00a7adc8"
      },
      "source": [
        "## Multiplication of 3 numbers using static"
      ]
    },
    {
      "cell_type": "code",
      "execution_count": null,
      "id": "75e8eeaa",
      "metadata": {
        "id": "75e8eeaa",
        "outputId": "3f0e5ff9-a0bf-47e9-b9e7-b34185637dda"
      },
      "outputs": [
        {
          "name": "stdout",
          "output_type": "stream",
          "text": [
            "270\n",
            "<class 'int'>\n"
          ]
        }
      ],
      "source": [
        "a=5\n",
        "b=6\n",
        "c=9\n",
        "mul=a*b*c\n",
        "print(mul)\n",
        "print(type(mul))"
      ]
    },
    {
      "cell_type": "markdown",
      "id": "cddf9803",
      "metadata": {
        "id": "cddf9803"
      },
      "source": [
        "# Dynamic addition of 2 numbers Dynamic"
      ]
    },
    {
      "cell_type": "code",
      "execution_count": null,
      "id": "9b448431",
      "metadata": {
        "id": "9b448431",
        "outputId": "53d53b32-1f7f-4357-ff16-796a1a287793"
      },
      "outputs": [
        {
          "name": "stdout",
          "output_type": "stream",
          "text": [
            "Enter a number a =5\n",
            "Enter a number b =6\n",
            "The sum of a and b is = 11\n",
            "<class 'int'>\n"
          ]
        }
      ],
      "source": [
        "a=int(input('Enter a number a ='))\n",
        "b=int(input('Enter a number b ='))\n",
        "add=a+b\n",
        "print('The sum of a and b is =', add)\n",
        "print(type(add))"
      ]
    },
    {
      "cell_type": "markdown",
      "id": "dae30527",
      "metadata": {
        "id": "dae30527"
      },
      "source": [
        "# Avg of 3 numbers Dynamic\n"
      ]
    },
    {
      "cell_type": "code",
      "execution_count": null,
      "id": "c9df40c0",
      "metadata": {
        "id": "c9df40c0",
        "outputId": "9d69db1b-2eb1-4aa8-f060-9646ae74377f"
      },
      "outputs": [
        {
          "name": "stdout",
          "output_type": "stream",
          "text": [
            "Enter a number a =5\n",
            "Enter a number b =6\n",
            "Enter a number c =2\n",
            "4.333333333333333\n",
            "<class 'float'>\n"
          ]
        }
      ],
      "source": [
        "a=int(input('Enter a number a ='))\n",
        "b=int(input('Enter a number b ='))\n",
        "c=int(input('Enter a number c ='))\n",
        "avg=(a+b+c)/3\n",
        "print(avg)\n",
        "print(type(avg))"
      ]
    },
    {
      "cell_type": "markdown",
      "id": "552aef1b",
      "metadata": {
        "id": "552aef1b"
      },
      "source": [
        "# Multiplication of 3 numbers Dynamic\n"
      ]
    },
    {
      "cell_type": "code",
      "execution_count": null,
      "id": "68349a3d",
      "metadata": {
        "id": "68349a3d",
        "outputId": "1528bc74-1480-42cc-ae96-32cfce44c1bc"
      },
      "outputs": [
        {
          "name": "stdout",
          "output_type": "stream",
          "text": [
            "Enter a number a =2\n",
            "Enter a number b =2\n",
            "Enter a number c =2\n",
            "8\n",
            "<class 'int'>\n"
          ]
        }
      ],
      "source": [
        "a=int(input('Enter a number a ='))\n",
        "b=int(input('Enter a number b ='))\n",
        "c=int(input('Enter a number c ='))\n",
        "mul=a*b*c\n",
        "print(mul)\n",
        "print(type(mul))"
      ]
    },
    {
      "cell_type": "markdown",
      "id": "4bc6faf3",
      "metadata": {
        "id": "4bc6faf3"
      },
      "source": [
        "# conversion data types\n",
        "## 1) int to float"
      ]
    },
    {
      "cell_type": "code",
      "execution_count": null,
      "id": "cac857de",
      "metadata": {
        "id": "cac857de",
        "outputId": "7f8f2549-bc8e-494e-c1d4-b140a5a954e6"
      },
      "outputs": [
        {
          "name": "stdout",
          "output_type": "stream",
          "text": [
            "10\n",
            "<class 'int'>\n",
            "10.0\n",
            "<class 'float'>\n"
          ]
        }
      ],
      "source": [
        "a=10\n",
        "print(a)\n",
        "print(type(a))\n",
        "b=float(a)\n",
        "print(b)\n",
        "print(type(b))"
      ]
    },
    {
      "cell_type": "markdown",
      "id": "5a106a91",
      "metadata": {
        "id": "5a106a91"
      },
      "source": [
        "## 2) float to int"
      ]
    },
    {
      "cell_type": "code",
      "execution_count": null,
      "id": "518c539c",
      "metadata": {
        "id": "518c539c",
        "outputId": "0dc22996-d405-4cf0-c98e-f32b6dd858cd"
      },
      "outputs": [
        {
          "name": "stdout",
          "output_type": "stream",
          "text": [
            "10.0\n",
            "<class 'float'>\n",
            "10\n",
            "<class 'int'>\n"
          ]
        }
      ],
      "source": [
        "a=10.0\n",
        "print(a)\n",
        "print(type(a))\n",
        "b=int(a)\n",
        "print(b)\n",
        "print(type(b))"
      ]
    },
    {
      "cell_type": "markdown",
      "id": "98bb286e",
      "metadata": {
        "id": "98bb286e"
      },
      "source": [
        "## 3) string to int/float"
      ]
    },
    {
      "cell_type": "code",
      "execution_count": null,
      "id": "ab8bac08",
      "metadata": {
        "id": "ab8bac08",
        "outputId": "a6d23481-435b-4be0-f460-ff8bc0f96dc6"
      },
      "outputs": [
        {
          "name": "stdout",
          "output_type": "stream",
          "text": [
            "2134\n",
            "<class 'str'>\n",
            "2134\n",
            "<class 'int'>\n",
            "2134.0\n",
            "<class 'float'>\n"
          ]
        }
      ],
      "source": [
        "a='2134'\n",
        "print(a)\n",
        "print(type(a))\n",
        "b=int(a)\n",
        "print(b)\n",
        "print(type(b))\n",
        "b=float(a)\n",
        "print(b)\n",
        "print(type(b))"
      ]
    },
    {
      "cell_type": "markdown",
      "id": "20f25edb",
      "metadata": {
        "id": "20f25edb"
      },
      "source": [
        "## 4) int to string"
      ]
    },
    {
      "cell_type": "code",
      "execution_count": null,
      "id": "82bd5bc7",
      "metadata": {
        "id": "82bd5bc7",
        "outputId": "32811020-db8f-4b5e-bdc4-74fa20704d29"
      },
      "outputs": [
        {
          "name": "stdout",
          "output_type": "stream",
          "text": [
            "1123\n",
            "<class 'int'>\n",
            "1123\n",
            "<class 'str'>\n"
          ]
        }
      ],
      "source": [
        "a=1123\n",
        "print(a)\n",
        "print(type(a))\n",
        "b=str(a)\n",
        "print(b)\n",
        "print(type(b))"
      ]
    },
    {
      "cell_type": "markdown",
      "id": "5fdc1a5e",
      "metadata": {
        "id": "5fdc1a5e"
      },
      "source": [
        "## 5)Boolean"
      ]
    },
    {
      "cell_type": "code",
      "execution_count": null,
      "id": "113e9e53",
      "metadata": {
        "id": "113e9e53",
        "outputId": "2139efad-bec9-42a9-ecef-6bc95b6a4cd5"
      },
      "outputs": [
        {
          "name": "stdout",
          "output_type": "stream",
          "text": [
            "True\n",
            "<class 'bool'>\n",
            "1\n",
            "<class 'int'>\n"
          ]
        }
      ],
      "source": [
        "a=bool(23)\n",
        "print(a)\n",
        "print(type(a))\n",
        "b=int(a)\n",
        "print(b)\n",
        "print(type(b))"
      ]
    },
    {
      "cell_type": "markdown",
      "id": "ca9f0c7f",
      "metadata": {
        "id": "ca9f0c7f"
      },
      "source": [
        "## 6)Boolean ex"
      ]
    },
    {
      "cell_type": "code",
      "execution_count": null,
      "id": "b17a758e",
      "metadata": {
        "id": "b17a758e",
        "outputId": "782eb6ed-54fc-47e6-8040-560c407ad109"
      },
      "outputs": [
        {
          "name": "stdout",
          "output_type": "stream",
          "text": [
            "True\n",
            "True\n"
          ]
        }
      ],
      "source": [
        "a=23\n",
        "b=23\n",
        "print(bool(a==b))\n",
        "print(bool(a==23))"
      ]
    },
    {
      "cell_type": "markdown",
      "id": "65a3d9ab",
      "metadata": {
        "id": "65a3d9ab"
      },
      "source": [
        "## 7)Boolean ex"
      ]
    },
    {
      "cell_type": "code",
      "execution_count": null,
      "id": "3bfeebe0",
      "metadata": {
        "id": "3bfeebe0",
        "outputId": "1cddccc4-c825-4dde-dc0d-46bd2deafbad"
      },
      "outputs": [
        {
          "name": "stdout",
          "output_type": "stream",
          "text": [
            "True\n",
            "<class 'bool'>\n"
          ]
        }
      ],
      "source": [
        "a=10\n",
        "b=5\n",
        "c=a>b\n",
        "print(c)\n",
        "print(type(c))"
      ]
    },
    {
      "cell_type": "markdown",
      "id": "a508a868",
      "metadata": {
        "id": "a508a868"
      },
      "source": [
        "## complex"
      ]
    },
    {
      "cell_type": "code",
      "execution_count": null,
      "id": "ba1a5bb1",
      "metadata": {
        "id": "ba1a5bb1",
        "outputId": "28789154-8814-415a-82d6-42ada7537c05"
      },
      "outputs": [
        {
          "name": "stdout",
          "output_type": "stream",
          "text": [
            "<class 'complex'>\n"
          ]
        },
        {
          "ename": "TypeError",
          "evalue": "can't convert complex to int",
          "output_type": "error",
          "traceback": [
            "\u001b[1;31m---------------------------------------------------------------------------\u001b[0m",
            "\u001b[1;31mTypeError\u001b[0m                                 Traceback (most recent call last)",
            "\u001b[1;32m~\\AppData\\Local\\Temp/ipykernel_4428/1016581292.py\u001b[0m in \u001b[0;36m<module>\u001b[1;34m\u001b[0m\n\u001b[0;32m      1\u001b[0m \u001b[0ma\u001b[0m \u001b[1;33m=\u001b[0m \u001b[0mcomplex\u001b[0m\u001b[1;33m(\u001b[0m\u001b[0ma\u001b[0m\u001b[1;33m+\u001b[0m\u001b[1;36m4\u001b[0m\u001b[1;33m)\u001b[0m\u001b[1;33m\u001b[0m\u001b[1;33m\u001b[0m\u001b[0m\n\u001b[0;32m      2\u001b[0m \u001b[0mprint\u001b[0m\u001b[1;33m(\u001b[0m\u001b[0mtype\u001b[0m\u001b[1;33m(\u001b[0m\u001b[0ma\u001b[0m\u001b[1;33m)\u001b[0m\u001b[1;33m)\u001b[0m\u001b[1;33m\u001b[0m\u001b[1;33m\u001b[0m\u001b[0m\n\u001b[1;32m----> 3\u001b[1;33m \u001b[0mb\u001b[0m \u001b[1;33m=\u001b[0m \u001b[0mint\u001b[0m\u001b[1;33m(\u001b[0m\u001b[0ma\u001b[0m\u001b[1;33m)\u001b[0m\u001b[1;33m\u001b[0m\u001b[1;33m\u001b[0m\u001b[0m\n\u001b[0m\u001b[0;32m      4\u001b[0m \u001b[0mprint\u001b[0m\u001b[1;33m(\u001b[0m\u001b[0mb\u001b[0m\u001b[1;33m)\u001b[0m\u001b[1;33m\u001b[0m\u001b[1;33m\u001b[0m\u001b[0m\n\u001b[0;32m      5\u001b[0m \u001b[0mprint\u001b[0m\u001b[1;33m(\u001b[0m\u001b[0mtype\u001b[0m\u001b[1;33m(\u001b[0m\u001b[0mb\u001b[0m\u001b[1;33m)\u001b[0m\u001b[1;33m)\u001b[0m\u001b[1;33m\u001b[0m\u001b[1;33m\u001b[0m\u001b[0m\n",
            "\u001b[1;31mTypeError\u001b[0m: can't convert complex to int"
          ]
        }
      ],
      "source": [
        "a = complex(a+4)\n",
        "print(type(a))\n",
        "b = int(a)\n",
        "print(b)\n",
        "print(type(b))\n",
        "#cant cnvert complex to int"
      ]
    },
    {
      "cell_type": "code",
      "execution_count": null,
      "id": "0a5ad13c",
      "metadata": {
        "id": "0a5ad13c"
      },
      "outputs": [],
      "source": [
        ""
      ]
    }
  ],
  "metadata": {
    "kernelspec": {
      "display_name": "Python 3 (ipykernel)",
      "language": "python",
      "name": "python3"
    },
    "language_info": {
      "codemirror_mode": {
        "name": "ipython",
        "version": 3
      },
      "file_extension": ".py",
      "mimetype": "text/x-python",
      "name": "python",
      "nbconvert_exporter": "python",
      "pygments_lexer": "ipython3",
      "version": "3.9.7"
    },
    "colab": {
      "name": "Python Exercise-checkpoint.ipynb",
      "provenance": [],
      "include_colab_link": true
    }
  },
  "nbformat": 4,
  "nbformat_minor": 5
}