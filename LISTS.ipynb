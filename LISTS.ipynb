{
  "nbformat": 4,
  "nbformat_minor": 0,
  "metadata": {
    "colab": {
      "name": "LISTS.ipynb",
      "provenance": [],
      "authorship_tag": "ABX9TyPdiNauVAsZOEyufHUHA+lt",
      "include_colab_link": true
    },
    "kernelspec": {
      "name": "python3",
      "display_name": "Python 3"
    },
    "language_info": {
      "name": "python"
    }
  },
  "cells": [
    {
      "cell_type": "markdown",
      "metadata": {
        "id": "view-in-github",
        "colab_type": "text"
      },
      "source": [
        "<a href=\"https://colab.research.google.com/github/AbhinavGitam/Python/blob/main/LISTS.ipynb\" target=\"_parent\"><img src=\"https://colab.research.google.com/assets/colab-badge.svg\" alt=\"Open In Colab\"/></a>"
      ]
    },
    {
      "cell_type": "markdown",
      "source": [
        "Append,extend,pop,remove"
      ],
      "metadata": {
        "id": "Q0AXKYxfnHAd"
      }
    },
    {
      "cell_type": "code",
      "execution_count": 62,
      "metadata": {
        "colab": {
          "base_uri": "https://localhost:8080/"
        },
        "id": "vvBr5CNrWuck",
        "outputId": "67f2c82c-e811-477e-941b-30816d61187a"
      },
      "outputs": [
        {
          "output_type": "stream",
          "name": "stdout",
          "text": [
            "('brinjal', 'tomato', 'orange', 'orange', 'orange')\n"
          ]
        }
      ],
      "source": [
        "fruit=['orange' , 'mango' , 'apple' , 'banana' , 'papaya' , 'orange']    #list always in '[]' brackets\n",
        "thistuple=('brinjal','tomato','orange','orange','orange')\n",
        "#fruit.append('kiwi')    #append is used to add an item at the end of the list\n",
        "#fruit.insert(2,'grapes')    #inserting into a list at a random place in the list\n",
        "fruit.extend(thistuple)\n",
        "fruit.pop(1)\n",
        "fruit.remove('banana')\n",
        "print(thistuple)\n",
        "#print(type(fruit))\n",
        "#print(fruit[0:3])   #from 0 to 3rd variable(excluding the 3rd vaiable)\n",
        "#print(fruit[:4])    #from Starting to 4th variable(excluding the 4th one)\n",
        "#print(fruit[1:4])   #from 1st to 4th variable(excluding the 4th one)"
      ]
    },
    {
      "cell_type": "markdown",
      "source": [
        "Ascending and Desscending"
      ],
      "metadata": {
        "id": "4qEJAg0JlKS7"
      }
    },
    {
      "cell_type": "code",
      "source": [
        "num = [100, 77, 99, 86, 23, 25, 41]\n",
        "num.sort()\n",
        "print(num)\n",
        "num.sort(reverse = True)\n",
        "print(num)\n",
        "fruit=['orange' , 'mango' , 'apple' , 'banana' , 'Papaya' , 'orange']\n",
        "thistuple=('brinjal','tomato','orange','orange')\n",
        "fruit.extend(thistuple)\n",
        "print(fruit)\n",
        "fruit.sort()\n",
        "print(fruit)\n",
        "fruit.sort(reverse = True)\n",
        "print(fruit)"
      ],
      "metadata": {
        "colab": {
          "base_uri": "https://localhost:8080/"
        },
        "id": "17cZggyIh_g7",
        "outputId": "f765d459-a990-46cc-d47a-f6de7393adba"
      },
      "execution_count": 59,
      "outputs": [
        {
          "output_type": "stream",
          "name": "stdout",
          "text": [
            "[23, 25, 41, 77, 86, 99, 100]\n",
            "[100, 99, 86, 77, 41, 25, 23]\n",
            "['orange', 'mango', 'apple', 'banana', 'Papaya', 'orange', 'brinjal', 'tomato', 'orange', 'orange']\n",
            "['Papaya', 'apple', 'banana', 'brinjal', 'mango', 'orange', 'orange', 'orange', 'orange', 'tomato']\n",
            "['tomato', 'orange', 'orange', 'orange', 'orange', 'mango', 'brinjal', 'banana', 'apple', 'Papaya']\n"
          ]
        }
      ]
    },
    {
      "cell_type": "markdown",
      "source": [
        "List and Tuple"
      ],
      "metadata": {
        "id": "2CwRbDcplFfN"
      }
    },
    {
      "cell_type": "code",
      "source": [
        "fruit=['brinjal','tomato','orange','orange','orange']\n",
        "fruit.append('abhi')\n",
        "print(fruit)\n",
        "    #list can be edited bus a tuple cant be eited once its reclared"
      ],
      "metadata": {
        "colab": {
          "base_uri": "https://localhost:8080/"
        },
        "id": "U-mwk09GkTRM",
        "outputId": "b7d77e3c-08f5-4080-fef8-0bc6c8bdf686"
      },
      "execution_count": 67,
      "outputs": [
        {
          "output_type": "stream",
          "name": "stdout",
          "text": [
            "['brinjal', 'tomato', 'orange', 'orange', 'orange', 'abhi']\n"
          ]
        }
      ]
    },
    {
      "cell_type": "markdown",
      "source": [
        "reverse"
      ],
      "metadata": {
        "id": "T9D2OyPrlO5D"
      }
    },
    {
      "cell_type": "code",
      "source": [
        "fruit=['orange' , 'mango' , 'apple' , 'banana' , 'papaya' , 'orange']    #list always in '[]' brackets\n",
        "thistuple=['brinjal','tomato','orange','orange','orange']\n",
        "fruit.extend(thistuple)\n",
        "print(fruit)\n",
        "fruit.reverse()\n",
        "print(fruit)"
      ],
      "metadata": {
        "colab": {
          "base_uri": "https://localhost:8080/"
        },
        "id": "Qpge8GBblPz6",
        "outputId": "075e503a-6d06-40be-c201-b2b8b1339a4e"
      },
      "execution_count": 70,
      "outputs": [
        {
          "output_type": "stream",
          "name": "stdout",
          "text": [
            "['orange', 'mango', 'apple', 'banana', 'papaya', 'orange', 'brinjal', 'tomato', 'orange', 'orange', 'orange']\n",
            "['orange', 'orange', 'orange', 'tomato', 'brinjal', 'orange', 'papaya', 'banana', 'apple', 'mango', 'orange']\n"
          ]
        }
      ]
    },
    {
      "cell_type": "markdown",
      "source": [
        "clear"
      ],
      "metadata": {
        "id": "eJXi_HffmfV0"
      }
    },
    {
      "cell_type": "code",
      "source": [
        "thislist = [\"apple\", \"banana\", \"cherry\"]\n",
        "thislist.clear()\n",
        "print(thislist)"
      ],
      "metadata": {
        "colab": {
          "base_uri": "https://localhost:8080/"
        },
        "id": "xXsniQ9amgbk",
        "outputId": "56edcc33-79e0-4088-8113-6bb13e048077"
      },
      "execution_count": 71,
      "outputs": [
        {
          "output_type": "stream",
          "name": "stdout",
          "text": [
            "[]\n"
          ]
        }
      ]
    },
    {
      "cell_type": "markdown",
      "source": [
        "length in list"
      ],
      "metadata": {
        "id": "g0ZcDJVimiF8"
      }
    },
    {
      "cell_type": "code",
      "source": [
        "fruit=['orange' , 'mango' , 'apple' , 'banana' , 'papaya' , 'orange']\n",
        "thistuple=['brinjal','tomato','orange','orange','orange']\n",
        "fruit.extend(thistuple)\n",
        "print(fruit)\n",
        "fruit.reverse()\n",
        "print(fruit)\n",
        "print(len(fruit))"
      ],
      "metadata": {
        "colab": {
          "base_uri": "https://localhost:8080/"
        },
        "id": "0lZQWLSYmj3j",
        "outputId": "a2148aef-b552-461d-ce69-d0717285d6e4"
      },
      "execution_count": 74,
      "outputs": [
        {
          "output_type": "stream",
          "name": "stdout",
          "text": [
            "['orange', 'mango', 'apple', 'banana', 'papaya', 'orange', 'brinjal', 'tomato', 'orange', 'orange', 'orange']\n",
            "['orange', 'orange', 'orange', 'tomato', 'brinjal', 'orange', 'papaya', 'banana', 'apple', 'mango', 'orange']\n",
            "11\n"
          ]
        }
      ]
    },
    {
      "cell_type": "markdown",
      "source": [
        "Del"
      ],
      "metadata": {
        "id": "YbJyRYVbnZiz"
      }
    },
    {
      "cell_type": "code",
      "source": [
        "thislist = [\"apple\", \"banana\", \"cherry\"]\n",
        "del thislist[0]   #the last item of thelist is deleted\n",
        "print(thislist)\n",
        "fruit = [\"apple\", \"banana\", \"cherry\"]\n",
        "del fruit\n",
        "print(fruit) #error since the list is deleted"
      ],
      "metadata": {
        "colab": {
          "base_uri": "https://localhost:8080/",
          "height": 217
        },
        "id": "LM4y-MEunalE",
        "outputId": "81cfe85a-11f0-4400-9f25-75ee6da31c4c"
      },
      "execution_count": 78,
      "outputs": [
        {
          "output_type": "stream",
          "name": "stdout",
          "text": [
            "['banana', 'cherry']\n"
          ]
        },
        {
          "output_type": "error",
          "ename": "NameError",
          "evalue": "ignored",
          "traceback": [
            "\u001b[0;31m---------------------------------------------------------------------------\u001b[0m",
            "\u001b[0;31mNameError\u001b[0m                                 Traceback (most recent call last)",
            "\u001b[0;32m<ipython-input-78-9c12fbe7cf57>\u001b[0m in \u001b[0;36m<module>\u001b[0;34m()\u001b[0m\n\u001b[1;32m      4\u001b[0m \u001b[0mfruit\u001b[0m \u001b[0;34m=\u001b[0m \u001b[0;34m[\u001b[0m\u001b[0;34m\"apple\"\u001b[0m\u001b[0;34m,\u001b[0m \u001b[0;34m\"banana\"\u001b[0m\u001b[0;34m,\u001b[0m \u001b[0;34m\"cherry\"\u001b[0m\u001b[0;34m]\u001b[0m\u001b[0;34m\u001b[0m\u001b[0;34m\u001b[0m\u001b[0m\n\u001b[1;32m      5\u001b[0m \u001b[0;32mdel\u001b[0m \u001b[0mfruit\u001b[0m\u001b[0;34m\u001b[0m\u001b[0;34m\u001b[0m\u001b[0m\n\u001b[0;32m----> 6\u001b[0;31m \u001b[0mprint\u001b[0m\u001b[0;34m(\u001b[0m\u001b[0mfruit\u001b[0m\u001b[0;34m)\u001b[0m \u001b[0;31m#error since the list is deleted\u001b[0m\u001b[0;34m\u001b[0m\u001b[0;34m\u001b[0m\u001b[0m\n\u001b[0m",
            "\u001b[0;31mNameError\u001b[0m: name 'fruit' is not defined"
          ]
        }
      ]
    }
  ]
}