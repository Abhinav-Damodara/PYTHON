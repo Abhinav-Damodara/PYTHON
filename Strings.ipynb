{
  "nbformat": 4,
  "nbformat_minor": 0,
  "metadata": {
    "colab": {
      "name": "Strings",
      "provenance": [],
      "authorship_tag": "ABX9TyN+T/Y2s4cxyuZRekJSrnLP",
      "include_colab_link": true
    },
    "kernelspec": {
      "name": "python3",
      "display_name": "Python 3"
    },
    "language_info": {
      "name": "python"
    }
  },
  "cells": [
    {
      "cell_type": "markdown",
      "metadata": {
        "id": "view-in-github",
        "colab_type": "text"
      },
      "source": [
        "<a href=\"https://colab.research.google.com/github/AbhinavGitam/Python/blob/main/Strings.ipynb\" target=\"_parent\"><img src=\"https://colab.research.google.com/assets/colab-badge.svg\" alt=\"Open In Colab\"/></a>"
      ]
    },
    {
      "cell_type": "markdown",
      "source": [
        "# String"
      ],
      "metadata": {
        "id": "DBIKh26h7ZeH"
      }
    },
    {
      "cell_type": "code",
      "execution_count": 3,
      "metadata": {
        "colab": {
          "base_uri": "https://localhost:8080/"
        },
        "id": "HZCQZBcR6yW6",
        "outputId": "75e3e65d-8aa0-4081-92a1-43e0456a4ec4"
      },
      "outputs": [
        {
          "output_type": "stream",
          "name": "stdout",
          "text": [
            "Abhinav\n",
            "<class 'str'>\n",
            "A\n"
          ]
        }
      ],
      "source": [
        "name = 'Abhinav'\n",
        "print(name)\n",
        "print(type(name))\n",
        "print(name[0])"
      ]
    },
    {
      "cell_type": "code",
      "source": [
        "a = 'Hello Abhinav'\n",
        "print(a)\n",
        "print(type(a))\n",
        "print(len(a))"
      ],
      "metadata": {
        "colab": {
          "base_uri": "https://localhost:8080/"
        },
        "id": "diMwtQX_8RuE",
        "outputId": "89c2c9b1-4c48-40d7-d7cb-eace5fc97320"
      },
      "execution_count": 13,
      "outputs": [
        {
          "output_type": "stream",
          "name": "stdout",
          "text": [
            "Hello Abhinav\n",
            "<class 'str'>\n",
            "13\n"
          ]
        }
      ]
    },
    {
      "cell_type": "code",
      "source": [
        "a = 'RRR movie has been released'\n",
        "print('RRR' in a)"
      ],
      "metadata": {
        "colab": {
          "base_uri": "https://localhost:8080/"
        },
        "id": "BWzsJQ5Z8tus",
        "outputId": "90c7128c-8950-4f21-a52b-f02d6570f2c6"
      },
      "execution_count": 15,
      "outputs": [
        {
          "output_type": "stream",
          "name": "stdout",
          "text": [
            "True\n"
          ]
        }
      ]
    },
    {
      "cell_type": "code",
      "source": [
        "a = 'RRR movie has been released'\n",
        "print(a[0:4])"
      ],
      "metadata": {
        "colab": {
          "base_uri": "https://localhost:8080/"
        },
        "id": "F6N6uQeQ-W8r",
        "outputId": "c418eee5-945e-4bdf-eb6d-312b86196f1c"
      },
      "execution_count": 16,
      "outputs": [
        {
          "output_type": "stream",
          "name": "stdout",
          "text": [
            "RRR \n"
          ]
        }
      ]
    }
  ]
}