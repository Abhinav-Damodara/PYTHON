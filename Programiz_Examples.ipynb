{
  "nbformat": 4,
  "nbformat_minor": 0,
  "metadata": {
    "colab": {
      "name": "Programiz Examples.ipynb",
      "provenance": [],
      "authorship_tag": "ABX9TyMW2fQuLkizEKXGKVQ2oTO8",
      "include_colab_link": true
    },
    "kernelspec": {
      "name": "python3",
      "display_name": "Python 3"
    },
    "language_info": {
      "name": "python"
    }
  },
  "cells": [
    {
      "cell_type": "markdown",
      "metadata": {
        "id": "view-in-github",
        "colab_type": "text"
      },
      "source": [
        "<a href=\"https://colab.research.google.com/github/AbhinavGitam/Python/blob/main/Programiz_Examples.ipynb\" target=\"_parent\"><img src=\"https://colab.research.google.com/assets/colab-badge.svg\" alt=\"Open In Colab\"/></a>"
      ]
    },
    {
      "cell_type": "code",
      "source": [
        "def hello():\n",
        "  print(\"HELLO\")\n",
        "hello()\n",
        "hello()"
      ],
      "metadata": {
        "colab": {
          "base_uri": "https://localhost:8080/"
        },
        "id": "Q20jcTCtUaHJ",
        "outputId": "8c1d1d4a-0520-4c2c-bf37-e7b08b766064"
      },
      "execution_count": 48,
      "outputs": [
        {
          "output_type": "stream",
          "name": "stdout",
          "text": [
            "HELLO\n",
            "HELLO\n"
          ]
        }
      ]
    },
    {
      "cell_type": "code",
      "source": [
        "def my_function(fname):\n",
        "  print(fname + \" Refsnes\")\n",
        "\n",
        "my_function(\"Emil\")\n",
        "my_function(\"Tobias\")\n",
        "my_function(\"Linus\")"
      ],
      "metadata": {
        "colab": {
          "base_uri": "https://localhost:8080/"
        },
        "id": "0bv9eV7jXRx1",
        "outputId": "57d9ca4a-727c-4fd3-880f-53496b0185eb"
      },
      "execution_count": 49,
      "outputs": [
        {
          "output_type": "stream",
          "name": "stdout",
          "text": [
            "Emil Refsnes\n",
            "Tobias Refsnes\n",
            "Linus Refsnes\n"
          ]
        }
      ]
    },
    {
      "cell_type": "code",
      "source": [
        "def my_function(first_name, last_name):\n",
        "  print(last_name + \".\" + first_name)\n",
        "\n",
        "my_function(\"Abhinav\", \"Damodara\")"
      ],
      "metadata": {
        "colab": {
          "base_uri": "https://localhost:8080/"
        },
        "id": "zX-PvvGNYIs0",
        "outputId": "7d40e4ca-2879-4202-f7a4-4a24f739301d"
      },
      "execution_count": 50,
      "outputs": [
        {
          "output_type": "stream",
          "name": "stdout",
          "text": [
            "Damodara.Abhinav\n"
          ]
        }
      ]
    },
    {
      "cell_type": "code",
      "source": [
        "#def my_function(fname, lname):\n",
        "#  print(fname + \" \" + lname)\n",
        "#my_function(\"Emil\")\n",
        "\n",
        "# Error occurs as due to the declaration of two arguments\n",
        "#while it gets only a single value"
      ],
      "metadata": {
        "id": "OUvxAnP9YN1U"
      },
      "execution_count": 51,
      "outputs": []
    },
    {
      "cell_type": "code",
      "source": [
        "def function(*bikes):\n",
        "  print(\"the fastest bike is :\" + bikes[2])\n",
        "function(\"z900\",\"zx10r\",\"h2r\")"
      ],
      "metadata": {
        "colab": {
          "base_uri": "https://localhost:8080/"
        },
        "id": "f42Vg02aZ5tt",
        "outputId": "b62b00a0-03ae-42e5-d614-c0c808102aa0"
      },
      "execution_count": 52,
      "outputs": [
        {
          "output_type": "stream",
          "name": "stdout",
          "text": [
            "the fastest bike is :h2r\n"
          ]
        }
      ]
    },
    {
      "cell_type": "code",
      "source": [
        "def my_function(bike3 , bike1 , bike2):\n",
        "  print(\"The fastest bike is \" + bike3)\n",
        "\n",
        "my_function(bike1 = \"z900\", bike2 = \"zx10r\", bike3 = \"h2r\")"
      ],
      "metadata": {
        "colab": {
          "base_uri": "https://localhost:8080/"
        },
        "id": "0fAK404EbH2d",
        "outputId": "ac580e75-921b-4062-d49e-97b07f5945b6"
      },
      "execution_count": 53,
      "outputs": [
        {
          "output_type": "stream",
          "name": "stdout",
          "text": [
            "The fastest bike is h2r\n"
          ]
        }
      ]
    },
    {
      "cell_type": "code",
      "source": [
        "def my_function(**kid):\n",
        "  print(\"His last name is \" + kid[\"lname\"])\n",
        "\n",
        "my_function(fname = \"Tobias\", lname = \"Refsnes\")"
      ],
      "metadata": {
        "colab": {
          "base_uri": "https://localhost:8080/"
        },
        "id": "nqPTGWUldR21",
        "outputId": "3dd61eba-8a3f-4749-87ab-18a594ea65f0"
      },
      "execution_count": 54,
      "outputs": [
        {
          "output_type": "stream",
          "name": "stdout",
          "text": [
            "His last name is Refsnes\n"
          ]
        }
      ]
    },
    {
      "cell_type": "code",
      "source": [
        "def vote(age):\n",
        "  if(age > 18):\n",
        "    print(\"eligible to vote\")\n",
        "  else:\n",
        "    print(\"not eligible to vote\")\n",
        "vote(19)"
      ],
      "metadata": {
        "colab": {
          "base_uri": "https://localhost:8080/"
        },
        "id": "HaJ_XxeZd0R1",
        "outputId": "66b7e31d-9e58-4eaf-ee37-cd3ea11fc32a"
      },
      "execution_count": 55,
      "outputs": [
        {
          "output_type": "stream",
          "name": "stdout",
          "text": [
            "eligible to vote\n"
          ]
        }
      ]
    }
  ]
}