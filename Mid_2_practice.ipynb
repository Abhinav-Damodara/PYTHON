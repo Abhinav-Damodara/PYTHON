{
 "cells": [
  {
   "cell_type": "markdown",
   "metadata": {},
   "source": [
    "##### Print A Dictionary"
   ]
  },
  {
   "cell_type": "code",
   "execution_count": 9,
   "metadata": {},
   "outputs": [
    {
     "name": "stdout",
     "output_type": "stream",
     "text": [
      "{'university': 'Gitam', 'Age': 17, 'Program': 'B-Tech', 'class': 'CSE'}\n"
     ]
    }
   ],
   "source": [
    "abhinav = {\n",
    "    \"university\" : \"Gitam\",\n",
    "    \"Age\" : 17,\n",
    "    \"Program\" : \"B-Tech\",\n",
    "    \"class\" : \"CSE\"\n",
    "}\n",
    "print(abhinav)"
   ]
  },
  {
   "cell_type": "markdown",
   "metadata": {},
   "source": [
    "##### Dictionary Items"
   ]
  },
  {
   "cell_type": "code",
   "execution_count": 8,
   "metadata": {},
   "outputs": [
    {
     "name": "stdout",
     "output_type": "stream",
     "text": [
      "Gitam\n"
     ]
    }
   ],
   "source": [
    "abhinav = {\n",
    "    \"university\" : \"Gitam\",\n",
    "    \"Age\" : 17,\n",
    "    \"Program\" : \"B-Tech\",\n",
    "    \"class\" : \"CSE\"\n",
    "}\n",
    "print(abhinav[\"university\"])"
   ]
  },
  {
   "cell_type": "markdown",
   "metadata": {},
   "source": [
    "##### Duplicates Not Allowed"
   ]
  },
  {
   "cell_type": "code",
   "execution_count": 10,
   "metadata": {},
   "outputs": [
    {
     "name": "stdout",
     "output_type": "stream",
     "text": [
      "{'university': 'Gitam', 'Age': 18, 'Program': 'B-Tech', 'class': 'CSE'}\n"
     ]
    }
   ],
   "source": [
    "abhinav = {\n",
    "    \"university\" : \"Gitam\",\n",
    "    \"Age\" : 17,\n",
    "    \"Program\" : \"B-Tech\",\n",
    "    \"class\" : \"CSE\",\n",
    "    \"Age\" : 18\n",
    "}\n",
    "print(abhinav)\n",
    "\n",
    "#latest entry of the duplicated value is noted."
   ]
  },
  {
   "cell_type": "markdown",
   "metadata": {},
   "source": [
    "##### Length of the Dictionary"
   ]
  },
  {
   "cell_type": "code",
   "execution_count": 11,
   "metadata": {},
   "outputs": [
    {
     "name": "stdout",
     "output_type": "stream",
     "text": [
      "{'university': 'Gitam', 'Age': 18, 'Program': 'B-Tech', 'class': 'CSE'}\n",
      "4\n"
     ]
    }
   ],
   "source": [
    "abhinav = {\n",
    "    \"university\" : \"Gitam\",\n",
    "    \"Age\" : 17,\n",
    "    \"Program\" : \"B-Tech\",\n",
    "    \"class\" : \"CSE\",\n",
    "    \"Age\" : 18\n",
    "}\n",
    "print(abhinav)\n",
    "print(len(abhinav))\n",
    "\n",
    "# Doesnt consider the duplicate entries"
   ]
  },
  {
   "cell_type": "markdown",
   "metadata": {},
   "source": [
    "##### Data Types"
   ]
  },
  {
   "cell_type": "code",
   "execution_count": 15,
   "metadata": {},
   "outputs": [
    {
     "name": "stdout",
     "output_type": "stream",
     "text": [
      "{'brand': 'Ford', 'electric': False, 'year': 1964, 'colors': ['red', 'white', 'blue']}\n",
      "<class 'dict'>\n"
     ]
    }
   ],
   "source": [
    "abhinav = {\n",
    "  \"brand\": \"Ford\",\n",
    "  \"electric\": False,\n",
    "  \"year\": 1964,\n",
    "  \"colors\": [\"red\", \"white\", \"blue\"]\n",
    "}\n",
    "print(abhinav)\n",
    "print(type(abhinav))\n",
    "\n",
    "# A dictionary accepts all the datatypes."
   ]
  },
  {
   "cell_type": "markdown",
   "metadata": {},
   "source": [
    "##### Accessing an item"
   ]
  },
  {
   "cell_type": "code",
   "execution_count": 20,
   "metadata": {},
   "outputs": [
    {
     "name": "stdout",
     "output_type": "stream",
     "text": [
      "Gitam\n"
     ]
    }
   ],
   "source": [
    "abhinav = {\n",
    "    \"university\" : \"Gitam\",\n",
    "    \"Age\" : 17,\n",
    "    \"Program\" : \"B-Tech\",\n",
    "    \"class\" : \"CSE\"\n",
    "}\n",
    "abhi = abhinav.get(\"university\")\n",
    "print(abhi)"
   ]
  },
  {
   "cell_type": "markdown",
   "metadata": {},
   "source": [
    "##### To find all the keys or values in the program"
   ]
  },
  {
   "cell_type": "code",
   "execution_count": 24,
   "metadata": {},
   "outputs": [
    {
     "name": "stdout",
     "output_type": "stream",
     "text": [
      "Gitam\n",
      "dict_keys(['university', 'Age', 'Program', 'class'])\n",
      "dict_values(['Gitam', 17, 'B-Tech', 'CSE'])\n"
     ]
    }
   ],
   "source": [
    "abhinav = {\n",
    "    \"university\" : \"Gitam\",\n",
    "    \"Age\" : 17,\n",
    "    \"Program\" : \"B-Tech\",\n",
    "    \"class\" : \"CSE\"\n",
    "}\n",
    "abhi = abhinav.get(\"university\")\n",
    "x = abhinav.keys()\n",
    "y = abhinav.values()\n",
    "print(abhi)\n",
    "print(x)\n",
    "print(y)"
   ]
  },
  {
   "cell_type": "markdown",
   "metadata": {},
   "source": [
    "##### Adding Dictionary Items in Between"
   ]
  },
  {
   "cell_type": "code",
   "execution_count": 26,
   "metadata": {},
   "outputs": [
    {
     "name": "stdout",
     "output_type": "stream",
     "text": [
      "Before The Change\n",
      "{'university': 'Gitam', 'Age': 17, 'Program': 'B-Tech', 'class': 'CSE'}\n",
      "After The Change\n",
      "{'university': 'Gitam', 'Age': 17, 'Program': 'B-Tech', 'class': 'CSE', 'SUbject': 'Computers'}\n"
     ]
    }
   ],
   "source": [
    "abhinav = {\n",
    "    \"university\" : \"Gitam\",\n",
    "    \"Age\" : 17,\n",
    "    \"Program\" : \"B-Tech\",\n",
    "    \"class\" : \"CSE\"\n",
    "}\n",
    "print(\"Before The Change\")\n",
    "print(abhinav)\n",
    "print(\"After The Change\")\n",
    "abhinav[\"SUbject\"] = \"Computers\"\n",
    "print(abhinav)"
   ]
  },
  {
   "cell_type": "markdown",
   "metadata": {},
   "source": [
    "##### Printing the item in the dictionary"
   ]
  },
  {
   "cell_type": "code",
   "execution_count": 27,
   "metadata": {},
   "outputs": [
    {
     "name": "stdout",
     "output_type": "stream",
     "text": [
      "dict_items([('university', 'Gitam'), ('Age', 17), ('Program', 'B-Tech'), ('class', 'CSE')])\n",
      "{'university': 'Gitam', 'Age': 17, 'Program': 'B-Tech', 'class': 'CSE'}\n"
     ]
    }
   ],
   "source": [
    "abhinav = {\n",
    "    \"university\" : \"Gitam\",\n",
    "    \"Age\" : 17,\n",
    "    \"Program\" : \"B-Tech\",\n",
    "    \"class\" : \"CSE\"\n",
    "}\n",
    "x = abhinav.items()\n",
    "print(x)\n",
    "print(abhinav)"
   ]
  },
  {
   "cell_type": "markdown",
   "metadata": {},
   "source": [
    "##### Updating the items in the dictionary"
   ]
  },
  {
   "cell_type": "code",
   "execution_count": 28,
   "metadata": {},
   "outputs": [
    {
     "name": "stdout",
     "output_type": "stream",
     "text": [
      "{'university': 'Gitam', 'Age': 18, 'Program': 'B-Tech', 'class': 'CSE'}\n"
     ]
    }
   ],
   "source": [
    "abhinav = {\n",
    "    \"university\" : \"Gitam\",\n",
    "    \"Age\" : 17,\n",
    "    \"Program\" : \"B-Tech\",\n",
    "    \"class\" : \"CSE\"\n",
    "}\n",
    "abhinav.update({\"Age\" : 18})\n",
    "print(abhinav)"
   ]
  },
  {
   "cell_type": "code",
   "execution_count": null,
   "metadata": {},
   "outputs": [],
   "source": [
    "import unittest\n",
    "\n",
    "def get_sentiment_count(filename, sentiment_type):\n",
    "  sentiment_words = {\n",
    "    \"negative\":[\"aggressive\",\"hostile\",\"bad\",\"against\",\"rediculous\",\"targeted\",\"offended\",\"offend\",\"force\",\"forceful\",\"forcefully\",\"annoyed\",\"foolish\",\"illogical\",\"cheos\"],\n",
    "    \"positive\": [\"adore\",\"good\",\"excellent\",\"beloved\",\"benevolent\",\"developed\",\"pride\",\"proud\",\"celebratory\",\"optimistic\",\"cheery\"]\n",
    "  }\n",
    "  count = 0\n",
    "  list_1 = []\n",
    "  with open(filename) as f:\n",
    "    df = f.read()\n",
    "    lst = df.split(\" \")\n",
    "\n",
    "\n",
    "  for i in lst:\n",
    "        if i in sentiment_words[sentiment_type]:\n",
    "              count+=1\n",
    "  return count"
   ]
  },
  {
   "cell_type": "code",
   "execution_count": null,
   "metadata": {},
   "outputs": [],
   "source": [
    "import unittest\n",
    "def bbc_articles(filenames, search_key):\n",
    "      list_1 = []\n",
    "      for file in filenames:\n",
    "            with open (file) as f:\n",
    "              df = f.read()\n",
    "              lst = df.split(\" \")\n",
    "            for i in lst:\n",
    "                  if i == search_key:\n",
    "                        if file not in list_1:\n",
    "                              list_1.append(file)\n",
    "                              \n",
    "\n",
    "\n",
    "      return list_1"
   ]
  },
  {
   "cell_type": "code",
   "execution_count": null,
   "metadata": {},
   "outputs": [],
   "source": [
    "import unittest\n",
    "\n",
    "def sentiment_analysis(filename):\n",
    "  sentiment_words = {\"positive\":[\"good\",\"excellent\",\"happy\",\"positive\",\"respect\",\"respectful\",\"respected\",\"nice\",\"constructive\"], \"negative\": [\"bad\",\"worse\",\"worsening\",\"worsened\",\"disrespect\",\"ugly\",\"down\",\"vulnerability\",\"vulnerable\",\"disastrous\",\"destructive\"]}\n",
    "  count_1 = 0\n",
    "  count_2 = 0\n",
    "  with open(filename) as f:\n",
    "    df = f.read()\n",
    "    lst = df.split(\" \")\n",
    "  for i in lst:\n",
    "        if i in sentiment_words[\"positive\"]:\n",
    "              count_1 +=1\n",
    "        if i in sentiment_words[\"negative\"]:\n",
    "              count_2+=1\n",
    "  #positive\n",
    "  res = count_1-count_2\n",
    "  res1 = count_2-count_1\n",
    "  if count_1>count_2 and res>2:\n",
    "        return \"positive comment\"\n",
    "  elif count_2>count_1 and res1>2:\n",
    "        return \"negative comment\"\n",
    "  else:\n",
    "        return \"neutral comment\""
   ]
  }
 ],
 "metadata": {
  "interpreter": {
   "hash": "bab1961f13d988cd79cc0f97465e234182f95082ef6fd3963def7728125b7dac"
  },
  "kernelspec": {
   "display_name": "Python 3.10.4 64-bit",
   "language": "python",
   "name": "python3"
  },
  "language_info": {
   "codemirror_mode": {
    "name": "ipython",
    "version": 3
   },
   "file_extension": ".py",
   "mimetype": "text/x-python",
   "name": "python",
   "nbconvert_exporter": "python",
   "pygments_lexer": "ipython3",
   "version": "3.10.4"
  },
  "orig_nbformat": 4
 },
 "nbformat": 4,
 "nbformat_minor": 2
}
