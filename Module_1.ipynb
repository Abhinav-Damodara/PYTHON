{
  "cells": [
    {
      "cell_type": "markdown",
      "metadata": {
        "id": "Ff0KvyhJS5H8"
      },
      "source": [
        "#### Accept input from user and store it in variable and print the value."
      ]
    },
    {
      "cell_type": "code",
      "execution_count": 1,
      "metadata": {
        "colab": {
          "base_uri": "https://localhost:8080/"
        },
        "id": "ZXIjO9SVShC3",
        "outputId": "4b309fc4-feb1-4cd4-d0cc-f194372ab6de"
      },
      "outputs": [
        {
          "name": "stdout",
          "output_type": "stream",
          "text": [
            "10\n"
          ]
        }
      ],
      "source": [
        "a = int(input(\"enter a value\"))\n",
        "print(a)"
      ]
    },
    {
      "cell_type": "markdown",
      "metadata": {
        "id": "GuYjtHmeTysY"
      },
      "source": [
        "#### Use of print statements and use of (.format )for printing different data types."
      ]
    },
    {
      "cell_type": "code",
      "execution_count": 2,
      "metadata": {
        "colab": {
          "base_uri": "https://localhost:8080/"
        },
        "id": "IpTE6joxT1Ly",
        "outputId": "3bc8475d-87e3-4a63-bd3c-a88e102ea980"
      },
      "outputs": [
        {
          "name": "stdout",
          "output_type": "stream",
          "text": [
            "My name is abhinav and I'm 18\n"
          ]
        }
      ],
      "source": [
        "abhinav = \"My name is {0} and I'm {1}\"\n",
        "print(abhinav.format(\"abhinav\",18))"
      ]
    },
    {
      "cell_type": "markdown",
      "metadata": {
        "id": "jsS-Ht0IZrzQ"
      },
      "source": [
        "#### Conversion of one unit to another"
      ]
    },
    {
      "cell_type": "code",
      "execution_count": 3,
      "metadata": {
        "colab": {
          "base_uri": "https://localhost:8080/"
        },
        "id": "J-gj_8yXZtL_",
        "outputId": "39b18527-4881-4194-e31c-f0324e4b04c1"
      },
      "outputs": [
        {
          "name": "stdout",
          "output_type": "stream",
          "text": [
            "1200  Minutes\n",
            "30000 Meters\n"
          ]
        }
      ],
      "source": [
        "hours = int(input(\"Please enter hours:\"))\n",
        "minutes = hours * 60\n",
        "print (minutes, \" Minutes\")\n",
        "KM = int(input(\"Enter the dist in KM\"))\n",
        "meter = KM * 1000\n",
        "print (meter, \"Meters\")"
      ]
    },
    {
      "cell_type": "markdown",
      "metadata": {
        "id": "I2M_b9VHYIpK"
      },
      "source": [
        "#### Take 2 numbers as user input and add, multiply, divide, subtract, remainder and print the output"
      ]
    },
    {
      "cell_type": "code",
      "execution_count": 4,
      "metadata": {
        "colab": {
          "base_uri": "https://localhost:8080/"
        },
        "id": "QXvR0SPiYMrB",
        "outputId": "798acdf7-d8fd-4ddd-fb07-c0c001c26f45"
      },
      "outputs": [
        {
          "name": "stdout",
          "output_type": "stream",
          "text": [
            "80 is the addition of the two\n",
            "-20 id the substraction of the two\n",
            "1500 is the multiplication of the two\n",
            "0.6 is the division of the two\n",
            "30 is the remainder of the two\n"
          ]
        }
      ],
      "source": [
        "a = 30\n",
        "b = 50\n",
        "add = a+b\n",
        "sub = a-b\n",
        "mul = a*b\n",
        "div = a/b\n",
        "rem = a%b\n",
        "print(add,\"is the addition of the two\")\n",
        "print(sub,\"id the substraction of the two\")\n",
        "print(mul,\"is the multiplication of the two\")\n",
        "print(div,\"is the division of the two\")\n",
        "print(rem,\"is the remainder of the two\")"
      ]
    },
    {
      "cell_type": "markdown",
      "metadata": {
        "id": "g6FP_Awi3sBL"
      },
      "source": [
        "#### Accepting 5 different subject marks from user and displaying the grade of the student"
      ]
    },
    {
      "cell_type": "code",
      "execution_count": 5,
      "metadata": {
        "colab": {
          "base_uri": "https://localhost:8080/"
        },
        "id": "lSl0omMm3scu",
        "outputId": "b455ae30-61f1-47bb-be92-e7073ee8a001"
      },
      "outputs": [
        {
          "name": "stdout",
          "output_type": "stream",
          "text": [
            "Grade: A\n"
          ]
        }
      ],
      "source": [
        "math=int(input(\"Enter marks of the math subject: \"))\n",
        "phy=int(input(\"Enter marks of the phy subject: \"))\n",
        "chem=int(input(\"Enter marks of the chem subject: \"))\n",
        "beee=int(input(\"Enter marks of the beee subject: \"))\n",
        "evpr=int(input(\"Enter marks of the evpr subject: \"))\n",
        "per=((math+phy+chem+beee+evpr)/500)*100\n",
        "if(per>=90):\n",
        "    print(\"Grade: A\")\n",
        "elif(per>=80 and per<90):\n",
        "    print(\"Grade: B\")\n",
        "elif(per>=70 and per<80):\n",
        "    print(\"Grade: C\")\n",
        "elif(per>=60 and per<70):\n",
        "    print(\"Grade: D\")\n",
        "else:\n",
        "    print(\"Grade: F\")"
      ]
    },
    {
      "cell_type": "markdown",
      "metadata": {
        "id": "pw5ccCnGhyoI"
      },
      "source": [
        "#### Calculator"
      ]
    },
    {
      "cell_type": "code",
      "execution_count": 6,
      "metadata": {
        "colab": {
          "base_uri": "https://localhost:8080/"
        },
        "id": "ZMDisL6Yi-3v",
        "outputId": "948766a8-b713-42ad-c985-36326db0a398"
      },
      "outputs": [
        {
          "name": "stdout",
          "output_type": "stream",
          "text": [
            "Select operation.\n",
            "1.Add\n",
            "2.Subtract\n",
            "3.Multiply\n",
            "4.Divide\n",
            "Invalid Input\n",
            "Invalid Input\n",
            "Invalid Input\n",
            "Invalid Input\n",
            "100.0 / 200.0 = 0.5\n"
          ]
        }
      ],
      "source": [
        "def add(x, y):\n",
        "    return x + y\n",
        "def subtract(x, y):\n",
        "    return x - y\n",
        "def multiply(x, y):\n",
        "    return x * y\n",
        "def divide(x, y):\n",
        "    return x / y\n",
        "\n",
        "print(\"Select operation.\")\n",
        "print(\"1.Add\")\n",
        "print(\"2.Subtract\")\n",
        "print(\"3.Multiply\")\n",
        "print(\"4.Divide\")\n",
        "\n",
        "while True:\n",
        "    choice = input(\"Enter choice(1/2/3/4): \")\n",
        "    if choice in ('1', '2', '3', '4'):\n",
        "        num1 = float(input(\"Enter first number: \"))\n",
        "        num2 = float(input(\"Enter second number: \"))\n",
        "\n",
        "        if choice == '1':\n",
        "            print(num1, \"+\", num2, \"=\", add(num1, num2))\n",
        "\n",
        "        elif choice == '2':\n",
        "            print(num1, \"-\", num2, \"=\", subtract(num1, num2))\n",
        "\n",
        "        elif choice == '3':\n",
        "            print(num1, \"*\", num2, \"=\", multiply(num1, num2))\n",
        "\n",
        "        elif choice == '4':\n",
        "            print(num1, \"/\", num2, \"=\", divide(num1, num2))\n",
        "        next_calculation = input(\"Let's do next calculation? (y/n): \")\n",
        "        if next_calculation == \"n\":\n",
        "          break\n",
        "    else:\n",
        "        print(\"Invalid Input\")"
      ]
    },
    {
      "cell_type": "markdown",
      "metadata": {
        "id": "Lu3w6KGc42wD"
      },
      "source": [
        "#### Printing all even numbers, odd numbers, count of even numbers, count of odd numbers within a given range"
      ]
    },
    {
      "cell_type": "code",
      "execution_count": 7,
      "metadata": {
        "colab": {
          "base_uri": "https://localhost:8080/"
        },
        "id": "W6M6qLyc4aJH",
        "outputId": "5da472c4-fb7d-4dec-90ae-4e78f77e423f"
      },
      "outputs": [
        {
          "name": "stdout",
          "output_type": "stream",
          "text": [
            "Total even nums in the range 20 to 30 is 6 and nums are [20, 22, 24, 26, 28, 30]\n",
            "Total odd nums in the range 20 to 30 is 5 and nums are [21, 23, 25, 27, 29]\n"
          ]
        }
      ],
      "source": [
        "even_count, odd_count = 0, 0\n",
        "even_list = []\n",
        "odd_list = []\n",
        "n = int(input(\"Enter the starting num of range: \"))\n",
        "m = int(input(\"Enter the ending num of range: \"))\n",
        "# Using for loop\n",
        "for i in range(n,m+1):\n",
        "    if i % 2 == 0:\n",
        "        even_count += 1\n",
        "        even_list.append(i)\n",
        "    else:\n",
        "        odd_count += 1\n",
        "        odd_list.append(i)\n",
        "print(\"Total even nums in the range {0} to {1} is {2}\".format(n, m,even_count), \"and nums are\", even_list)\n",
        "print(\"Total odd nums in the range {0} to {1} is {2}\".format(n,m,odd_count), \"and nums are\", odd_list)"
      ]
    },
    {
      "cell_type": "markdown",
      "metadata": {
        "id": "uM1xkWNy5lHz"
      },
      "source": [
        "#### Check whether the number is palindrome or not"
      ]
    },
    {
      "cell_type": "code",
      "execution_count": 8,
      "metadata": {
        "colab": {
          "base_uri": "https://localhost:8080/"
        },
        "id": "KYAWUqkT5FLn",
        "outputId": "a27a6b66-001a-48ee-a92e-c37a05defcc9"
      },
      "outputs": [
        {
          "name": "stdout",
          "output_type": "stream",
          "text": [
            "palindrome\n"
          ]
        }
      ],
      "source": [
        "x=int(input(\"enter x value: \"))\n",
        "rev=0\n",
        "temp=x\n",
        "while temp>0:\n",
        "  rem=temp%10\n",
        "  rev=(rev*10)+rem\n",
        "  temp=temp//10\n",
        "if x==rev:\n",
        "  print(\"palindrome\")\n",
        "else:\n",
        "  print(\"not a plaindrome\")"
      ]
    },
    {
      "cell_type": "markdown",
      "metadata": {
        "id": "i_izOczIoq3H"
      },
      "source": [
        "#### Usage of mathematical functions in python like math.ceil, floor, fabs, fmod, trunc, pow, sqrt etc"
      ]
    },
    {
      "cell_type": "code",
      "execution_count": 9,
      "metadata": {
        "colab": {
          "base_uri": "https://localhost:8080/"
        },
        "id": "VjvBAs-Jov1-",
        "outputId": "9fdc23e6-d1f2-4b0b-ff4a-f45ea338861a"
      },
      "outputs": [
        {
          "name": "stdout",
          "output_type": "stream",
          "text": [
            "69\n",
            "68\n",
            "68.69\n",
            "0.6899999999999977\n",
            "68\n",
            "4718.3161\n"
          ]
        }
      ],
      "source": [
        "import math\n",
        "num = 68.69\n",
        "print(math.ceil(num))\n",
        "print(math.floor(num))\n",
        "print(math.fabs(num))\n",
        "print(math.fmod(num,1))\n",
        "print(math.trunc(num))\n",
        "print(math.pow(num,2))\n",
        "#print(math.sqrt(num))"
      ]
    },
    {
      "cell_type": "markdown",
      "metadata": {
        "id": "-rD0xymU5pyG"
      },
      "source": [
        "#### Finding simple and compound intrest"
      ]
    },
    {
      "cell_type": "code",
      "execution_count": 11,
      "metadata": {
        "colab": {
          "base_uri": "https://localhost:8080/"
        },
        "id": "-3BHycJ85wzK",
        "outputId": "a167220c-b359-48a0-9c83-0e37fcade332"
      },
      "outputs": [
        {
          "name": "stdout",
          "output_type": "stream",
          "text": [
            "20 yr interst ci is  3800.9927549761624\n",
            "20 yr interst si is  120.0\n"
          ]
        }
      ],
      "source": [
        "import math\n",
        "p=int(input(\"enter the principal amount\"))\n",
        "r=int(input(\"enter the intrest amount\"))\n",
        "t=int(input(\"amount of years\"))\n",
        "for i in range(1,t+1):\n",
        "  si=(p*i*r)/100\n",
        "  ci=p*(math.pow(1+r/100,i))\n",
        "print(i,\"yr interst ci is \",ci)\n",
        "print(i,\"yr interst si is \",si)"
      ]
    },
    {
      "cell_type": "markdown",
      "metadata": {
        "id": "W2RRCk239dlp"
      },
      "source": [
        "#### Printing all even numbers, odd numbers"
      ]
    },
    {
      "cell_type": "code",
      "execution_count": 12,
      "metadata": {
        "id": "z_Nnae9U9K84"
      },
      "outputs": [
        {
          "name": "stdout",
          "output_type": "stream",
          "text": [
            "even numbers are 20\n",
            "odd numbers are  21\n",
            "even numbers are 22\n",
            "odd numbers are  23\n",
            "even numbers are 24\n",
            "odd numbers are  25\n",
            "even numbers are 26\n",
            "odd numbers are  27\n",
            "even numbers are 28\n",
            "odd numbers are  29\n"
          ]
        }
      ],
      "source": [
        "x=int(input(\"enter the first number in the range: \"))\n",
        "y=int(input(\"enter the second number in the range: \"))\n",
        "for i in range(x,y):\n",
        "  if i%2==0:\n",
        "    print(\"even numbers are\",i)\n",
        "  else:\n",
        "    print(\"odd numbers are \",i)"
      ]
    },
    {
      "cell_type": "markdown",
      "metadata": {
        "id": "5ZS48iVb--Ec"
      },
      "source": [
        "\n",
        "#### Strong Number"
      ]
    },
    {
      "cell_type": "code",
      "execution_count": 13,
      "metadata": {
        "id": "h6zcJMCg-BjJ"
      },
      "outputs": [
        {
          "name": "stdout",
          "output_type": "stream",
          "text": [
            "Factorial of 0 = 1\n",
            "Factorial of 2 = 2\n",
            "\n",
            " Sum of Factorials of a Given Number 20 = 3\n",
            " The given number is not a Strong Number\n"
          ]
        }
      ],
      "source": [
        "a = int(input(\" Enter the Number:\"))\n",
        "sum = 0\n",
        "temp = a\n",
        "while(temp > 0):\n",
        "    factorial = 1\n",
        "    rem = temp % 10\n",
        "    for i in range(1, rem + 1):\n",
        "        factorial = factorial * i\n",
        "    print(\"Factorial of %d = %d\" %(rem, factorial))\n",
        "    sum = sum + factorial\n",
        "    temp = temp // 10\n",
        "print(\"\\n Sum of Factorials of a Given Number %d = %d\" %(a, sum))\n",
        "if (sum == a):\n",
        "    print(\" The given number is a Strong Number\")\n",
        "else:\n",
        "    print(\" The given number is not a Strong Number\")"
      ]
    },
    {
      "cell_type": "markdown",
      "metadata": {
        "id": "Zejml2Ap_6IW"
      },
      "source": [
        "#### Perfect Number"
      ]
    },
    {
      "cell_type": "code",
      "execution_count": 14,
      "metadata": {
        "id": "wpxooc41_fIb"
      },
      "outputs": [
        {
          "name": "stdout",
          "output_type": "stream",
          "text": [
            "not a perfect number\n"
          ]
        }
      ],
      "source": [
        "a = int(input(\"Enter the number: \"))\n",
        "sum = 0\n",
        "for i in range( 1 , a ):\n",
        "    if (a % i == 0):\n",
        "        sum = sum + i\n",
        "if(sum == num):\n",
        "    print(\"perfect number\")\n",
        "else:\n",
        "    print(\"not a perfect number\")"
      ]
    }
  ],
  "metadata": {
    "colab": {
      "collapsed_sections": [],
      "name": "Module 1 - assignment .ipynb",
      "provenance": []
    },
    "interpreter": {
      "hash": "a24103e60a708e2e24dfec4ce948bd34ffa43c8d8e1954c309f8b6a4a9649f0b"
    },
    "kernelspec": {
      "display_name": "Python 3.9.7 ('base')",
      "language": "python",
      "name": "python3"
    },
    "language_info": {
      "codemirror_mode": {
        "name": "ipython",
        "version": 3
      },
      "file_extension": ".py",
      "mimetype": "text/x-python",
      "name": "python",
      "nbconvert_exporter": "python",
      "pygments_lexer": "ipython3",
      "version": "3.9.7"
    }
  },
  "nbformat": 4,
  "nbformat_minor": 0
}
