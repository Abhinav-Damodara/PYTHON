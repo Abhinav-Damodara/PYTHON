{
  "cells": [
    {
      "cell_type": "markdown",
      "metadata": {
        "id": "DBIKh26h7ZeH"
      },
      "source": [
        "# String"
      ]
    },
    {
      "cell_type": "code",
      "execution_count": 7,
      "metadata": {
        "colab": {
          "base_uri": "https://localhost:8080/"
        },
        "id": "HZCQZBcR6yW6",
        "outputId": "75e3e65d-8aa0-4081-92a1-43e0456a4ec4"
      },
      "outputs": [
        {
          "name": "stdout",
          "output_type": "stream",
          "text": [
            "Abhinav\n",
            "<class 'str'>\n",
            "A\n"
          ]
        }
      ],
      "source": [
        "name = 'Abhinav'\n",
        "print(name)\n",
        "print(type(name))\n",
        "print(name[0])"
      ]
    },
    {
      "cell_type": "code",
      "execution_count": 8,
      "metadata": {},
      "outputs": [
        {
          "name": "stdout",
          "output_type": "stream",
          "text": [
            "hello\n"
          ]
        }
      ],
      "source": [
        "print(\"hello\")"
      ]
    },
    {
      "cell_type": "code",
      "execution_count": 9,
      "metadata": {
        "colab": {
          "base_uri": "https://localhost:8080/"
        },
        "id": "diMwtQX_8RuE",
        "outputId": "89c2c9b1-4c48-40d7-d7cb-eace5fc97320"
      },
      "outputs": [
        {
          "name": "stdout",
          "output_type": "stream",
          "text": [
            "Hello Abhinav\n",
            "<class 'str'>\n",
            "13\n"
          ]
        }
      ],
      "source": [
        "a = 'Hello Abhinav'\n",
        "print(a)\n",
        "print(type(a))\n",
        "print(len(a))"
      ]
    },
    {
      "cell_type": "code",
      "execution_count": 10,
      "metadata": {
        "colab": {
          "base_uri": "https://localhost:8080/"
        },
        "id": "BWzsJQ5Z8tus",
        "outputId": "90c7128c-8950-4f21-a52b-f02d6570f2c6"
      },
      "outputs": [
        {
          "name": "stdout",
          "output_type": "stream",
          "text": [
            "True\n"
          ]
        }
      ],
      "source": [
        "a = 'RRR movie has been released'\n",
        "print('RRR' in a)"
      ]
    },
    {
      "cell_type": "code",
      "execution_count": 11,
      "metadata": {
        "colab": {
          "base_uri": "https://localhost:8080/"
        },
        "id": "F6N6uQeQ-W8r",
        "outputId": "c418eee5-945e-4bdf-eb6d-312b86196f1c"
      },
      "outputs": [
        {
          "name": "stdout",
          "output_type": "stream",
          "text": [
            "RRR \n"
          ]
        }
      ],
      "source": [
        "a = 'RRR movie has been released'\n",
        "print(a[0:4])"
      ]
    },
    {
      "cell_type": "code",
      "execution_count": 12,
      "metadata": {
        "colab": {
          "base_uri": "https://localhost:8080/"
        },
        "id": "GB8JOEDmYrwZ",
        "outputId": "d86075c9-a046-4c35-bde9-58ebc421cb83"
      },
      "outputs": [
        {
          "name": "stdout",
          "output_type": "stream",
          "text": [
            "RRR MOVIE HAS BEEN RELEASED\n",
            "rrr movie has been released\n"
          ]
        }
      ],
      "source": [
        "a = 'RRR movie has been released'\n",
        "print(a.upper())\n",
        "print(a.lower())"
      ]
    },
    {
      "cell_type": "markdown",
      "metadata": {
        "id": "lowLgUXVagXB"
      },
      "source": [
        "#### Remove White spaces"
      ]
    },
    {
      "cell_type": "code",
      "execution_count": 13,
      "metadata": {
        "colab": {
          "base_uri": "https://localhost:8080/"
        },
        "id": "tjM6QOS8ZvY4",
        "outputId": "e9c2fc64-5219-4fe3-fb44-d840e04bf3e0"
      },
      "outputs": [
        {
          "name": "stdout",
          "output_type": "stream",
          "text": [
            "RRR movie has been released\n",
            "    RRR movie has been released   \n"
          ]
        }
      ],
      "source": [
        "a = '    RRR movie has been released   '\n",
        "print(a.strip())\n",
        "print(a)"
      ]
    },
    {
      "cell_type": "markdown",
      "metadata": {
        "id": "hmhVxKMOaj1I"
      },
      "source": [
        "#### Replace"
      ]
    },
    {
      "cell_type": "code",
      "execution_count": 14,
      "metadata": {
        "colab": {
          "base_uri": "https://localhost:8080/"
        },
        "id": "Tjbri8JWamd3",
        "outputId": "5542574b-9776-4021-c5ae-6f1ed5522fae"
      },
      "outputs": [
        {
          "name": "stdout",
          "output_type": "stream",
          "text": [
            "Radhe Shyam will release in ott this april\n"
          ]
        }
      ],
      "source": [
        "a = 'RRR will release in ott this april'\n",
        "print(a.replace(\"RRR\", \"Radhe Shyam\"))"
      ]
    },
    {
      "cell_type": "markdown",
      "metadata": {
        "id": "M1v4gOD9cVLB"
      },
      "source": [
        "#### Split"
      ]
    },
    {
      "cell_type": "code",
      "execution_count": 15,
      "metadata": {
        "colab": {
          "base_uri": "https://localhost:8080/"
        },
        "id": "OAZfvljQcWfB",
        "outputId": "69074933-ff31-43e2-d058-ab8d241ae4cc"
      },
      "outputs": [
        {
          "name": "stdout",
          "output_type": "stream",
          "text": [
            "['RRR', 'will', 'release', 'in', 'ott', 'this', 'april']\n",
            " \n",
            "['RRR will release in ott', ' this april']\n"
          ]
        }
      ],
      "source": [
        "a = 'RRR will release in ott this april'\n",
        "print(a.split())\n",
        "\n",
        "print(\" \")\n",
        "\n",
        "a = 'RRR will release in ott, this april'\n",
        "print(a.split(','))"
      ]
    },
    {
      "cell_type": "markdown",
      "metadata": {
        "id": "LWMYmYdGd72o"
      },
      "source": [
        "#### Concatenation"
      ]
    },
    {
      "cell_type": "code",
      "execution_count": 16,
      "metadata": {
        "colab": {
          "base_uri": "https://localhost:8080/"
        },
        "id": "H0HZYC7Md-pv",
        "outputId": "4c8b2584-5833-4c94-946b-e03b313abe76"
      },
      "outputs": [
        {
          "name": "stdout",
          "output_type": "stream",
          "text": [
            "123 Vizag\n",
            "Hello Vizag\n"
          ]
        }
      ],
      "source": [
        "a = \"123\"\n",
        "b = \"Vizag\"\n",
        "c = a + ' ' + b\n",
        "print(c)\n",
        "\n",
        "a = \"Hello\"\n",
        "b = \"Vizag\"\n",
        "c = a + \" \" + b\n",
        "print(c)"
      ]
    },
    {
      "cell_type": "code",
      "execution_count": 17,
      "metadata": {
        "colab": {
          "base_uri": "https://localhost:8080/"
        },
        "id": "RkIsPf0Xfh-o",
        "outputId": "28ea8a35-ce7d-4d1d-ac0f-aaede288ba48"
      },
      "outputs": [
        {
          "name": "stdout",
          "output_type": "stream",
          "text": [
            "Lorem ipsum dolor sit amet,\n",
            "consectetur adipiscing elit,\n",
            "sed do eiusmod\n",
            "tempor,\n",
            "incididunt ut labore e,\n",
            "dolore magna aliqua.\n"
          ]
        }
      ],
      "source": [
        "a = \"\"\"Lorem ipsum dolor sit amet,\n",
        "consectetur adipiscing elit,\n",
        "sed do eiusmod\n",
        "tempor,\n",
        "incididunt ut labore e,\n",
        "dolore magna aliqua.\"\"\"\n",
        "print(a)"
      ]
    },
    {
      "cell_type": "markdown",
      "metadata": {
        "id": "q-qAy3yAi9x4"
      },
      "source": [
        "#### Format Strings"
      ]
    },
    {
      "cell_type": "code",
      "execution_count": 18,
      "metadata": {
        "colab": {
          "base_uri": "https://localhost:8080/"
        },
        "id": "SXMyuBbbjEJz",
        "outputId": "53914a45-ea08-454e-a664-cd232b2b2096"
      },
      "outputs": [
        {
          "name": "stdout",
          "output_type": "stream",
          "text": [
            "I want 3 pieces of item puppy for 4999 dollars each.\n",
            "the total amount is 14997\n"
          ]
        }
      ],
      "source": [
        "quantity = 3\n",
        "itemno = \"puppy\"\n",
        "price = 4999\n",
        "myorder = \"I want {} pieces of item {} for {} dollars each.\"\n",
        "print(myorder.format(quantity, itemno, price))\n",
        "print('the total amount is', quantity*price)"
      ]
    },
    {
      "cell_type": "code",
      "execution_count": 19,
      "metadata": {
        "colab": {
          "base_uri": "https://localhost:8080/"
        },
        "id": "QR1oPdfylOyR",
        "outputId": "290c519f-1d05-43b2-ee65-69b0a138b3ad"
      },
      "outputs": [
        {
          "name": "stdout",
          "output_type": "stream",
          "text": [
            "I want 3 pieces of item puppy for 4999 dollars each.\n",
            "you need to pay a total of 14997 for your order\n"
          ]
        }
      ],
      "source": [
        "quantity = 3\n",
        "itemno = \"puppy\"\n",
        "price = 4999\n",
        "myorder = \"I want {} pieces of item {} for {} dollars each.\"\n",
        "print(myorder.format(quantity, itemno, price))\n",
        "amount = 'you need to pay a total of {0} for your order'\n",
        "print(amount.format(quantity*price))"
      ]
    },
    {
      "cell_type": "code",
      "execution_count": 20,
      "metadata": {
        "colab": {
          "base_uri": "https://localhost:8080/"
        },
        "id": "Lrj2V8cejWP3",
        "outputId": "60860822-86cf-49ea-eaa3-fc6755799eab"
      },
      "outputs": [
        {
          "name": "stdout",
          "output_type": "stream",
          "text": [
            "My name is Abhinav, and I am  years old\n"
          ]
        }
      ],
      "source": [
        "age = input('Enter Your Age')\n",
        "txt = \"My name is Abhinav, and I am {} years old\"\n",
        "print(txt.format(age))"
      ]
    },
    {
      "cell_type": "code",
      "execution_count": 22,
      "metadata": {
        "colab": {
          "base_uri": "https://localhost:8080/"
        },
        "id": "8xVFxXD_lsf_",
        "outputId": "2e237b8f-db03-477f-837d-35bb6df801b8"
      },
      "outputs": [
        {
          "name": "stdout",
          "output_type": "stream",
          "text": [
            " \n",
            "Maths Marks are 20\n",
            "CSE Marks are 30\n",
            "Chemistry Marks are 30\n",
            "BEEE Marks are 30\n",
            "The total marks are 110\n"
          ]
        }
      ],
      "source": [
        "a = int(input('Enter Maths Marks'))\n",
        "b = int(input('Enter CSE Marks'))\n",
        "c = int(input('Enter Chemistry Marks'))\n",
        "d = int(input('Enter BEEE Marks'))\n",
        "\n",
        "print(' ')\n",
        "\n",
        "marks = ('Maths Marks are {}\\n' 'CSE Marks are {}\\n' 'Chemistry Marks are {}\\n' 'BEEE Marks are {}')\n",
        "print(marks.format(a,b,c,d))\n",
        "total = \"The total marks are {}\"\n",
        "print(total.format(a+b+c+d))"
      ]
    },
    {
      "cell_type": "markdown",
      "metadata": {
        "id": "UnxKTVrurVx-"
      },
      "source": [
        "#### capitalise"
      ]
    },
    {
      "cell_type": "code",
      "execution_count": null,
      "metadata": {
        "colab": {
          "base_uri": "https://localhost:8080/"
        },
        "id": "ri7rG9SvrRGf",
        "outputId": "03e36390-aed1-4ab5-ca69-f92b128af906"
      },
      "outputs": [
        {
          "name": "stdout",
          "output_type": "stream",
          "text": [
            "Abhinav\n"
          ]
        }
      ],
      "source": [
        "a = \"abhinav\"\n",
        "b = a.capitalize()\n",
        "print(b)"
      ]
    }
  ],
  "metadata": {
    "colab": {
      "name": "Strings",
      "provenance": []
    },
    "kernelspec": {
      "display_name": "Python 3",
      "name": "python3"
    },
    "language_info": {
      "codemirror_mode": {
        "name": "ipython",
        "version": 3
      },
      "file_extension": ".py",
      "mimetype": "text/x-python",
      "name": "python",
      "nbconvert_exporter": "python",
      "pygments_lexer": "ipython3",
      "version": "3.10.2"
    }
  },
  "nbformat": 4,
  "nbformat_minor": 0
}
