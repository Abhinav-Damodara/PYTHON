{
 "cells": [
  {
   "cell_type": "markdown",
   "metadata": {},
   "source": [
    "Read an entire text file"
   ]
  },
  {
   "cell_type": "code",
   "execution_count": 2,
   "metadata": {},
   "outputs": [
    {
     "name": "stdout",
     "output_type": "stream",
     "text": [
      "Anyaayanga Manasuni Kelikaave\n",
      "Annam Maanesi Ninne Choosela\n",
      "Dhurmarganga Sogasuni Visiraave\n",
      "Nidra Maanesi Ninne Thalachela\n",
      "\n",
      "Ranga Ghorangaa Naa Kalalani Kadhipaave\n",
      "Dhongaa Andhangaa Na Pogaruni Dhochaave\n",
      "Chinchi Athikinchi Irikinchi Vadhilinchi\n",
      "Na Bathukuni Cheda Godithivi Kadhave\n",
      "\n",
      "Kalla Avi Kalavathi\n",
      "Kallolamaindhe Naa Gathi\n",
      "Kuroola Avi Kalaavathi\n",
      "Kullaabodisindi Chaalu Theecome on come on kalavathi\n",
      "come on come on kalavathi\n",
      "come on come on kalavathi\n"
     ]
    }
   ],
   "source": [
    "hemakesh = open(r\"C:\\\\Users\\shema\\OneDrive\\Desktop\\Pandas\\Module 3\\kalavathi.txt\")\n",
    "print(hemakesh.read())"
   ]
  },
  {
   "cell_type": "markdown",
   "metadata": {},
   "source": [
    "Read the first n lines of a file"
   ]
  },
  {
   "cell_type": "code",
   "execution_count": 3,
   "metadata": {},
   "outputs": [
    {
     "name": "stdout",
     "output_type": "stream",
     "text": [
      "Anyaayanga Manasuni Kelikaave\n",
      "\n",
      "Annam Maanesi Ninne Choosela\n",
      "\n",
      "Dhurmarganga Sogasuni Visiraave\n",
      "\n",
      "Nidra Maanesi Ninne Thalachela\n",
      "\n"
     ]
    }
   ],
   "source": [
    "hemakesh = open(r\"C:\\\\Users\\shema\\OneDrive\\Desktop\\Pandas\\Module 3\\kalavathi.txt\")\n",
    "print(hemakesh.readline())\n",
    "print(hemakesh.readline())\n",
    "print(hemakesh.readline())\n",
    "print(hemakesh.readline())"
   ]
  },
  {
   "cell_type": "markdown",
   "metadata": {},
   "source": [
    "Append text to a file and display the text"
   ]
  },
  {
   "cell_type": "code",
   "execution_count": 17,
   "metadata": {},
   "outputs": [
    {
     "name": "stdout",
     "output_type": "stream",
     "text": [
      "Anyaayanga Manasuni Kelikaave\n",
      "Annam Maanesi Ninne Choosela\n",
      "Dhurmarganga Sogasuni Visiraave\n",
      "Nidra Maanesi Ninne Thalachela\n",
      "\n",
      "Ranga Ghorangaa Naa Kalalani Kadhipaave\n",
      "Dhongaa Andhangaa Na Pogaruni Dhochaave\n",
      "Chinchi Athikinchi Irikinchi Vadhilinchi\n",
      "Na Bathukuni Cheda Godithivi Kadhave\n",
      "\n",
      "Kalla Avi Kalavathi\n",
      "Kallolamaindhe Naa Gathi\n",
      "Kuroola Avi Kalaavathi\n",
      "Kullaabodisindi Chaalu Theecome on come on kalavathi\n",
      "come on come on kalavathi\n",
      "come on come on kalavathi\n",
      "come on come on kalavathi\n"
     ]
    }
   ],
   "source": [
    "# append text to a file and display the text #\n",
    "\n",
    "hemakesh = open(r\"C:\\\\Users\\shema\\OneDrive\\Desktop\\Pandas\\Module 3\\kalavathi.txt\",\"a\")\n",
    "hemakesh.write(\"\\ncome on come on kalavathi\")\n",
    "hemakesh.close()\n",
    "\n",
    "# Now read the file #\n",
    "hemakesh = open(r\"C:\\\\Users\\shema\\OneDrive\\Desktop\\Pandas\\Module 3\\kalavathi.txt\")\n",
    "print(hemakesh.read())"
   ]
  },
  {
   "cell_type": "markdown",
   "metadata": {},
   "source": [
    "Read numbers from a file and write even and odd numbers to separate files"
   ]
  },
  {
   "cell_type": "code",
   "execution_count": 1,
   "metadata": {},
   "outputs": [
    {
     "ename": "FileNotFoundError",
     "evalue": "[Errno 2] No such file or directory: 'C:\\\\\\\\Users\\\\shema\\\\OneDrive\\\\Desktop\\\\Pandas\\\\Module 3\\\\num.txt'",
     "output_type": "error",
     "traceback": [
      "\u001b[1;31m---------------------------------------------------------------------------\u001b[0m",
      "\u001b[1;31mFileNotFoundError\u001b[0m                         Traceback (most recent call last)",
      "\u001b[1;32m~\\AppData\\Local\\Temp/ipykernel_8300/1181924880.py\u001b[0m in \u001b[0;36m<module>\u001b[1;34m\u001b[0m\n\u001b[1;32m----> 1\u001b[1;33m \u001b[0mhemakesh\u001b[0m \u001b[1;33m=\u001b[0m \u001b[0mopen\u001b[0m\u001b[1;33m(\u001b[0m\u001b[1;34mr\"C:\\\\Users\\shema\\OneDrive\\Desktop\\Pandas\\Module 3\\num.txt\"\u001b[0m\u001b[1;33m)\u001b[0m\u001b[1;33m\u001b[0m\u001b[1;33m\u001b[0m\u001b[0m\n\u001b[0m\u001b[0;32m      2\u001b[0m \u001b[0meven\u001b[0m\u001b[1;33m=\u001b[0m\u001b[0mopen\u001b[0m\u001b[1;33m(\u001b[0m\u001b[1;34m'C:\\\\Users\\shema\\OneDrive\\Desktop\\Pandas\\Module 3\\even_num.txt'\u001b[0m\u001b[1;33m,\u001b[0m\u001b[1;34m'w'\u001b[0m\u001b[1;33m)\u001b[0m\u001b[1;33m\u001b[0m\u001b[1;33m\u001b[0m\u001b[0m\n\u001b[0;32m      3\u001b[0m \u001b[0modd\u001b[0m\u001b[1;33m=\u001b[0m\u001b[0mopen\u001b[0m\u001b[1;33m(\u001b[0m\u001b[1;34m'C:\\\\Users\\shema\\OneDrive\\Desktop\\Pandas\\Module 3\\odd_num.txt'\u001b[0m\u001b[1;33m,\u001b[0m\u001b[1;34m'w'\u001b[0m\u001b[1;33m)\u001b[0m\u001b[1;33m\u001b[0m\u001b[1;33m\u001b[0m\u001b[0m\n\u001b[0;32m      4\u001b[0m \u001b[0meven\u001b[0m\u001b[1;33m.\u001b[0m\u001b[0mwrite\u001b[0m\u001b[1;33m(\u001b[0m\u001b[1;34m'Even numbers:\\n'\u001b[0m\u001b[1;33m)\u001b[0m\u001b[1;33m\u001b[0m\u001b[1;33m\u001b[0m\u001b[0m\n\u001b[0;32m      5\u001b[0m \u001b[0modd\u001b[0m\u001b[1;33m.\u001b[0m\u001b[0mwrite\u001b[0m\u001b[1;33m(\u001b[0m\u001b[1;34m'Odd numbers:\\n'\u001b[0m\u001b[1;33m)\u001b[0m\u001b[1;33m\u001b[0m\u001b[1;33m\u001b[0m\u001b[0m\n",
      "\u001b[1;31mFileNotFoundError\u001b[0m: [Errno 2] No such file or directory: 'C:\\\\\\\\Users\\\\shema\\\\OneDrive\\\\Desktop\\\\Pandas\\\\Module 3\\\\num.txt'"
     ]
    }
   ],
   "source": [
    "hemakesh = open(r\"C:\\\\Users\\shema\\OneDrive\\Desktop\\Pandas\\Module 3\\num.txt\")\n",
    "even=open('C:\\\\Users\\shema\\OneDrive\\Desktop\\Pandas\\Module 3\\even_num.txt','w')\n",
    "odd=open('C:\\\\Users\\shema\\OneDrive\\Desktop\\Pandas\\Module 3\\odd_num.txt','w')\n",
    "even.write('Even numbers:\\n')\n",
    "odd.write('Odd numbers:\\n')\n",
    "for i in hemakesh:\n",
    "  if int(i)%2==0:\n",
    "    even=open('C:\\\\Users\\shema\\OneDrive\\Desktop\\Pandas\\Module 3\\even_num.txt','a')\n",
    "    even.write(i)\n",
    "  else:\n",
    "    odd=open('C:\\\\Users\\shema\\OneDrive\\Desktop\\Pandas\\Module 3\\odd_num.txt','a')\n",
    "    odd.write(i)\n",
    "even.close()\n",
    "odd.close()\n",
    "even=open('C:\\\\Users\\shema\\OneDrive\\Desktop\\Pandas\\Module 3\\even_num.txt','r')\n",
    "print(even.read())\n",
    "even.close()\n",
    "odd=open('C:\\\\Users\\shema\\OneDrive\\Desktop\\Pandas\\Module 3\\odd_num.txt','r')\n",
    "print(odd.read())\n",
    "odd.close()"
   ]
  },
  {
   "cell_type": "markdown",
   "metadata": {},
   "source": [
    "Count characters, words and lines in a text file"
   ]
  },
  {
   "cell_type": "code",
   "execution_count": 8,
   "metadata": {},
   "outputs": [
    {
     "name": "stdout",
     "output_type": "stream",
     "text": [
      "16 59 454\n"
     ]
    }
   ],
   "source": [
    "hemakesh = open(r\"C:\\\\Users\\shema\\OneDrive\\Desktop\\Pandas\\Module 3\\kalavathi.txt\")\n",
    "lines=0\n",
    "words=0\n",
    "characters=0\n",
    "for x in hemakesh:\n",
    "    lines=lines+1\n",
    "    W=x.split()\n",
    "    words=words+len(W)\n",
    "    characters=characters+len(x)\n",
    "print(lines,words,characters)"
   ]
  },
  {
   "cell_type": "markdown",
   "metadata": {},
   "source": [
    "To write a list to a file"
   ]
  },
  {
   "cell_type": "code",
   "execution_count": 14,
   "metadata": {},
   "outputs": [
    {
     "name": "stdout",
     "output_type": "stream",
     "text": [
      "21\n",
      "27\n",
      "30\n"
     ]
    }
   ],
   "source": [
    "hemakesh = [\"You can steal my love\",\"You can steal my friendship\",\"But, you can't steal my money.\"]\n",
    "for v in hemakesh:\n",
    "    h1=open(r\"C:\\\\Users\\shema\\OneDrive\\Desktop\\Pandas\\Module 3\\file.txt\",\"a\")\n",
    "    print(h1.write(v))\n",
    "    h1.close()"
   ]
  },
  {
   "cell_type": "markdown",
   "metadata": {},
   "source": [
    "Given a CSV file or excel file to read it into a dataframe and display it"
   ]
  },
  {
   "cell_type": "code",
   "execution_count": 1,
   "metadata": {},
   "outputs": [
    {
     "name": "stdout",
     "output_type": "stream",
     "text": [
      "      Name Occupation  Salary\n",
      "0    Mohan        Emp  100000\n",
      "1   Lokesh    Jr Mngr  250000\n",
      "2  Pradeep     Intern   25000\n",
      "3    Nehal        Emp  100000\n",
      "4     Sami    Sr Mngr  300000\n",
      "5   Puneet     Intern   25000\n",
      "6  Abhinav        Emp  100000\n",
      "7  Sankalp    Jr Mngr  250000\n",
      "8   Vishnu        Emp  100000\n",
      "9   Aditya    Sr Mngr  300000\n"
     ]
    }
   ],
   "source": [
    "import pandas as pd\n",
    "a = pd.read_csv('Employee details.csv')\n",
    "print(a)"
   ]
  },
  {
   "cell_type": "markdown",
   "metadata": {},
   "source": [
    "Given a CSV file or excel file to read it into a dataframe and display it"
   ]
  },
  {
   "cell_type": "code",
   "execution_count": 2,
   "metadata": {},
   "outputs": [
    {
     "name": "stdout",
     "output_type": "stream",
     "text": [
      "Name           Mohan\n",
      "Occupation       Emp\n",
      "Salary        100000\n",
      "Name: 0, dtype: object\n",
      "Name           Lokesh\n",
      "Occupation    Jr Mngr\n",
      "Salary         250000\n",
      "Name: 1, dtype: object\n"
     ]
    }
   ],
   "source": [
    "import pandas as pd\n",
    "hemakesh = pd.read_csv('Employee details.csv')\n",
    "print(a.loc[0])\n",
    "print(a.loc[1])"
   ]
  },
  {
   "cell_type": "markdown",
   "metadata": {},
   "source": [
    "Given is a dataframe showing the name, occupation, salary of people. Find the\n",
    "average salary per occupation"
   ]
  },
  {
   "cell_type": "code",
   "execution_count": 10,
   "metadata": {},
   "outputs": [
    {
     "name": "stdout",
     "output_type": "stream",
     "text": [
      "Occupation\n",
      "Emp        100000.0\n",
      "Intern      25000.0\n",
      "Jr Mngr    250000.0\n",
      "Sr Mngr    300000.0\n",
      "Name: Salary, dtype: float64\n"
     ]
    }
   ],
   "source": [
    "import pandas as pd\n",
    "hemakesh = pd.read_csv('Employee details.csv')\n",
    "h1 = hemakesh.groupby('Occupation')['Salary'].mean()\n",
    "print(h1)"
   ]
  },
  {
   "cell_type": "markdown",
   "metadata": {},
   "source": [
    "To convert Python objects into JSON strings. Print all the values"
   ]
  },
  {
   "cell_type": "code",
   "execution_count": 19,
   "metadata": {},
   "outputs": [
    {
     "name": "stdout",
     "output_type": "stream",
     "text": [
      "{\"Movie\": \"Sarkaru Vaari Paata\", \"Hero\": \"Mahesh Babu\", \"Director\": \"Parasuram\", \" Best Dialogue\": \"This is Mahesh reporting from chepalapuda beach sir.\"}\n"
     ]
    }
   ],
   "source": [
    "import json\n",
    "\n",
    "hemakesh = {\n",
    "    \"Movie\":\"Sarkaru Vaari Paata\",\n",
    "    \"Hero\":\"Mahesh Babu\",\n",
    "    \"Director\":\"Parasuram\",\n",
    "    \" Best Dialogue\":\"This is Mahesh reporting from chepalapuda beach sir.\"\n",
    "}\n",
    "\n",
    "hemakesh1 = json.dumps(hemakesh)\n",
    "\n",
    "print(hemakesh1)"
   ]
  },
  {
   "cell_type": "markdown",
   "metadata": {},
   "source": [
    "Write a Pandas program to read specific columns from a given excel file"
   ]
  },
  {
   "cell_type": "code",
   "execution_count": 16,
   "metadata": {},
   "outputs": [
    {
     "name": "stdout",
     "output_type": "stream",
     "text": [
      "      Name Occupation\n",
      "0    Mohan        Emp\n",
      "1   Lokesh    Jr Mngr\n",
      "2  Pradeep     Intern\n",
      "3    Nehal        Emp\n",
      "4     Sami    Sr Mngr\n",
      "5   Puneet     Intern\n",
      "6  Abhinav        Emp\n",
      "7  Sankalp    Jr Mngr\n",
      "8   Vishnu        Emp\n",
      "9   Aditya    Sr Mngr\n"
     ]
    }
   ],
   "source": [
    "import pandas as pd\n",
    "cols=[0,1]\n",
    "hemakesh = pd.read_csv('Employee details.csv',usecols=cols)\n",
    "print(hemakesh)"
   ]
  }
 ],
 "metadata": {
  "interpreter": {
   "hash": "a24103e60a708e2e24dfec4ce948bd34ffa43c8d8e1954c309f8b6a4a9649f0b"
  },
  "kernelspec": {
   "display_name": "Python 3.9.7 ('base')",
   "language": "python",
   "name": "python3"
  },
  "language_info": {
   "codemirror_mode": {
    "name": "ipython",
    "version": 3
   },
   "file_extension": ".py",
   "mimetype": "text/x-python",
   "name": "python",
   "nbconvert_exporter": "python",
   "pygments_lexer": "ipython3",
   "version": "3.9.7"
  },
  "orig_nbformat": 4
 },
 "nbformat": 4,
 "nbformat_minor": 2
}
